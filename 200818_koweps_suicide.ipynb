{
 "cells": [
  {
   "cell_type": "code",
   "execution_count": 9,
   "metadata": {},
   "outputs": [],
   "source": [
    "library(dplyr)\n",
    "library(ggplot2)\n",
    "library(readxl)\n",
    "library(foreign)"
   ]
  },
  {
   "cell_type": "code",
   "execution_count": 10,
   "metadata": {},
   "outputs": [
    {
     "name": "stderr",
     "output_type": "stream",
     "text": [
      "Warning message in read.spss(file = \"C:/Users/admin/Desktop/Big_data/R/Doit_code/excel/koweps/Koweps_hpc10_2015_beta1.sav\", :\n",
      "\"C:/Users/admin/Desktop/Big_data/R/Doit_code/excel/koweps/Koweps_hpc10_2015_beta1.sav: Compression bias (0) is not the usual value of 100\""
     ]
    }
   ],
   "source": [
    "raw_welfare <- read.spss(file = 'C:/Users/admin/Desktop/Big_data/R/Doit_code/excel/koweps/Koweps_hpc10_2015_beta1.sav', to.data.frame=T)"
   ]
  },
  {
   "cell_type": "code",
   "execution_count": 12,
   "metadata": {},
   "outputs": [],
   "source": [
    "welfare <- raw_welfare"
   ]
  },
  {
   "cell_type": "code",
   "execution_count": 13,
   "metadata": {},
   "outputs": [
    {
     "data": {
      "text/plain": [
       "\n",
       "  1   2   9 \n",
       " 21 257  50 "
      ]
     },
     "metadata": {},
     "output_type": "display_data"
    }
   ],
   "source": [
    "table(welfare$p1005_6aq1)"
   ]
  },
  {
   "cell_type": "code",
   "execution_count": 20,
   "metadata": {},
   "outputs": [
    {
     "ename": "ERROR",
     "evalue": "Error in .f(.x[[i]], ...): 객체 'p1005_6aq1'를 찾을 수 없습니다\n",
     "output_type": "error",
     "traceback": [
      "Error in .f(.x[[i]], ...): 객체 'p1005_6aq1'를 찾을 수 없습니다\nTraceback:\n",
      "1. rename(welfare, suic = p1005_6aq1, sex = h10_g3)",
      "2. rename.data.frame(welfare, suic = p1005_6aq1, sex = h10_g3)",
      "3. tidyselect::vars_rename(names(.data), !!!quos(...))",
      "4. vars_rename_eval(quos, .vars)",
      "5. map_if(quos, is_symbol, eval_tidy, data)",
      "6. map(.x[sel], .f, ...)",
      "7. .f(.x[[i]], ...)"
     ]
    }
   ],
   "source": [
    "welfare <- rename(welfare, \n",
    "                  suic = p1005_6aq1)\n",
    "table(welfare$suic)"
   ]
  },
  {
   "cell_type": "code",
   "execution_count": 19,
   "metadata": {},
   "outputs": [
    {
     "data": {
      "text/plain": [
       "\n",
       "  1   2 \n",
       " 21 257 "
      ]
     },
     "metadata": {},
     "output_type": "display_data"
    },
    {
     "data": {
      "text/plain": [
       "\n",
       "FALSE  TRUE \n",
       "  278 16386 "
      ]
     },
     "metadata": {},
     "output_type": "display_data"
    }
   ],
   "source": [
    "welfare$suic <- ifelse(welfare$suic == 9, NA, welfare$suic)\n",
    "table(welfare$suic)\n",
    "table(is.na(welfare$suic))"
   ]
  },
  {
   "cell_type": "code",
   "execution_count": 21,
   "metadata": {},
   "outputs": [],
   "source": [
    "welfare <- rename(welfare, \n",
    "                  sex = h10_g3)"
   ]
  },
  {
   "cell_type": "code",
   "execution_count": 22,
   "metadata": {},
   "outputs": [
    {
     "data": {
      "text/plain": [
       "\n",
       " NO YES \n",
       "257  21 "
      ]
     },
     "metadata": {},
     "output_type": "display_data"
    }
   ],
   "source": [
    "welfare$suic <- ifelse(welfare$suic == 1, 'YES', 'NO')\n",
    "table(welfare$suic)"
   ]
  },
  {
   "cell_type": "code",
   "execution_count": 27,
   "metadata": {},
   "outputs": [],
   "source": [
    "welfare$sex <- ifelse(welfare$sex == 1, 'Male', 'Female')"
   ]
  },
  {
   "cell_type": "code",
   "execution_count": 37,
   "metadata": {},
   "outputs": [
    {
     "data": {
      "text/html": [
       "<table>\n",
       "<thead><tr><th scope=col>sex</th><th scope=col>n</th><th scope=col>total</th><th scope=col>pct</th></tr></thead>\n",
       "<tbody>\n",
       "\t<tr><td>Female  </td><td>14      </td><td>21      </td><td>66.66667</td></tr>\n",
       "\t<tr><td>Male    </td><td> 7      </td><td>21      </td><td>33.33333</td></tr>\n",
       "</tbody>\n",
       "</table>\n"
      ],
      "text/latex": [
       "\\begin{tabular}{r|llll}\n",
       " sex & n & total & pct\\\\\n",
       "\\hline\n",
       "\t Female   & 14       & 21       & 66.66667\\\\\n",
       "\t Male     &  7       & 21       & 33.33333\\\\\n",
       "\\end{tabular}\n"
      ],
      "text/markdown": [
       "\n",
       "| sex | n | total | pct |\n",
       "|---|---|---|---|\n",
       "| Female   | 14       | 21       | 66.66667 |\n",
       "| Male     |  7       | 21       | 33.33333 |\n",
       "\n"
      ],
      "text/plain": [
       "  sex    n  total pct     \n",
       "1 Female 14 21    66.66667\n",
       "2 Male    7 21    33.33333"
      ]
     },
     "metadata": {},
     "output_type": "display_data"
    }
   ],
   "source": [
    "sex_suic <- welfare %>%\n",
    "    select(sex, suic) %>%\n",
    "    filter(!is.na(suic) & suic == 'YES') %>%\n",
    "    group_by(sex) %>%\n",
    "    summarise(n = n()) %>%\n",
    "    mutate(total = sum(n)) %>%\n",
    "    mutate(pct = n/total*100)\n",
    "sex_suic"
   ]
  },
  {
   "cell_type": "code",
   "execution_count": 38,
   "metadata": {},
   "outputs": [
    {
     "data": {
      "image/png": "[encoded data removed]",
      "text/plain": [
       "plot without title"
      ]
     },
     "metadata": {},
     "output_type": "display_data"
    }
   ],
   "source": [
    "ggplot(sex_suic, aes(x = sex, y = pct, fill = sex)) +\n",
    "    geom_col()"
   ]
  },
  {
   "cell_type": "code",
   "execution_count": null,
   "metadata": {},
   "outputs": [],
   "source": []
  }
 ],
 "metadata": {
  "kernelspec": {
   "display_name": "R",
   "language": "R",
   "name": "ir"
  },
  "language_info": {
   "codemirror_mode": "r",
   "file_extension": ".r",
   "mimetype": "text/x-r-source",
   "name": "R",
   "pygments_lexer": "r",
   "version": "3.6.1"
  }
 },
 "nbformat": 4,
 "nbformat_minor": 4
}
