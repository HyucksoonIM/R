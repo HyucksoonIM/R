{
 "cells": [
  {
   "cell_type": "code",
   "execution_count": 1,
   "metadata": {
    "collapsed": true
   },
   "outputs": [
    {
     "name": "stderr",
     "output_type": "stream",
     "text": [
      "\n",
      "Attaching package: 'dplyr'\n",
      "\n",
      "The following objects are masked from 'package:stats':\n",
      "\n",
      "    filter, lag\n",
      "\n",
      "The following objects are masked from 'package:base':\n",
      "\n",
      "    intersect, setdiff, setequal, union\n",
      "\n",
      "Registered S3 methods overwritten by 'ggplot2':\n",
      "  method         from \n",
      "  [.quosures     rlang\n",
      "  c.quosures     rlang\n",
      "  print.quosures rlang\n"
     ]
    }
   ],
   "source": [
    "library(foreign)\n",
    "library(dplyr)\n",
    "library(ggplot2)\n",
    "library(readxl)\n"
   ]
  },
  {
   "cell_type": "code",
   "execution_count": 2,
   "metadata": {},
   "outputs": [
    {
     "name": "stderr",
     "output_type": "stream",
     "text": [
      "Warning message in read.spss(\"C:/Users/admin/Desktop/Big_data/R/Miniproject_200818/koweps_hp01_14_long_beta1.sav\", :\n",
      "\"C:/Users/admin/Desktop/Big_data/R/Miniproject_200818/koweps_hp01_14_long_beta1.sav: Very long string record(s) found (record type 7, subtype 14), each will be imported in consecutive separate variables\""
     ]
    }
   ],
   "source": [
    "raw_data<-read.spss(\"C:/Users/admin/Desktop/Big_data/R/Miniproject_200818/koweps_hp01_14_long_beta1.sav\", to.data.frame=T)"
   ]
  },
  {
   "cell_type": "code",
   "execution_count": 3,
   "metadata": {},
   "outputs": [],
   "source": [
    "data<-raw_data"
   ]
  },
  {
   "cell_type": "code",
   "execution_count": 82,
   "metadata": {},
   "outputs": [
    {
     "data": {
      "text/html": [
       "<ol class=list-inline>\n",
       "\t<li>230679</li>\n",
       "\t<li>2506</li>\n",
       "</ol>\n"
      ],
      "text/latex": [
       "\\begin{enumerate*}\n",
       "\\item 230679\n",
       "\\item 2506\n",
       "\\end{enumerate*}\n"
      ],
      "text/markdown": [
       "1. 230679\n",
       "2. 2506\n",
       "\n",
       "\n"
      ],
      "text/plain": [
       "[1] 230679   2506"
      ]
     },
     "metadata": {},
     "output_type": "display_data"
    }
   ],
   "source": [
    "dim(raw_data)"
   ]
  },
  {
   "cell_type": "code",
   "execution_count": 4,
   "metadata": {},
   "outputs": [],
   "source": [
    "data <- rename(data, \n",
    "               sex = h_g3, \n",
    "               Year = h_g4, \n",
    "               work_type = np06_9, \n",
    "               cert1 = np06_28, \n",
    "               cert2 = np06_29,\n",
    "               cert3 = np06_30)"
   ]
  },
  {
   "cell_type": "code",
   "execution_count": 5,
   "metadata": {},
   "outputs": [
    {
     "data": {
      "text/html": [
       "'numeric'"
      ],
      "text/latex": [
       "'numeric'"
      ],
      "text/markdown": [
       "'numeric'"
      ],
      "text/plain": [
       "[1] \"numeric\""
      ]
     },
     "metadata": {},
     "output_type": "display_data"
    }
   ],
   "source": [
    "class(data$Year)"
   ]
  },
  {
   "cell_type": "code",
   "execution_count": 6,
   "metadata": {},
   "outputs": [],
   "source": [
    "data$sex <- ifelse(data$sex == 1, 'male', 'female')\n",
    "data$Year <- ifelse((17 < data$year-data$Year) & (data$year-data$Year) < 35, \n",
    "                     data$year, NA)"
   ]
  },
  {
   "cell_type": "code",
   "execution_count": 7,
   "metadata": {
    "collapsed": true
   },
   "outputs": [
    {
     "data": {
      "text/plain": [
       "\n",
       "female   male \n",
       "124552 106127 "
      ]
     },
     "metadata": {},
     "output_type": "display_data"
    },
    {
     "data": {
      "text/plain": [
       "\n",
       "2005 2006 2007 2008 2009 2010 2011 2012 2013 2014 2015 2016 2017 2018 \n",
       "3807 3347 3131 2932 2741 2507 2941 2832 2645 2532 2413 2310 2228 2145 "
      ]
     },
     "metadata": {},
     "output_type": "display_data"
    }
   ],
   "source": [
    "table(data$sex)\n",
    "table(data$Year)"
   ]
  },
  {
   "cell_type": "code",
   "execution_count": 8,
   "metadata": {},
   "outputs": [],
   "source": [
    "reg_data <- data %>%\n",
    "    filter(!is.na(sex) &!is.na(Year) &!is.na(work_type))\n",
    "cert_data <- data %>%\n",
    "    filter(!is.na(sex) &!is.na(Year) \n",
    "           &!is.na(cert1) &!is.na(cert2) &!is.na(cert3))"
   ]
  },
  {
   "cell_type": "code",
   "execution_count": 9,
   "metadata": {
    "collapsed": true
   },
   "outputs": [
    {
     "data": {
      "text/html": [
       "<table>\n",
       "<thead><tr><th scope=col>h_merkey</th><th scope=col>h_pid</th><th scope=col>year</th><th scope=col>wv</th><th scope=col>wv_num</th><th scope=col>first_wv</th><th scope=col>last_wv</th><th scope=col>p_wsl</th><th scope=col>p_wsc</th><th scope=col>p_wgl</th><th scope=col>...</th><th scope=col>c05_34</th><th scope=col>c05_35</th><th scope=col>c05_37</th><th scope=col>c05_39</th><th scope=col>c05_41</th><th scope=col>c05_43</th><th scope=col>c05_45</th><th scope=col>c05_47</th><th scope=col>c05_49</th><th scope=col>release_date</th></tr></thead>\n",
       "<tbody>\n",
       "\t<tr><td> 50101   </td><td> 503     </td><td>2005     </td><td> 1       </td><td> 1       </td><td> 1       </td><td> 1       </td><td>0.5955199</td><td>0.5955199</td><td>1485.6865</td><td>...      </td><td>NA       </td><td>NA       </td><td>NA       </td><td>NA       </td><td>NA       </td><td>NA       </td><td>NA       </td><td>NA       </td><td>NA       </td><td>200407   </td></tr>\n",
       "\t<tr><td>150101   </td><td>1501     </td><td>2005     </td><td> 1       </td><td>14       </td><td> 1       </td><td>14       </td><td>0.3304359</td><td>0.3304359</td><td> 824.3622</td><td>...      </td><td>NA       </td><td>NA       </td><td>NA       </td><td>NA       </td><td>NA       </td><td>NA       </td><td>NA       </td><td>NA       </td><td>NA       </td><td>200407   </td></tr>\n",
       "\t<tr><td>150101   </td><td>1502     </td><td>2005     </td><td> 1       </td><td>14       </td><td> 1       </td><td>14       </td><td>0.3304359</td><td>0.3304359</td><td> 824.3622</td><td>...      </td><td>NA       </td><td>NA       </td><td>NA       </td><td>NA       </td><td>NA       </td><td>NA       </td><td>NA       </td><td>NA       </td><td>NA       </td><td>200407   </td></tr>\n",
       "\t<tr><td>200101   </td><td>2001     </td><td>2005     </td><td> 1       </td><td>14       </td><td> 1       </td><td>14       </td><td>0.9704437</td><td>0.9704437</td><td>2421.0361</td><td>...      </td><td>NA       </td><td>NA       </td><td>NA       </td><td>NA       </td><td>NA       </td><td>NA       </td><td>NA       </td><td>NA       </td><td>NA       </td><td>200407   </td></tr>\n",
       "\t<tr><td>200101   </td><td>2002     </td><td>2005     </td><td> 1       </td><td>14       </td><td> 1       </td><td>14       </td><td>0.9704437</td><td>0.9704437</td><td>2421.0361</td><td>...      </td><td>NA       </td><td>NA       </td><td>NA       </td><td>NA       </td><td>NA       </td><td>NA       </td><td>NA       </td><td>NA       </td><td>NA       </td><td>200407   </td></tr>\n",
       "\t<tr><td>200901   </td><td>2051     </td><td>2015     </td><td>11       </td><td> 4       </td><td>11       </td><td>14       </td><td>0.0000000</td><td>0.5899945</td><td>   0.0000</td><td>...      </td><td>NA       </td><td>NA       </td><td>NA       </td><td>NA       </td><td>NA       </td><td>NA       </td><td>NA       </td><td>NA       </td><td>NA       </td><td>200407   </td></tr>\n",
       "</tbody>\n",
       "</table>\n"
      ],
      "text/latex": [
       "\\begin{tabular}{r|llllllllllllllllllllllllllllllllllllllllllllllllllllllllllllllllllllllllllllllllllllllllllllllllllllllllllllllllllllllllllllllllllllllllllllllllllllllllllllllllllllllllllllllllllllllllllllllllllllllllllllllllllllllllllllllllllllllllllllllllllllllllllllllllllllllllllllllllllllllllllllllllllllllllllllllllllllllllllllllllllllllllllllllllllllllllllllllllllllllllllllllllllllllllllllllllllllllllllllllllllllllllllllllllllllllllllllllllllllllllllllllllllllllllllllllllllllllllllllllllllllllllllllllllllllllllllllllllllllllllllllllllllllllllllllllllllllllllllllllllllllllllllllllllllllllllllllllllllllllllllllllllllllllllllllllllllllllllllllllllllllllllllllllllllllllllllllllllllllllllllllllllllllllllllllllllllllllllllllllllllllllllllllllllllllllllllllllllllllllllllllllllllllllllllllllllllllllllllllllllllllllllllllllllllllllllllllllllllllllllllllllllllllllllllllllllllllllllllllllllllllllllllllllllllllllllllllllllllllllllllllllllllllllllllllllllllllllllllllllllllllllllllllllllllllllllllllllllllllllllllllllllllllllllllllllllllllllllllllllllllllllllllllllllllllllllllllllllllllllllllllllllllllllllllllllllllllllllllllllllllllllllllllllllllllllllllllllllllllllllllllllllllllllllllllllllllllllllllllllllllllllllllllllllllllllllllllllllllllllllllllllllllllllllllllllllllllllllllllllllllllllllllllllllllllllllllllllllllllllllllllllllllllllllllllllllllllllllllllllllllllllllllllllllllllllllllllllllllllllllllllllllllllllllllllllllllllllllllllllllllllllllllllllllllllllllllllllllllllllllllllllllllllllllllllllllllllllllllllllllllllllllllllllllllllllllllllllllllllllllllllllllllllllllllllllllllllllllllllllllllllllllllllllllllllllllllllllllllllllllllllllllllllllllllllllllllllllllllllllllllllllllllllllllllllllllllllllllllllllllllllllllllllllllllllllllllllllllllllllllllllllllllllllllllllllllllllllllllllllllllllllllllllllllllllllllllllllllllllllllllllllllllllllllllllllllllllllllllllllllllllllllllllllllllllllllllllllllllllllllllllllllllllllllllllllllllllllllllllllllllllllllllllllllllllllllllllllllllllllllllllllllllllllllllllllllllllllllllllllllllllllllllllllllllllllllllllllllllllllllllllllllllllllllllllllllllllllllllllllllllllllllllllllllllllllllllllllllllllllllllllllllllllllllllllllllllllllllllllllllllllllllllllllllllllllllllllllllllllllllllllllllllllllllllllllllllllllllllllllllllllllllllllllllllllllllllllllllllllllllllllllllllllllllllllllllllllllllllllllllllllllllllllllllllllllllllllllllllllllllllllllllllllllllllllllllllllllllllllllllllllllllllllllllllllllllllllllllllllllllllllllllllllllllllllllllll}\n",
       " h\\_merkey & h\\_pid & year & wv & wv\\_num & first\\_wv & last\\_wv & p\\_wsl & p\\_wsc & p\\_wgl & ... & c05\\_34 & c05\\_35 & c05\\_37 & c05\\_39 & c05\\_41 & c05\\_43 & c05\\_45 & c05\\_47 & c05\\_49 & release\\_date\\\\\n",
       "\\hline\n",
       "\t  50101    &  503      & 2005      &  1        &  1        &  1        &  1        & 0.5955199 & 0.5955199 & 1485.6865 & ...       & NA        & NA        & NA        & NA        & NA        & NA        & NA        & NA        & NA        & 200407   \\\\\n",
       "\t 150101    & 1501      & 2005      &  1        & 14        &  1        & 14        & 0.3304359 & 0.3304359 &  824.3622 & ...       & NA        & NA        & NA        & NA        & NA        & NA        & NA        & NA        & NA        & 200407   \\\\\n",
       "\t 150101    & 1502      & 2005      &  1        & 14        &  1        & 14        & 0.3304359 & 0.3304359 &  824.3622 & ...       & NA        & NA        & NA        & NA        & NA        & NA        & NA        & NA        & NA        & 200407   \\\\\n",
       "\t 200101    & 2001      & 2005      &  1        & 14        &  1        & 14        & 0.9704437 & 0.9704437 & 2421.0361 & ...       & NA        & NA        & NA        & NA        & NA        & NA        & NA        & NA        & NA        & 200407   \\\\\n",
       "\t 200101    & 2002      & 2005      &  1        & 14        &  1        & 14        & 0.9704437 & 0.9704437 & 2421.0361 & ...       & NA        & NA        & NA        & NA        & NA        & NA        & NA        & NA        & NA        & 200407   \\\\\n",
       "\t 200901    & 2051      & 2015      & 11        &  4        & 11        & 14        & 0.0000000 & 0.5899945 &    0.0000 & ...       & NA        & NA        & NA        & NA        & NA        & NA        & NA        & NA        & NA        & 200407   \\\\\n",
       "\\end{tabular}\n"
      ],
      "text/markdown": [
       "\n",
       "| h_merkey | h_pid | year | wv | wv_num | first_wv | last_wv | p_wsl | p_wsc | p_wgl | ... | c05_34 | c05_35 | c05_37 | c05_39 | c05_41 | c05_43 | c05_45 | c05_47 | c05_49 | release_date |\n",
       "|---|---|---|---|---|---|---|---|---|---|---|---|---|---|---|---|---|---|---|---|---|\n",
       "|  50101    |  503      | 2005      |  1        |  1        |  1        |  1        | 0.5955199 | 0.5955199 | 1485.6865 | ...       | NA        | NA        | NA        | NA        | NA        | NA        | NA        | NA        | NA        | 200407    |\n",
       "| 150101    | 1501      | 2005      |  1        | 14        |  1        | 14        | 0.3304359 | 0.3304359 |  824.3622 | ...       | NA        | NA        | NA        | NA        | NA        | NA        | NA        | NA        | NA        | 200407    |\n",
       "| 150101    | 1502      | 2005      |  1        | 14        |  1        | 14        | 0.3304359 | 0.3304359 |  824.3622 | ...       | NA        | NA        | NA        | NA        | NA        | NA        | NA        | NA        | NA        | 200407    |\n",
       "| 200101    | 2001      | 2005      |  1        | 14        |  1        | 14        | 0.9704437 | 0.9704437 | 2421.0361 | ...       | NA        | NA        | NA        | NA        | NA        | NA        | NA        | NA        | NA        | 200407    |\n",
       "| 200101    | 2002      | 2005      |  1        | 14        |  1        | 14        | 0.9704437 | 0.9704437 | 2421.0361 | ...       | NA        | NA        | NA        | NA        | NA        | NA        | NA        | NA        | NA        | 200407    |\n",
       "| 200901    | 2051      | 2015      | 11        |  4        | 11        | 14        | 0.0000000 | 0.5899945 |    0.0000 | ...       | NA        | NA        | NA        | NA        | NA        | NA        | NA        | NA        | NA        | 200407    |\n",
       "\n"
      ],
      "text/plain": [
       "  h_merkey h_pid year wv wv_num first_wv last_wv p_wsl     p_wsc     p_wgl    \n",
       "1  50101    503  2005  1  1      1        1      0.5955199 0.5955199 1485.6865\n",
       "2 150101   1501  2005  1 14      1       14      0.3304359 0.3304359  824.3622\n",
       "3 150101   1502  2005  1 14      1       14      0.3304359 0.3304359  824.3622\n",
       "4 200101   2001  2005  1 14      1       14      0.9704437 0.9704437 2421.0361\n",
       "5 200101   2002  2005  1 14      1       14      0.9704437 0.9704437 2421.0361\n",
       "6 200901   2051  2015 11  4     11       14      0.0000000 0.5899945    0.0000\n",
       "  ... c05_34 c05_35 c05_37 c05_39 c05_41 c05_43 c05_45 c05_47 c05_49\n",
       "1 ... NA     NA     NA     NA     NA     NA     NA     NA     NA    \n",
       "2 ... NA     NA     NA     NA     NA     NA     NA     NA     NA    \n",
       "3 ... NA     NA     NA     NA     NA     NA     NA     NA     NA    \n",
       "4 ... NA     NA     NA     NA     NA     NA     NA     NA     NA    \n",
       "5 ... NA     NA     NA     NA     NA     NA     NA     NA     NA    \n",
       "6 ... NA     NA     NA     NA     NA     NA     NA     NA     NA    \n",
       "  release_date\n",
       "1 200407      \n",
       "2 200407      \n",
       "3 200407      \n",
       "4 200407      \n",
       "5 200407      \n",
       "6 200407      "
      ]
     },
     "metadata": {},
     "output_type": "display_data"
    },
    {
     "data": {
      "text/html": [
       "<table>\n",
       "<thead><tr><th scope=col>h_merkey</th><th scope=col>h_pid</th><th scope=col>year</th><th scope=col>wv</th><th scope=col>wv_num</th><th scope=col>first_wv</th><th scope=col>last_wv</th><th scope=col>p_wsl</th><th scope=col>p_wsc</th><th scope=col>p_wgl</th><th scope=col>...</th><th scope=col>c05_34</th><th scope=col>c05_35</th><th scope=col>c05_37</th><th scope=col>c05_39</th><th scope=col>c05_41</th><th scope=col>c05_43</th><th scope=col>c05_45</th><th scope=col>c05_47</th><th scope=col>c05_49</th><th scope=col>release_date</th></tr></thead>\n",
       "<tbody>\n",
       "\t<tr><td>1190101  </td><td>11904    </td><td>2011     </td><td>7        </td><td>10       </td><td>1        </td><td>10       </td><td>1.1900939</td><td>1.1395051</td><td>4058.220 </td><td>...      </td><td>NA       </td><td>NA       </td><td>NA       </td><td>NA       </td><td>NA       </td><td>NA       </td><td>NA       </td><td>NA       </td><td>NA       </td><td>200407   </td></tr>\n",
       "\t<tr><td>1600101  </td><td>16002    </td><td>2005     </td><td>1        </td><td> 4       </td><td>1        </td><td> 4       </td><td>1.8091685</td><td>1.8091685</td><td>4513.463 </td><td>...      </td><td>NA       </td><td>NA       </td><td>NA       </td><td>NA       </td><td>NA       </td><td>NA       </td><td>NA       </td><td>NA       </td><td>NA       </td><td>200407   </td></tr>\n",
       "\t<tr><td>2320101  </td><td>23202    </td><td>2005     </td><td>1        </td><td> 2       </td><td>1        </td><td> 2       </td><td>1.0756211</td><td>1.0756210</td><td>2683.430 </td><td>...      </td><td>NA       </td><td>NA       </td><td>NA       </td><td>NA       </td><td>NA       </td><td>NA       </td><td>NA       </td><td>NA       </td><td>NA       </td><td>200407   </td></tr>\n",
       "\t<tr><td>2430101  </td><td>24303    </td><td>2005     </td><td>1        </td><td> 7       </td><td>1        </td><td>11       </td><td>0.9148793</td><td>0.9148793</td><td>2282.415 </td><td>...      </td><td>NA       </td><td>NA       </td><td>NA       </td><td>NA       </td><td>NA       </td><td>NA       </td><td>NA       </td><td>NA       </td><td>NA       </td><td>200407   </td></tr>\n",
       "\t<tr><td>2480101  </td><td>24801    </td><td>2005     </td><td>1        </td><td>14       </td><td>1        </td><td>14       </td><td>1.7169844</td><td>1.7169844</td><td>4283.485 </td><td>...      </td><td>NA       </td><td>NA       </td><td>NA       </td><td>NA       </td><td>NA       </td><td>NA       </td><td>NA       </td><td>NA       </td><td>NA       </td><td>200407   </td></tr>\n",
       "\t<tr><td>3610101  </td><td>36104    </td><td>2005     </td><td>1        </td><td>14       </td><td>1        </td><td>14       </td><td>1.6784140</td><td>1.6784140</td><td>4187.260 </td><td>...      </td><td>NA       </td><td>NA       </td><td>NA       </td><td>NA       </td><td>NA       </td><td>NA       </td><td>NA       </td><td>NA       </td><td>NA       </td><td>200407   </td></tr>\n",
       "</tbody>\n",
       "</table>\n"
      ],
      "text/latex": [
       "\\begin{tabular}{r|llllllllllllllllllllllllllllllllllllllllllllllllllllllllllllllllllllllllllllllllllllllllllllllllllllllllllllllllllllllllllllllllllllllllllllllllllllllllllllllllllllllllllllllllllllllllllllllllllllllllllllllllllllllllllllllllllllllllllllllllllllllllllllllllllllllllllllllllllllllllllllllllllllllllllllllllllllllllllllllllllllllllllllllllllllllllllllllllllllllllllllllllllllllllllllllllllllllllllllllllllllllllllllllllllllllllllllllllllllllllllllllllllllllllllllllllllllllllllllllllllllllllllllllllllllllllllllllllllllllllllllllllllllllllllllllllllllllllllllllllllllllllllllllllllllllllllllllllllllllllllllllllllllllllllllllllllllllllllllllllllllllllllllllllllllllllllllllllllllllllllllllllllllllllllllllllllllllllllllllllllllllllllllllllllllllllllllllllllllllllllllllllllllllllllllllllllllllllllllllllllllllllllllllllllllllllllllllllllllllllllllllllllllllllllllllllllllllllllllllllllllllllllllllllllllllllllllllllllllllllllllllllllllllllllllllllllllllllllllllllllllllllllllllllllllllllllllllllllllllllllllllllllllllllllllllllllllllllllllllllllllllllllllllllllllllllllllllllllllllllllllllllllllllllllllllllllllllllllllllllllllllllllllllllllllllllllllllllllllllllllllllllllllllllllllllllllllllllllllllllllllllllllllllllllllllllllllllllllllllllllllllllllllllllllllllllllllllllllllllllllllllllllllllllllllllllllllllllllllllllllllllllllllllllllllllllllllllllllllllllllllllllllllllllllllllllllllllllllllllllllllllllllllllllllllllllllllllllllllllllllllllllllllllllllllllllllllllllllllllllllllllllllllllllllllllllllllllllllllllllllllllllllllllllllllllllllllllllllllllllllllllllllllllllllllllllllllllllllllllllllllllllllllllllllllllllllllllllllllllllllllllllllllllllllllllllllllllllllllllllllllllllllllllllllllllllllllllllllllllllllllllllllllllllllllllllllllllllllllllllllllllllllllllllllllllllllllllllllllllllllllllllllllllllllllllllllllllllllllllllllllllllllllllllllllllllllllllllllllllllllllllllllllllllllllllllllllllllllllllllllllllllllllllllllllllllllllllllllllllllllllllllllllllllllllllllllllllllllllllllllllllllllllllllllllllllllllllllllllllllllllllllllllllllllllllllllllllllllllllllllllllllllllllllllllllllllllllllllllllllllllllllllllllllllllllllllllllllllllllllllllllllllllllllllllllllllllllllllllllllllllllllllllllllllllllllllllllllllllllllllllllllllllllllllllllllllllllllllllllllllllllllllllllllllllllllllllllllllllllllllllllllllllllllllllllllllllllllllllllllllllllllllllllllllllllllllllllllllllllllllllllllllllllllllllllllllllllllllllllllllllllllllllllllllllllllllllllllllllllllllllllllllllllllllllllllll}\n",
       " h\\_merkey & h\\_pid & year & wv & wv\\_num & first\\_wv & last\\_wv & p\\_wsl & p\\_wsc & p\\_wgl & ... & c05\\_34 & c05\\_35 & c05\\_37 & c05\\_39 & c05\\_41 & c05\\_43 & c05\\_45 & c05\\_47 & c05\\_49 & release\\_date\\\\\n",
       "\\hline\n",
       "\t 1190101   & 11904     & 2011      & 7         & 10        & 1         & 10        & 1.1900939 & 1.1395051 & 4058.220  & ...       & NA        & NA        & NA        & NA        & NA        & NA        & NA        & NA        & NA        & 200407   \\\\\n",
       "\t 1600101   & 16002     & 2005      & 1         &  4        & 1         &  4        & 1.8091685 & 1.8091685 & 4513.463  & ...       & NA        & NA        & NA        & NA        & NA        & NA        & NA        & NA        & NA        & 200407   \\\\\n",
       "\t 2320101   & 23202     & 2005      & 1         &  2        & 1         &  2        & 1.0756211 & 1.0756210 & 2683.430  & ...       & NA        & NA        & NA        & NA        & NA        & NA        & NA        & NA        & NA        & 200407   \\\\\n",
       "\t 2430101   & 24303     & 2005      & 1         &  7        & 1         & 11        & 0.9148793 & 0.9148793 & 2282.415  & ...       & NA        & NA        & NA        & NA        & NA        & NA        & NA        & NA        & NA        & 200407   \\\\\n",
       "\t 2480101   & 24801     & 2005      & 1         & 14        & 1         & 14        & 1.7169844 & 1.7169844 & 4283.485  & ...       & NA        & NA        & NA        & NA        & NA        & NA        & NA        & NA        & NA        & 200407   \\\\\n",
       "\t 3610101   & 36104     & 2005      & 1         & 14        & 1         & 14        & 1.6784140 & 1.6784140 & 4187.260  & ...       & NA        & NA        & NA        & NA        & NA        & NA        & NA        & NA        & NA        & 200407   \\\\\n",
       "\\end{tabular}\n"
      ],
      "text/markdown": [
       "\n",
       "| h_merkey | h_pid | year | wv | wv_num | first_wv | last_wv | p_wsl | p_wsc | p_wgl | ... | c05_34 | c05_35 | c05_37 | c05_39 | c05_41 | c05_43 | c05_45 | c05_47 | c05_49 | release_date |\n",
       "|---|---|---|---|---|---|---|---|---|---|---|---|---|---|---|---|---|---|---|---|---|\n",
       "| 1190101   | 11904     | 2011      | 7         | 10        | 1         | 10        | 1.1900939 | 1.1395051 | 4058.220  | ...       | NA        | NA        | NA        | NA        | NA        | NA        | NA        | NA        | NA        | 200407    |\n",
       "| 1600101   | 16002     | 2005      | 1         |  4        | 1         |  4        | 1.8091685 | 1.8091685 | 4513.463  | ...       | NA        | NA        | NA        | NA        | NA        | NA        | NA        | NA        | NA        | 200407    |\n",
       "| 2320101   | 23202     | 2005      | 1         |  2        | 1         |  2        | 1.0756211 | 1.0756210 | 2683.430  | ...       | NA        | NA        | NA        | NA        | NA        | NA        | NA        | NA        | NA        | 200407    |\n",
       "| 2430101   | 24303     | 2005      | 1         |  7        | 1         | 11        | 0.9148793 | 0.9148793 | 2282.415  | ...       | NA        | NA        | NA        | NA        | NA        | NA        | NA        | NA        | NA        | 200407    |\n",
       "| 2480101   | 24801     | 2005      | 1         | 14        | 1         | 14        | 1.7169844 | 1.7169844 | 4283.485  | ...       | NA        | NA        | NA        | NA        | NA        | NA        | NA        | NA        | NA        | 200407    |\n",
       "| 3610101   | 36104     | 2005      | 1         | 14        | 1         | 14        | 1.6784140 | 1.6784140 | 4187.260  | ...       | NA        | NA        | NA        | NA        | NA        | NA        | NA        | NA        | NA        | 200407    |\n",
       "\n"
      ],
      "text/plain": [
       "  h_merkey h_pid year wv wv_num first_wv last_wv p_wsl     p_wsc     p_wgl   \n",
       "1 1190101  11904 2011 7  10     1        10      1.1900939 1.1395051 4058.220\n",
       "2 1600101  16002 2005 1   4     1         4      1.8091685 1.8091685 4513.463\n",
       "3 2320101  23202 2005 1   2     1         2      1.0756211 1.0756210 2683.430\n",
       "4 2430101  24303 2005 1   7     1        11      0.9148793 0.9148793 2282.415\n",
       "5 2480101  24801 2005 1  14     1        14      1.7169844 1.7169844 4283.485\n",
       "6 3610101  36104 2005 1  14     1        14      1.6784140 1.6784140 4187.260\n",
       "  ... c05_34 c05_35 c05_37 c05_39 c05_41 c05_43 c05_45 c05_47 c05_49\n",
       "1 ... NA     NA     NA     NA     NA     NA     NA     NA     NA    \n",
       "2 ... NA     NA     NA     NA     NA     NA     NA     NA     NA    \n",
       "3 ... NA     NA     NA     NA     NA     NA     NA     NA     NA    \n",
       "4 ... NA     NA     NA     NA     NA     NA     NA     NA     NA    \n",
       "5 ... NA     NA     NA     NA     NA     NA     NA     NA     NA    \n",
       "6 ... NA     NA     NA     NA     NA     NA     NA     NA     NA    \n",
       "  release_date\n",
       "1 200407      \n",
       "2 200407      \n",
       "3 200407      \n",
       "4 200407      \n",
       "5 200407      \n",
       "6 200407      "
      ]
     },
     "metadata": {},
     "output_type": "display_data"
    }
   ],
   "source": [
    "head(reg_data)\n",
    "head(cert_data)"
   ]
  },
  {
   "cell_type": "markdown",
   "metadata": {},
   "source": [
    " 1) 이상치 확인\n",
    " 2) 데이터 가공(나이 / 성별)"
   ]
  },
  {
   "cell_type": "code",
   "execution_count": 10,
   "metadata": {
    "collapsed": true
   },
   "outputs": [
    {
     "data": {
      "text/plain": [
       "\n",
       "female   male \n",
       "124552 106127 "
      ]
     },
     "metadata": {},
     "output_type": "display_data"
    },
    {
     "data": {
      "text/plain": [
       "\n",
       "2005 2006 2007 2008 2009 2010 2011 2012 2013 2014 2015 2016 2017 2018 \n",
       "3807 3347 3131 2932 2741 2507 2941 2832 2645 2532 2413 2310 2228 2145 "
      ]
     },
     "metadata": {},
     "output_type": "display_data"
    },
    {
     "data": {
      "text/plain": [
       "\n",
       "   1    2    3    4    5    9 \n",
       "6659 5798  347 3823 1969   53 "
      ]
     },
     "metadata": {},
     "output_type": "display_data"
    },
    {
     "data": {
      "text/plain": [
       "\n",
       "  1   2   3   4   5   6   7   8   9  10  11  12  13  14  15  16  17  18  19  20 \n",
       "480  37 342 124  17  21  92 330   1 557  11  32  17  33  22  30  58  23 126  38 \n",
       " 21  22  23  24  25  26  27  28  99 \n",
       "314 196 243 440  53 517  44 220  20 "
      ]
     },
     "metadata": {},
     "output_type": "display_data"
    },
    {
     "data": {
      "text/plain": [
       "\n",
       "  1   2   3   4   5   6   7   8   9  10  11  12  13  14  15  16  17  18  19  20 \n",
       " 64  10  37  34   1   3   4  28   1 118   2   6   4  10   6   8  44  11  19   8 \n",
       " 21  22  23  24  25  26  27  28  99 \n",
       "121  35  14  44  13  51  16  42  21 "
      ]
     },
     "metadata": {},
     "output_type": "display_data"
    },
    {
     "data": {
      "text/plain": [
       "\n",
       " 1  2  3  4  7  8  9 10 12 13 14 15 16 17 18 19 20 21 22 23 24 25 26 27 28 99 \n",
       "13  2  4  4  1  5  1 24  2  1  1  2  2 11  3  6  3 38  6  1  9  5 10  1 17 10 "
      ]
     },
     "metadata": {},
     "output_type": "display_data"
    }
   ],
   "source": [
    "table(data$sex)\n",
    "table(data$Year)\n",
    "table(data$work_type)\n",
    "table(data$cert1)\n",
    "table(data$cert2)\n",
    "table(data$cert3)"
   ]
  },
  {
   "cell_type": "markdown",
   "metadata": {},
   "source": [
    "## 1. reg_data"
   ]
  },
  {
   "cell_type": "code",
   "execution_count": 11,
   "metadata": {},
   "outputs": [],
   "source": [
    "reg_data$work_type <- ifelse(reg_data$work_type == 9, NA, reg_data$work_type)"
   ]
  },
  {
   "cell_type": "code",
   "execution_count": 12,
   "metadata": {
    "collapsed": true
   },
   "outputs": [
    {
     "data": {
      "text/html": [
       "<table>\n",
       "<thead><tr><th scope=col>sex</th><th scope=col>Year</th><th scope=col>work_type</th></tr></thead>\n",
       "<tbody>\n",
       "\t<tr><td>male  </td><td>2005  </td><td>1     </td></tr>\n",
       "\t<tr><td>male  </td><td>2005  </td><td>1     </td></tr>\n",
       "\t<tr><td>female</td><td>2005  </td><td>1     </td></tr>\n",
       "\t<tr><td>male  </td><td>2005  </td><td>3     </td></tr>\n",
       "\t<tr><td>male  </td><td>2005  </td><td>1     </td></tr>\n",
       "\t<tr><td>female</td><td>2015  </td><td>1     </td></tr>\n",
       "\t<tr><td>female</td><td>2005  </td><td>2     </td></tr>\n",
       "\t<tr><td>male  </td><td>2005  </td><td>1     </td></tr>\n",
       "\t<tr><td>female</td><td>2005  </td><td>1     </td></tr>\n",
       "\t<tr><td>female</td><td>2005  </td><td>1     </td></tr>\n",
       "\t<tr><td>female</td><td>2013  </td><td>1     </td></tr>\n",
       "\t<tr><td>male  </td><td>2011  </td><td>1     </td></tr>\n",
       "\t<tr><td>female</td><td>2005  </td><td>2     </td></tr>\n",
       "\t<tr><td>female</td><td>2008  </td><td>2     </td></tr>\n",
       "\t<tr><td>male  </td><td>2005  </td><td>4     </td></tr>\n",
       "\t<tr><td>female</td><td>2005  </td><td>1     </td></tr>\n",
       "\t<tr><td>male  </td><td>2005  </td><td>1     </td></tr>\n",
       "\t<tr><td>female</td><td>2012  </td><td>1     </td></tr>\n",
       "\t<tr><td>female</td><td>2005  </td><td>1     </td></tr>\n",
       "\t<tr><td>female</td><td>2005  </td><td>1     </td></tr>\n",
       "\t<tr><td>male  </td><td>2005  </td><td>1     </td></tr>\n",
       "\t<tr><td>female</td><td>2005  </td><td>2     </td></tr>\n",
       "\t<tr><td>male  </td><td>2005  </td><td>1     </td></tr>\n",
       "\t<tr><td>female</td><td>2005  </td><td>1     </td></tr>\n",
       "\t<tr><td>male  </td><td>2005  </td><td>2     </td></tr>\n",
       "\t<tr><td>female</td><td>2005  </td><td>4     </td></tr>\n",
       "\t<tr><td>female</td><td>2005  </td><td>1     </td></tr>\n",
       "\t<tr><td>male  </td><td>2010  </td><td>1     </td></tr>\n",
       "\t<tr><td>male  </td><td>2005  </td><td>2     </td></tr>\n",
       "\t<tr><td>female</td><td>2005  </td><td>2     </td></tr>\n",
       "\t<tr><td>...</td><td>...</td><td>...</td></tr>\n",
       "\t<tr><td>male  </td><td>2017  </td><td>1     </td></tr>\n",
       "\t<tr><td>male  </td><td>2015  </td><td>1     </td></tr>\n",
       "\t<tr><td>female</td><td>2011  </td><td>2     </td></tr>\n",
       "\t<tr><td>male  </td><td>2011  </td><td>2     </td></tr>\n",
       "\t<tr><td>female</td><td>2011  </td><td>2     </td></tr>\n",
       "\t<tr><td>male  </td><td>2011  </td><td>5     </td></tr>\n",
       "\t<tr><td>male  </td><td>2016  </td><td>2     </td></tr>\n",
       "\t<tr><td>female</td><td>2018  </td><td>1     </td></tr>\n",
       "\t<tr><td>female</td><td>2011  </td><td>2     </td></tr>\n",
       "\t<tr><td>male  </td><td>2014  </td><td>2     </td></tr>\n",
       "\t<tr><td>female</td><td>2011  </td><td>2     </td></tr>\n",
       "\t<tr><td>male  </td><td>2011  </td><td>4     </td></tr>\n",
       "\t<tr><td>female</td><td>2013  </td><td>1     </td></tr>\n",
       "\t<tr><td>female</td><td>2011  </td><td>1     </td></tr>\n",
       "\t<tr><td>female</td><td>2011  </td><td>1     </td></tr>\n",
       "\t<tr><td>male  </td><td>2011  </td><td>2     </td></tr>\n",
       "\t<tr><td>female</td><td>2013  </td><td>2     </td></tr>\n",
       "\t<tr><td>male  </td><td>2011  </td><td>2     </td></tr>\n",
       "\t<tr><td>female</td><td>2011  </td><td>2     </td></tr>\n",
       "\t<tr><td>male  </td><td>2011  </td><td>2     </td></tr>\n",
       "\t<tr><td>female</td><td>2011  </td><td>2     </td></tr>\n",
       "\t<tr><td>male  </td><td>2011  </td><td>1     </td></tr>\n",
       "\t<tr><td>male  </td><td>2011  </td><td>2     </td></tr>\n",
       "\t<tr><td>female</td><td>2012  </td><td>1     </td></tr>\n",
       "\t<tr><td>male  </td><td>2012  </td><td>2     </td></tr>\n",
       "\t<tr><td>female</td><td>2011  </td><td>1     </td></tr>\n",
       "\t<tr><td>female</td><td>2011  </td><td>1     </td></tr>\n",
       "\t<tr><td>male  </td><td>2012  </td><td>1     </td></tr>\n",
       "\t<tr><td>female</td><td>2011  </td><td>2     </td></tr>\n",
       "\t<tr><td>male  </td><td>2014  </td><td>1     </td></tr>\n",
       "</tbody>\n",
       "</table>\n"
      ],
      "text/latex": [
       "\\begin{tabular}{r|lll}\n",
       " sex & Year & work\\_type\\\\\n",
       "\\hline\n",
       "\t male   & 2005   & 1     \\\\\n",
       "\t male   & 2005   & 1     \\\\\n",
       "\t female & 2005   & 1     \\\\\n",
       "\t male   & 2005   & 3     \\\\\n",
       "\t male   & 2005   & 1     \\\\\n",
       "\t female & 2015   & 1     \\\\\n",
       "\t female & 2005   & 2     \\\\\n",
       "\t male   & 2005   & 1     \\\\\n",
       "\t female & 2005   & 1     \\\\\n",
       "\t female & 2005   & 1     \\\\\n",
       "\t female & 2013   & 1     \\\\\n",
       "\t male   & 2011   & 1     \\\\\n",
       "\t female & 2005   & 2     \\\\\n",
       "\t female & 2008   & 2     \\\\\n",
       "\t male   & 2005   & 4     \\\\\n",
       "\t female & 2005   & 1     \\\\\n",
       "\t male   & 2005   & 1     \\\\\n",
       "\t female & 2012   & 1     \\\\\n",
       "\t female & 2005   & 1     \\\\\n",
       "\t female & 2005   & 1     \\\\\n",
       "\t male   & 2005   & 1     \\\\\n",
       "\t female & 2005   & 2     \\\\\n",
       "\t male   & 2005   & 1     \\\\\n",
       "\t female & 2005   & 1     \\\\\n",
       "\t male   & 2005   & 2     \\\\\n",
       "\t female & 2005   & 4     \\\\\n",
       "\t female & 2005   & 1     \\\\\n",
       "\t male   & 2010   & 1     \\\\\n",
       "\t male   & 2005   & 2     \\\\\n",
       "\t female & 2005   & 2     \\\\\n",
       "\t ... & ... & ...\\\\\n",
       "\t male   & 2017   & 1     \\\\\n",
       "\t male   & 2015   & 1     \\\\\n",
       "\t female & 2011   & 2     \\\\\n",
       "\t male   & 2011   & 2     \\\\\n",
       "\t female & 2011   & 2     \\\\\n",
       "\t male   & 2011   & 5     \\\\\n",
       "\t male   & 2016   & 2     \\\\\n",
       "\t female & 2018   & 1     \\\\\n",
       "\t female & 2011   & 2     \\\\\n",
       "\t male   & 2014   & 2     \\\\\n",
       "\t female & 2011   & 2     \\\\\n",
       "\t male   & 2011   & 4     \\\\\n",
       "\t female & 2013   & 1     \\\\\n",
       "\t female & 2011   & 1     \\\\\n",
       "\t female & 2011   & 1     \\\\\n",
       "\t male   & 2011   & 2     \\\\\n",
       "\t female & 2013   & 2     \\\\\n",
       "\t male   & 2011   & 2     \\\\\n",
       "\t female & 2011   & 2     \\\\\n",
       "\t male   & 2011   & 2     \\\\\n",
       "\t female & 2011   & 2     \\\\\n",
       "\t male   & 2011   & 1     \\\\\n",
       "\t male   & 2011   & 2     \\\\\n",
       "\t female & 2012   & 1     \\\\\n",
       "\t male   & 2012   & 2     \\\\\n",
       "\t female & 2011   & 1     \\\\\n",
       "\t female & 2011   & 1     \\\\\n",
       "\t male   & 2012   & 1     \\\\\n",
       "\t female & 2011   & 2     \\\\\n",
       "\t male   & 2014   & 1     \\\\\n",
       "\\end{tabular}\n"
      ],
      "text/markdown": [
       "\n",
       "| sex | Year | work_type |\n",
       "|---|---|---|\n",
       "| male   | 2005   | 1      |\n",
       "| male   | 2005   | 1      |\n",
       "| female | 2005   | 1      |\n",
       "| male   | 2005   | 3      |\n",
       "| male   | 2005   | 1      |\n",
       "| female | 2015   | 1      |\n",
       "| female | 2005   | 2      |\n",
       "| male   | 2005   | 1      |\n",
       "| female | 2005   | 1      |\n",
       "| female | 2005   | 1      |\n",
       "| female | 2013   | 1      |\n",
       "| male   | 2011   | 1      |\n",
       "| female | 2005   | 2      |\n",
       "| female | 2008   | 2      |\n",
       "| male   | 2005   | 4      |\n",
       "| female | 2005   | 1      |\n",
       "| male   | 2005   | 1      |\n",
       "| female | 2012   | 1      |\n",
       "| female | 2005   | 1      |\n",
       "| female | 2005   | 1      |\n",
       "| male   | 2005   | 1      |\n",
       "| female | 2005   | 2      |\n",
       "| male   | 2005   | 1      |\n",
       "| female | 2005   | 1      |\n",
       "| male   | 2005   | 2      |\n",
       "| female | 2005   | 4      |\n",
       "| female | 2005   | 1      |\n",
       "| male   | 2010   | 1      |\n",
       "| male   | 2005   | 2      |\n",
       "| female | 2005   | 2      |\n",
       "| ... | ... | ... |\n",
       "| male   | 2017   | 1      |\n",
       "| male   | 2015   | 1      |\n",
       "| female | 2011   | 2      |\n",
       "| male   | 2011   | 2      |\n",
       "| female | 2011   | 2      |\n",
       "| male   | 2011   | 5      |\n",
       "| male   | 2016   | 2      |\n",
       "| female | 2018   | 1      |\n",
       "| female | 2011   | 2      |\n",
       "| male   | 2014   | 2      |\n",
       "| female | 2011   | 2      |\n",
       "| male   | 2011   | 4      |\n",
       "| female | 2013   | 1      |\n",
       "| female | 2011   | 1      |\n",
       "| female | 2011   | 1      |\n",
       "| male   | 2011   | 2      |\n",
       "| female | 2013   | 2      |\n",
       "| male   | 2011   | 2      |\n",
       "| female | 2011   | 2      |\n",
       "| male   | 2011   | 2      |\n",
       "| female | 2011   | 2      |\n",
       "| male   | 2011   | 1      |\n",
       "| male   | 2011   | 2      |\n",
       "| female | 2012   | 1      |\n",
       "| male   | 2012   | 2      |\n",
       "| female | 2011   | 1      |\n",
       "| female | 2011   | 1      |\n",
       "| male   | 2012   | 1      |\n",
       "| female | 2011   | 2      |\n",
       "| male   | 2014   | 1      |\n",
       "\n"
      ],
      "text/plain": [
       "     sex    Year work_type\n",
       "1    male   2005 1        \n",
       "2    male   2005 1        \n",
       "3    female 2005 1        \n",
       "4    male   2005 3        \n",
       "5    male   2005 1        \n",
       "6    female 2015 1        \n",
       "7    female 2005 2        \n",
       "8    male   2005 1        \n",
       "9    female 2005 1        \n",
       "10   female 2005 1        \n",
       "11   female 2013 1        \n",
       "12   male   2011 1        \n",
       "13   female 2005 2        \n",
       "14   female 2008 2        \n",
       "15   male   2005 4        \n",
       "16   female 2005 1        \n",
       "17   male   2005 1        \n",
       "18   female 2012 1        \n",
       "19   female 2005 1        \n",
       "20   female 2005 1        \n",
       "21   male   2005 1        \n",
       "22   female 2005 2        \n",
       "23   male   2005 1        \n",
       "24   female 2005 1        \n",
       "25   male   2005 2        \n",
       "26   female 2005 4        \n",
       "27   female 2005 1        \n",
       "28   male   2010 1        \n",
       "29   male   2005 2        \n",
       "30   female 2005 2        \n",
       "...  ...    ...  ...      \n",
       "4888 male   2017 1        \n",
       "4889 male   2015 1        \n",
       "4890 female 2011 2        \n",
       "4891 male   2011 2        \n",
       "4892 female 2011 2        \n",
       "4893 male   2011 5        \n",
       "4894 male   2016 2        \n",
       "4895 female 2018 1        \n",
       "4896 female 2011 2        \n",
       "4897 male   2014 2        \n",
       "4898 female 2011 2        \n",
       "4899 male   2011 4        \n",
       "4900 female 2013 1        \n",
       "4901 female 2011 1        \n",
       "4902 female 2011 1        \n",
       "4903 male   2011 2        \n",
       "4904 female 2013 2        \n",
       "4905 male   2011 2        \n",
       "4906 female 2011 2        \n",
       "4907 male   2011 2        \n",
       "4908 female 2011 2        \n",
       "4909 male   2011 1        \n",
       "4910 male   2011 2        \n",
       "4911 female 2012 1        \n",
       "4912 male   2012 2        \n",
       "4913 female 2011 1        \n",
       "4914 female 2011 1        \n",
       "4915 male   2012 1        \n",
       "4916 female 2011 2        \n",
       "4917 male   2014 1        "
      ]
     },
     "metadata": {},
     "output_type": "display_data"
    }
   ],
   "source": [
    "reg_data <- reg_data %>%\n",
    "    filter(!is.na(work_type)) %>%\n",
    "    select(sex, Year, work_type)\n",
    "reg_data"
   ]
  },
  {
   "cell_type": "code",
   "execution_count": 13,
   "metadata": {},
   "outputs": [
    {
     "data": {
      "text/html": [
       "<ol class=list-inline>\n",
       "\t<li>4917</li>\n",
       "\t<li>3</li>\n",
       "</ol>\n"
      ],
      "text/latex": [
       "\\begin{enumerate*}\n",
       "\\item 4917\n",
       "\\item 3\n",
       "\\end{enumerate*}\n"
      ],
      "text/markdown": [
       "1. 4917\n",
       "2. 3\n",
       "\n",
       "\n"
      ],
      "text/plain": [
       "[1] 4917    3"
      ]
     },
     "metadata": {},
     "output_type": "display_data"
    }
   ],
   "source": [
    "dim(reg_data)"
   ]
  },
  {
   "cell_type": "code",
   "execution_count": 14,
   "metadata": {},
   "outputs": [
    {
     "data": {
      "text/plain": [
       "     sex                 Year        work_type   \n",
       " Length:4917        Min.   :2005   Min.   :1.00  \n",
       " Class :character   1st Qu.:2005   1st Qu.:1.00  \n",
       " Mode  :character   Median :2005   Median :2.00  \n",
       "                    Mean   :2008   Mean   :1.71  \n",
       "                    3rd Qu.:2011   3rd Qu.:2.00  \n",
       "                    Max.   :2018   Max.   :5.00  "
      ]
     },
     "metadata": {},
     "output_type": "display_data"
    }
   ],
   "source": [
    "summary(reg_data)"
   ]
  },
  {
   "cell_type": "code",
   "execution_count": 15,
   "metadata": {
    "collapsed": true
   },
   "outputs": [
    {
     "data": {
      "text/html": [
       "<table>\n",
       "<thead><tr><th scope=col>sex</th><th scope=col>Year</th><th scope=col>work_type</th></tr></thead>\n",
       "<tbody>\n",
       "\t<tr><td>male  </td><td>2005  </td><td>1     </td></tr>\n",
       "\t<tr><td>male  </td><td>2005  </td><td>1     </td></tr>\n",
       "\t<tr><td>female</td><td>2005  </td><td>1     </td></tr>\n",
       "\t<tr><td>male  </td><td>2005  </td><td>3     </td></tr>\n",
       "\t<tr><td>male  </td><td>2005  </td><td>1     </td></tr>\n",
       "\t<tr><td>female</td><td>2015  </td><td>1     </td></tr>\n",
       "\t<tr><td>female</td><td>2005  </td><td>2     </td></tr>\n",
       "\t<tr><td>male  </td><td>2005  </td><td>1     </td></tr>\n",
       "\t<tr><td>female</td><td>2005  </td><td>1     </td></tr>\n",
       "\t<tr><td>female</td><td>2005  </td><td>1     </td></tr>\n",
       "\t<tr><td>female</td><td>2013  </td><td>1     </td></tr>\n",
       "\t<tr><td>male  </td><td>2011  </td><td>1     </td></tr>\n",
       "\t<tr><td>female</td><td>2005  </td><td>2     </td></tr>\n",
       "\t<tr><td>female</td><td>2008  </td><td>2     </td></tr>\n",
       "\t<tr><td>male  </td><td>2005  </td><td>4     </td></tr>\n",
       "\t<tr><td>female</td><td>2005  </td><td>1     </td></tr>\n",
       "\t<tr><td>male  </td><td>2005  </td><td>1     </td></tr>\n",
       "\t<tr><td>female</td><td>2012  </td><td>1     </td></tr>\n",
       "\t<tr><td>female</td><td>2005  </td><td>1     </td></tr>\n",
       "\t<tr><td>female</td><td>2005  </td><td>1     </td></tr>\n",
       "\t<tr><td>male  </td><td>2005  </td><td>1     </td></tr>\n",
       "\t<tr><td>female</td><td>2005  </td><td>2     </td></tr>\n",
       "\t<tr><td>male  </td><td>2005  </td><td>1     </td></tr>\n",
       "\t<tr><td>female</td><td>2005  </td><td>1     </td></tr>\n",
       "\t<tr><td>male  </td><td>2005  </td><td>2     </td></tr>\n",
       "\t<tr><td>female</td><td>2005  </td><td>4     </td></tr>\n",
       "\t<tr><td>female</td><td>2005  </td><td>1     </td></tr>\n",
       "\t<tr><td>male  </td><td>2010  </td><td>1     </td></tr>\n",
       "\t<tr><td>male  </td><td>2005  </td><td>2     </td></tr>\n",
       "\t<tr><td>female</td><td>2005  </td><td>2     </td></tr>\n",
       "\t<tr><td>...</td><td>...</td><td>...</td></tr>\n",
       "\t<tr><td>male  </td><td>2017  </td><td>1     </td></tr>\n",
       "\t<tr><td>male  </td><td>2015  </td><td>1     </td></tr>\n",
       "\t<tr><td>female</td><td>2011  </td><td>2     </td></tr>\n",
       "\t<tr><td>male  </td><td>2011  </td><td>2     </td></tr>\n",
       "\t<tr><td>female</td><td>2011  </td><td>2     </td></tr>\n",
       "\t<tr><td>male  </td><td>2011  </td><td>5     </td></tr>\n",
       "\t<tr><td>male  </td><td>2016  </td><td>2     </td></tr>\n",
       "\t<tr><td>female</td><td>2018  </td><td>1     </td></tr>\n",
       "\t<tr><td>female</td><td>2011  </td><td>2     </td></tr>\n",
       "\t<tr><td>male  </td><td>2014  </td><td>2     </td></tr>\n",
       "\t<tr><td>female</td><td>2011  </td><td>2     </td></tr>\n",
       "\t<tr><td>male  </td><td>2011  </td><td>4     </td></tr>\n",
       "\t<tr><td>female</td><td>2013  </td><td>1     </td></tr>\n",
       "\t<tr><td>female</td><td>2011  </td><td>1     </td></tr>\n",
       "\t<tr><td>female</td><td>2011  </td><td>1     </td></tr>\n",
       "\t<tr><td>male  </td><td>2011  </td><td>2     </td></tr>\n",
       "\t<tr><td>female</td><td>2013  </td><td>2     </td></tr>\n",
       "\t<tr><td>male  </td><td>2011  </td><td>2     </td></tr>\n",
       "\t<tr><td>female</td><td>2011  </td><td>2     </td></tr>\n",
       "\t<tr><td>male  </td><td>2011  </td><td>2     </td></tr>\n",
       "\t<tr><td>female</td><td>2011  </td><td>2     </td></tr>\n",
       "\t<tr><td>male  </td><td>2011  </td><td>1     </td></tr>\n",
       "\t<tr><td>male  </td><td>2011  </td><td>2     </td></tr>\n",
       "\t<tr><td>female</td><td>2012  </td><td>1     </td></tr>\n",
       "\t<tr><td>male  </td><td>2012  </td><td>2     </td></tr>\n",
       "\t<tr><td>female</td><td>2011  </td><td>1     </td></tr>\n",
       "\t<tr><td>female</td><td>2011  </td><td>1     </td></tr>\n",
       "\t<tr><td>male  </td><td>2012  </td><td>1     </td></tr>\n",
       "\t<tr><td>female</td><td>2011  </td><td>2     </td></tr>\n",
       "\t<tr><td>male  </td><td>2014  </td><td>1     </td></tr>\n",
       "</tbody>\n",
       "</table>\n"
      ],
      "text/latex": [
       "\\begin{tabular}{r|lll}\n",
       " sex & Year & work\\_type\\\\\n",
       "\\hline\n",
       "\t male   & 2005   & 1     \\\\\n",
       "\t male   & 2005   & 1     \\\\\n",
       "\t female & 2005   & 1     \\\\\n",
       "\t male   & 2005   & 3     \\\\\n",
       "\t male   & 2005   & 1     \\\\\n",
       "\t female & 2015   & 1     \\\\\n",
       "\t female & 2005   & 2     \\\\\n",
       "\t male   & 2005   & 1     \\\\\n",
       "\t female & 2005   & 1     \\\\\n",
       "\t female & 2005   & 1     \\\\\n",
       "\t female & 2013   & 1     \\\\\n",
       "\t male   & 2011   & 1     \\\\\n",
       "\t female & 2005   & 2     \\\\\n",
       "\t female & 2008   & 2     \\\\\n",
       "\t male   & 2005   & 4     \\\\\n",
       "\t female & 2005   & 1     \\\\\n",
       "\t male   & 2005   & 1     \\\\\n",
       "\t female & 2012   & 1     \\\\\n",
       "\t female & 2005   & 1     \\\\\n",
       "\t female & 2005   & 1     \\\\\n",
       "\t male   & 2005   & 1     \\\\\n",
       "\t female & 2005   & 2     \\\\\n",
       "\t male   & 2005   & 1     \\\\\n",
       "\t female & 2005   & 1     \\\\\n",
       "\t male   & 2005   & 2     \\\\\n",
       "\t female & 2005   & 4     \\\\\n",
       "\t female & 2005   & 1     \\\\\n",
       "\t male   & 2010   & 1     \\\\\n",
       "\t male   & 2005   & 2     \\\\\n",
       "\t female & 2005   & 2     \\\\\n",
       "\t ... & ... & ...\\\\\n",
       "\t male   & 2017   & 1     \\\\\n",
       "\t male   & 2015   & 1     \\\\\n",
       "\t female & 2011   & 2     \\\\\n",
       "\t male   & 2011   & 2     \\\\\n",
       "\t female & 2011   & 2     \\\\\n",
       "\t male   & 2011   & 5     \\\\\n",
       "\t male   & 2016   & 2     \\\\\n",
       "\t female & 2018   & 1     \\\\\n",
       "\t female & 2011   & 2     \\\\\n",
       "\t male   & 2014   & 2     \\\\\n",
       "\t female & 2011   & 2     \\\\\n",
       "\t male   & 2011   & 4     \\\\\n",
       "\t female & 2013   & 1     \\\\\n",
       "\t female & 2011   & 1     \\\\\n",
       "\t female & 2011   & 1     \\\\\n",
       "\t male   & 2011   & 2     \\\\\n",
       "\t female & 2013   & 2     \\\\\n",
       "\t male   & 2011   & 2     \\\\\n",
       "\t female & 2011   & 2     \\\\\n",
       "\t male   & 2011   & 2     \\\\\n",
       "\t female & 2011   & 2     \\\\\n",
       "\t male   & 2011   & 1     \\\\\n",
       "\t male   & 2011   & 2     \\\\\n",
       "\t female & 2012   & 1     \\\\\n",
       "\t male   & 2012   & 2     \\\\\n",
       "\t female & 2011   & 1     \\\\\n",
       "\t female & 2011   & 1     \\\\\n",
       "\t male   & 2012   & 1     \\\\\n",
       "\t female & 2011   & 2     \\\\\n",
       "\t male   & 2014   & 1     \\\\\n",
       "\\end{tabular}\n"
      ],
      "text/markdown": [
       "\n",
       "| sex | Year | work_type |\n",
       "|---|---|---|\n",
       "| male   | 2005   | 1      |\n",
       "| male   | 2005   | 1      |\n",
       "| female | 2005   | 1      |\n",
       "| male   | 2005   | 3      |\n",
       "| male   | 2005   | 1      |\n",
       "| female | 2015   | 1      |\n",
       "| female | 2005   | 2      |\n",
       "| male   | 2005   | 1      |\n",
       "| female | 2005   | 1      |\n",
       "| female | 2005   | 1      |\n",
       "| female | 2013   | 1      |\n",
       "| male   | 2011   | 1      |\n",
       "| female | 2005   | 2      |\n",
       "| female | 2008   | 2      |\n",
       "| male   | 2005   | 4      |\n",
       "| female | 2005   | 1      |\n",
       "| male   | 2005   | 1      |\n",
       "| female | 2012   | 1      |\n",
       "| female | 2005   | 1      |\n",
       "| female | 2005   | 1      |\n",
       "| male   | 2005   | 1      |\n",
       "| female | 2005   | 2      |\n",
       "| male   | 2005   | 1      |\n",
       "| female | 2005   | 1      |\n",
       "| male   | 2005   | 2      |\n",
       "| female | 2005   | 4      |\n",
       "| female | 2005   | 1      |\n",
       "| male   | 2010   | 1      |\n",
       "| male   | 2005   | 2      |\n",
       "| female | 2005   | 2      |\n",
       "| ... | ... | ... |\n",
       "| male   | 2017   | 1      |\n",
       "| male   | 2015   | 1      |\n",
       "| female | 2011   | 2      |\n",
       "| male   | 2011   | 2      |\n",
       "| female | 2011   | 2      |\n",
       "| male   | 2011   | 5      |\n",
       "| male   | 2016   | 2      |\n",
       "| female | 2018   | 1      |\n",
       "| female | 2011   | 2      |\n",
       "| male   | 2014   | 2      |\n",
       "| female | 2011   | 2      |\n",
       "| male   | 2011   | 4      |\n",
       "| female | 2013   | 1      |\n",
       "| female | 2011   | 1      |\n",
       "| female | 2011   | 1      |\n",
       "| male   | 2011   | 2      |\n",
       "| female | 2013   | 2      |\n",
       "| male   | 2011   | 2      |\n",
       "| female | 2011   | 2      |\n",
       "| male   | 2011   | 2      |\n",
       "| female | 2011   | 2      |\n",
       "| male   | 2011   | 1      |\n",
       "| male   | 2011   | 2      |\n",
       "| female | 2012   | 1      |\n",
       "| male   | 2012   | 2      |\n",
       "| female | 2011   | 1      |\n",
       "| female | 2011   | 1      |\n",
       "| male   | 2012   | 1      |\n",
       "| female | 2011   | 2      |\n",
       "| male   | 2014   | 1      |\n",
       "\n"
      ],
      "text/plain": [
       "     sex    Year work_type\n",
       "1    male   2005 1        \n",
       "2    male   2005 1        \n",
       "3    female 2005 1        \n",
       "4    male   2005 3        \n",
       "5    male   2005 1        \n",
       "6    female 2015 1        \n",
       "7    female 2005 2        \n",
       "8    male   2005 1        \n",
       "9    female 2005 1        \n",
       "10   female 2005 1        \n",
       "11   female 2013 1        \n",
       "12   male   2011 1        \n",
       "13   female 2005 2        \n",
       "14   female 2008 2        \n",
       "15   male   2005 4        \n",
       "16   female 2005 1        \n",
       "17   male   2005 1        \n",
       "18   female 2012 1        \n",
       "19   female 2005 1        \n",
       "20   female 2005 1        \n",
       "21   male   2005 1        \n",
       "22   female 2005 2        \n",
       "23   male   2005 1        \n",
       "24   female 2005 1        \n",
       "25   male   2005 2        \n",
       "26   female 2005 4        \n",
       "27   female 2005 1        \n",
       "28   male   2010 1        \n",
       "29   male   2005 2        \n",
       "30   female 2005 2        \n",
       "...  ...    ...  ...      \n",
       "4888 male   2017 1        \n",
       "4889 male   2015 1        \n",
       "4890 female 2011 2        \n",
       "4891 male   2011 2        \n",
       "4892 female 2011 2        \n",
       "4893 male   2011 5        \n",
       "4894 male   2016 2        \n",
       "4895 female 2018 1        \n",
       "4896 female 2011 2        \n",
       "4897 male   2014 2        \n",
       "4898 female 2011 2        \n",
       "4899 male   2011 4        \n",
       "4900 female 2013 1        \n",
       "4901 female 2011 1        \n",
       "4902 female 2011 1        \n",
       "4903 male   2011 2        \n",
       "4904 female 2013 2        \n",
       "4905 male   2011 2        \n",
       "4906 female 2011 2        \n",
       "4907 male   2011 2        \n",
       "4908 female 2011 2        \n",
       "4909 male   2011 1        \n",
       "4910 male   2011 2        \n",
       "4911 female 2012 1        \n",
       "4912 male   2012 2        \n",
       "4913 female 2011 1        \n",
       "4914 female 2011 1        \n",
       "4915 male   2012 1        \n",
       "4916 female 2011 2        \n",
       "4917 male   2014 1        "
      ]
     },
     "metadata": {},
     "output_type": "display_data"
    }
   ],
   "source": [
    "reg_data"
   ]
  },
  {
   "cell_type": "markdown",
   "metadata": {},
   "source": [
    "### 1. 연도에 따른 정규직 비율"
   ]
  },
  {
   "cell_type": "code",
   "execution_count": 16,
   "metadata": {},
   "outputs": [],
   "source": [
    "reg_data$work_type <- ifelse(reg_data$work_type == 1, 'irregular', \n",
    "                    ifelse(reg_data$work_type == 2, 'regular', NA))"
   ]
  },
  {
   "cell_type": "code",
   "execution_count": 17,
   "metadata": {
    "collapsed": true
   },
   "outputs": [
    {
     "data": {
      "text/plain": [
       ", , work_type = irregular\n",
       "\n",
       "        Year\n",
       "sex      2005 2006 2007 2008 2009 2010 2011 2012 2013 2014 2015 2016 2017 2018\n",
       "  female  587   20   47   47   56   45  133   34   40   37   33   19   21   31\n",
       "  male    450   30   65   57   39   40   96   40   35   28   43   21   21   14\n",
       "\n",
       ", , work_type = regular\n",
       "\n",
       "        Year\n",
       "sex      2005 2006 2007 2008 2009 2010 2011 2012 2013 2014 2015 2016 2017 2018\n",
       "  female  902   18   49   35   37   18  151   24   22   16   22   22   10   13\n",
       "  male    687   14   57   37   31   20  119   19   24   25   24   20   24   16\n"
      ]
     },
     "metadata": {},
     "output_type": "display_data"
    }
   ],
   "source": [
    "table(reg_data)"
   ]
  },
  {
   "cell_type": "code",
   "execution_count": 18,
   "metadata": {},
   "outputs": [
    {
     "data": {
      "text/html": [
       "4917"
      ],
      "text/latex": [
       "4917"
      ],
      "text/markdown": [
       "4917"
      ],
      "text/plain": [
       "[1] 4917"
      ]
     },
     "metadata": {},
     "output_type": "display_data"
    }
   ],
   "source": [
    "length(reg_data$work_type == 1)"
   ]
  },
  {
   "cell_type": "code",
   "execution_count": 19,
   "metadata": {},
   "outputs": [
    {
     "data": {
      "text/html": [
       "<table>\n",
       "<thead><tr><th scope=col>Year</th><th scope=col>work_type</th><th scope=col>n</th><th scope=col>total</th><th scope=col>pct</th></tr></thead>\n",
       "<tbody>\n",
       "\t<tr><td>2005     </td><td>irregular</td><td>1037     </td><td>2626     </td><td>39.48972 </td></tr>\n",
       "\t<tr><td>2005     </td><td>regular  </td><td>1589     </td><td>2626     </td><td>60.51028 </td></tr>\n",
       "\t<tr><td>2006     </td><td>irregular</td><td>  50     </td><td>  82     </td><td>60.97561 </td></tr>\n",
       "\t<tr><td>2006     </td><td>regular  </td><td>  32     </td><td>  82     </td><td>39.02439 </td></tr>\n",
       "\t<tr><td>2007     </td><td>irregular</td><td> 112     </td><td> 218     </td><td>51.37615 </td></tr>\n",
       "\t<tr><td>2007     </td><td>regular  </td><td> 106     </td><td> 218     </td><td>48.62385 </td></tr>\n",
       "</tbody>\n",
       "</table>\n"
      ],
      "text/latex": [
       "\\begin{tabular}{r|lllll}\n",
       " Year & work\\_type & n & total & pct\\\\\n",
       "\\hline\n",
       "\t 2005      & irregular & 1037      & 2626      & 39.48972 \\\\\n",
       "\t 2005      & regular   & 1589      & 2626      & 60.51028 \\\\\n",
       "\t 2006      & irregular &   50      &   82      & 60.97561 \\\\\n",
       "\t 2006      & regular   &   32      &   82      & 39.02439 \\\\\n",
       "\t 2007      & irregular &  112      &  218      & 51.37615 \\\\\n",
       "\t 2007      & regular   &  106      &  218      & 48.62385 \\\\\n",
       "\\end{tabular}\n"
      ],
      "text/markdown": [
       "\n",
       "| Year | work_type | n | total | pct |\n",
       "|---|---|---|---|---|\n",
       "| 2005      | irregular | 1037      | 2626      | 39.48972  |\n",
       "| 2005      | regular   | 1589      | 2626      | 60.51028  |\n",
       "| 2006      | irregular |   50      |   82      | 60.97561  |\n",
       "| 2006      | regular   |   32      |   82      | 39.02439  |\n",
       "| 2007      | irregular |  112      |  218      | 51.37615  |\n",
       "| 2007      | regular   |  106      |  218      | 48.62385  |\n",
       "\n"
      ],
      "text/plain": [
       "  Year work_type n    total pct     \n",
       "1 2005 irregular 1037 2626  39.48972\n",
       "2 2005 regular   1589 2626  60.51028\n",
       "3 2006 irregular   50   82  60.97561\n",
       "4 2006 regular     32   82  39.02439\n",
       "5 2007 irregular  112  218  51.37615\n",
       "6 2007 regular    106  218  48.62385"
      ]
     },
     "metadata": {},
     "output_type": "display_data"
    }
   ],
   "source": [
    "reg_pct_data <- reg_data %>%\n",
    "    filter(!is.na(reg_data$work_type)) %>%\n",
    "    group_by(Year, work_type) %>%\n",
    "    summarise(n = n()) %>%\n",
    "    mutate(total = sum(n)) %>%\n",
    "    mutate(pct = n/total*100)\n",
    "head(reg_pct_data)"
   ]
  },
  {
   "cell_type": "code",
   "execution_count": 20,
   "metadata": {},
   "outputs": [
    {
     "data": {
      "text/html": [
       "<table>\n",
       "<thead><tr><th scope=col>Year</th><th scope=col>pct</th></tr></thead>\n",
       "<tbody>\n",
       "\t<tr><td>2005    </td><td>39.48972</td></tr>\n",
       "\t<tr><td>2006    </td><td>60.97561</td></tr>\n",
       "\t<tr><td>2007    </td><td>51.37615</td></tr>\n",
       "\t<tr><td>2008    </td><td>59.09091</td></tr>\n",
       "\t<tr><td>2009    </td><td>58.28221</td></tr>\n",
       "\t<tr><td>2010    </td><td>69.10569</td></tr>\n",
       "</tbody>\n",
       "</table>\n"
      ],
      "text/latex": [
       "\\begin{tabular}{r|ll}\n",
       " Year & pct\\\\\n",
       "\\hline\n",
       "\t 2005     & 39.48972\\\\\n",
       "\t 2006     & 60.97561\\\\\n",
       "\t 2007     & 51.37615\\\\\n",
       "\t 2008     & 59.09091\\\\\n",
       "\t 2009     & 58.28221\\\\\n",
       "\t 2010     & 69.10569\\\\\n",
       "\\end{tabular}\n"
      ],
      "text/markdown": [
       "\n",
       "| Year | pct |\n",
       "|---|---|\n",
       "| 2005     | 39.48972 |\n",
       "| 2006     | 60.97561 |\n",
       "| 2007     | 51.37615 |\n",
       "| 2008     | 59.09091 |\n",
       "| 2009     | 58.28221 |\n",
       "| 2010     | 69.10569 |\n",
       "\n"
      ],
      "text/plain": [
       "  Year pct     \n",
       "1 2005 39.48972\n",
       "2 2006 60.97561\n",
       "3 2007 51.37615\n",
       "4 2008 59.09091\n",
       "5 2009 58.28221\n",
       "6 2010 69.10569"
      ]
     },
     "metadata": {},
     "output_type": "display_data"
    }
   ],
   "source": [
    "irr_pct <- reg_pct_data %>%\n",
    "    filter(work_type == 'irregular') %>%\n",
    "    select(Year, pct)\n",
    "head(irr_pct)"
   ]
  },
  {
   "cell_type": "code",
   "execution_count": 21,
   "metadata": {},
   "outputs": [
    {
     "data": {
      "image/png": "[encoded data removed]",
      "text/plain": [
       "plot without title"
      ]
     },
     "metadata": {},
     "output_type": "display_data"
    }
   ],
   "source": [
    "irr <-ggplot(irr_pct, aes(x=Year, y=pct)) +\n",
    "    geom_line(color='#FFAA00', lwd=1)\n",
    "irr"
   ]
  },
  {
   "cell_type": "code",
   "execution_count": 22,
   "metadata": {},
   "outputs": [
    {
     "data": {
      "image/png": "[encoded data removed]",
      "text/plain": [
       "plot without title"
      ]
     },
     "metadata": {},
     "output_type": "display_data"
    }
   ],
   "source": [
    "irr + geom_segment(aes(x=2008, y=30, xend=2008, yend=80), colour=\"red\", size=1) +\n",
    "    geom_segment(aes(x=2013, y=30, xend=2013, yend=80), colour=\"red\", size=1) +\n",
    "    geom_segment(aes(x=2017, y=30, xend=2017, yend=80), colour=\"blue\", size=1)"
   ]
  },
  {
   "cell_type": "markdown",
   "metadata": {},
   "source": [
    "#### 청년 고용동향 분석(고용률, 실업률)\n",
    "##### 고용노동부 e-나라지표 참조"
   ]
  },
  {
   "cell_type": "code",
   "execution_count": 23,
   "metadata": {},
   "outputs": [
    {
     "data": {
      "text/html": [
       "<table>\n",
       "<thead><tr><th scope=col>Year</th><th scope=col>pct</th></tr></thead>\n",
       "<tbody>\n",
       "\t<tr><td>2005    </td><td>39.48972</td></tr>\n",
       "\t<tr><td>2006    </td><td>60.97561</td></tr>\n",
       "\t<tr><td>2007    </td><td>51.37615</td></tr>\n",
       "\t<tr><td>2008    </td><td>59.09091</td></tr>\n",
       "\t<tr><td>2009    </td><td>58.28221</td></tr>\n",
       "\t<tr><td>2010    </td><td>69.10569</td></tr>\n",
       "\t<tr><td>2011    </td><td>45.89178</td></tr>\n",
       "\t<tr><td>2012    </td><td>63.24786</td></tr>\n",
       "\t<tr><td>2013    </td><td>61.98347</td></tr>\n",
       "\t<tr><td>2014    </td><td>61.32075</td></tr>\n",
       "\t<tr><td>2015    </td><td>62.29508</td></tr>\n",
       "\t<tr><td>2016    </td><td>48.78049</td></tr>\n",
       "\t<tr><td>2017    </td><td>55.26316</td></tr>\n",
       "\t<tr><td>2018    </td><td>60.81081</td></tr>\n",
       "</tbody>\n",
       "</table>\n"
      ],
      "text/latex": [
       "\\begin{tabular}{r|ll}\n",
       " Year & pct\\\\\n",
       "\\hline\n",
       "\t 2005     & 39.48972\\\\\n",
       "\t 2006     & 60.97561\\\\\n",
       "\t 2007     & 51.37615\\\\\n",
       "\t 2008     & 59.09091\\\\\n",
       "\t 2009     & 58.28221\\\\\n",
       "\t 2010     & 69.10569\\\\\n",
       "\t 2011     & 45.89178\\\\\n",
       "\t 2012     & 63.24786\\\\\n",
       "\t 2013     & 61.98347\\\\\n",
       "\t 2014     & 61.32075\\\\\n",
       "\t 2015     & 62.29508\\\\\n",
       "\t 2016     & 48.78049\\\\\n",
       "\t 2017     & 55.26316\\\\\n",
       "\t 2018     & 60.81081\\\\\n",
       "\\end{tabular}\n"
      ],
      "text/markdown": [
       "\n",
       "| Year | pct |\n",
       "|---|---|\n",
       "| 2005     | 39.48972 |\n",
       "| 2006     | 60.97561 |\n",
       "| 2007     | 51.37615 |\n",
       "| 2008     | 59.09091 |\n",
       "| 2009     | 58.28221 |\n",
       "| 2010     | 69.10569 |\n",
       "| 2011     | 45.89178 |\n",
       "| 2012     | 63.24786 |\n",
       "| 2013     | 61.98347 |\n",
       "| 2014     | 61.32075 |\n",
       "| 2015     | 62.29508 |\n",
       "| 2016     | 48.78049 |\n",
       "| 2017     | 55.26316 |\n",
       "| 2018     | 60.81081 |\n",
       "\n"
      ],
      "text/plain": [
       "   Year pct     \n",
       "1  2005 39.48972\n",
       "2  2006 60.97561\n",
       "3  2007 51.37615\n",
       "4  2008 59.09091\n",
       "5  2009 58.28221\n",
       "6  2010 69.10569\n",
       "7  2011 45.89178\n",
       "8  2012 63.24786\n",
       "9  2013 61.98347\n",
       "10 2014 61.32075\n",
       "11 2015 62.29508\n",
       "12 2016 48.78049\n",
       "13 2017 55.26316\n",
       "14 2018 60.81081"
      ]
     },
     "metadata": {},
     "output_type": "display_data"
    }
   ],
   "source": [
    "irr_pct"
   ]
  },
  {
   "cell_type": "code",
   "execution_count": 30,
   "metadata": {},
   "outputs": [],
   "source": [
    "irr_pct$emp <- c(45, 44.8, 43.2, 41.9, 40.6, 40.4, 40.4, 40.3, 39.5, 40.5, 41.2, 41.7, 42.1, 42.7)"
   ]
  },
  {
   "cell_type": "code",
   "execution_count": 31,
   "metadata": {},
   "outputs": [],
   "source": [
    "irr_pct$unemp <- c(8.0, 7.9, 7.2, 7.1, 8.0, 7.9, 7.6, 7.5, 8, 9, 9.1, 9.8, 9.8, 9.5)"
   ]
  },
  {
   "cell_type": "code",
   "execution_count": 50,
   "metadata": {},
   "outputs": [
    {
     "data": {
      "text/html": [
       "<table>\n",
       "<thead><tr><th scope=col>Year</th><th scope=col>pct</th><th scope=col>emp</th><th scope=col>unemp</th></tr></thead>\n",
       "<tbody>\n",
       "\t<tr><td>2005    </td><td>39.48972</td><td>45.0    </td><td>8.0     </td></tr>\n",
       "\t<tr><td>2006    </td><td>60.97561</td><td>44.8    </td><td>7.9     </td></tr>\n",
       "\t<tr><td>2007    </td><td>51.37615</td><td>43.2    </td><td>7.2     </td></tr>\n",
       "\t<tr><td>2008    </td><td>59.09091</td><td>41.9    </td><td>7.1     </td></tr>\n",
       "\t<tr><td>2009    </td><td>58.28221</td><td>40.6    </td><td>8.0     </td></tr>\n",
       "\t<tr><td>2010    </td><td>69.10569</td><td>40.4    </td><td>7.9     </td></tr>\n",
       "\t<tr><td>2011    </td><td>45.89178</td><td>40.4    </td><td>7.6     </td></tr>\n",
       "\t<tr><td>2012    </td><td>63.24786</td><td>40.3    </td><td>7.5     </td></tr>\n",
       "\t<tr><td>2013    </td><td>61.98347</td><td>39.5    </td><td>8.0     </td></tr>\n",
       "\t<tr><td>2014    </td><td>61.32075</td><td>40.5    </td><td>9.0     </td></tr>\n",
       "\t<tr><td>2015    </td><td>62.29508</td><td>41.2    </td><td>9.1     </td></tr>\n",
       "\t<tr><td>2016    </td><td>48.78049</td><td>41.7    </td><td>9.8     </td></tr>\n",
       "\t<tr><td>2017    </td><td>55.26316</td><td>42.1    </td><td>9.8     </td></tr>\n",
       "\t<tr><td>2018    </td><td>60.81081</td><td>42.7    </td><td>9.5     </td></tr>\n",
       "</tbody>\n",
       "</table>\n"
      ],
      "text/latex": [
       "\\begin{tabular}{r|llll}\n",
       " Year & pct & emp & unemp\\\\\n",
       "\\hline\n",
       "\t 2005     & 39.48972 & 45.0     & 8.0     \\\\\n",
       "\t 2006     & 60.97561 & 44.8     & 7.9     \\\\\n",
       "\t 2007     & 51.37615 & 43.2     & 7.2     \\\\\n",
       "\t 2008     & 59.09091 & 41.9     & 7.1     \\\\\n",
       "\t 2009     & 58.28221 & 40.6     & 8.0     \\\\\n",
       "\t 2010     & 69.10569 & 40.4     & 7.9     \\\\\n",
       "\t 2011     & 45.89178 & 40.4     & 7.6     \\\\\n",
       "\t 2012     & 63.24786 & 40.3     & 7.5     \\\\\n",
       "\t 2013     & 61.98347 & 39.5     & 8.0     \\\\\n",
       "\t 2014     & 61.32075 & 40.5     & 9.0     \\\\\n",
       "\t 2015     & 62.29508 & 41.2     & 9.1     \\\\\n",
       "\t 2016     & 48.78049 & 41.7     & 9.8     \\\\\n",
       "\t 2017     & 55.26316 & 42.1     & 9.8     \\\\\n",
       "\t 2018     & 60.81081 & 42.7     & 9.5     \\\\\n",
       "\\end{tabular}\n"
      ],
      "text/markdown": [
       "\n",
       "| Year | pct | emp | unemp |\n",
       "|---|---|---|---|\n",
       "| 2005     | 39.48972 | 45.0     | 8.0      |\n",
       "| 2006     | 60.97561 | 44.8     | 7.9      |\n",
       "| 2007     | 51.37615 | 43.2     | 7.2      |\n",
       "| 2008     | 59.09091 | 41.9     | 7.1      |\n",
       "| 2009     | 58.28221 | 40.6     | 8.0      |\n",
       "| 2010     | 69.10569 | 40.4     | 7.9      |\n",
       "| 2011     | 45.89178 | 40.4     | 7.6      |\n",
       "| 2012     | 63.24786 | 40.3     | 7.5      |\n",
       "| 2013     | 61.98347 | 39.5     | 8.0      |\n",
       "| 2014     | 61.32075 | 40.5     | 9.0      |\n",
       "| 2015     | 62.29508 | 41.2     | 9.1      |\n",
       "| 2016     | 48.78049 | 41.7     | 9.8      |\n",
       "| 2017     | 55.26316 | 42.1     | 9.8      |\n",
       "| 2018     | 60.81081 | 42.7     | 9.5      |\n",
       "\n"
      ],
      "text/plain": [
       "   Year pct      emp  unemp\n",
       "1  2005 39.48972 45.0 8.0  \n",
       "2  2006 60.97561 44.8 7.9  \n",
       "3  2007 51.37615 43.2 7.2  \n",
       "4  2008 59.09091 41.9 7.1  \n",
       "5  2009 58.28221 40.6 8.0  \n",
       "6  2010 69.10569 40.4 7.9  \n",
       "7  2011 45.89178 40.4 7.6  \n",
       "8  2012 63.24786 40.3 7.5  \n",
       "9  2013 61.98347 39.5 8.0  \n",
       "10 2014 61.32075 40.5 9.0  \n",
       "11 2015 62.29508 41.2 9.1  \n",
       "12 2016 48.78049 41.7 9.8  \n",
       "13 2017 55.26316 42.1 9.8  \n",
       "14 2018 60.81081 42.7 9.5  "
      ]
     },
     "metadata": {},
     "output_type": "display_data"
    }
   ],
   "source": [
    "irr_pct"
   ]
  },
  {
   "cell_type": "code",
   "execution_count": 45,
   "metadata": {
    "collapsed": true
   },
   "outputs": [
    {
     "data": {
      "image/png": "[encoded data removed]",
      "text/plain": [
       "plot without title"
      ]
     },
     "metadata": {},
     "output_type": "display_data"
    }
   ],
   "source": [
    "gr_irr <- ggplot(irr_pct, aes(x=Year, y=emp)) + geom_line(linetype='dashed', color=\"red\", size=1.2)\n",
    "gr_irr"
   ]
  },
  {
   "cell_type": "code",
   "execution_count": 81,
   "metadata": {},
   "outputs": [
    {
     "data": {
      "image/png": "[encoded data removed]",
      "text/plain": [
       "plot without title"
      ]
     },
     "metadata": {},
     "output_type": "display_data"
    }
   ],
   "source": [
    "ggplot(data = irr_pct) +\n",
    "    geom_line(aes(x=Year, y=pct), color='#FFAA00', lwd=1) +\n",
    "    geom_line(aes(x=Year, y=emp), color='BLUE', lwd=1) +\n",
    "    geom_line(aes(x=Year, y=unemp), color='RED', lwd=1) +\n",
    "    geom_segment(aes(x=2008, y=0, xend=2008, yend=80), colour=\"red\", size=0.3, linetype=5) +\n",
    "    geom_segment(aes(x=2013, y=0, xend=2013, yend=80), colour=\"red\", size=0.3, linetype=5) +\n",
    "    geom_segment(aes(x=2017, y=0, xend=2017, yend=80), colour=\"blue\", size=0.3, linetype=5) +\n",
    "    theme(legend.position = 'top')"
   ]
  },
  {
   "cell_type": "code",
   "execution_count": null,
   "metadata": {},
   "outputs": [],
   "source": []
  }
 ],
 "metadata": {
  "kernelspec": {
   "display_name": "R",
   "language": "R",
   "name": "ir"
  },
  "language_info": {
   "codemirror_mode": "r",
   "file_extension": ".r",
   "mimetype": "text/x-r-source",
   "name": "R",
   "pygments_lexer": "r",
   "version": "3.6.1"
  }
 },
 "nbformat": 4,
 "nbformat_minor": 4
}
