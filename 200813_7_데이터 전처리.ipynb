{
 "cells": [
  {
   "cell_type": "code",
   "execution_count": 45,
   "metadata": {},
   "outputs": [
    {
     "name": "stderr",
     "output_type": "stream",
     "text": [
      "Warning message:\n",
      "\"package 'ggplot2' was built under R version 3.6.3\""
     ]
    }
   ],
   "source": [
    "library(dplyr)\n",
    "library(ggplot2)"
   ]
  },
  {
   "cell_type": "markdown",
   "metadata": {},
   "source": [
    "# 7. 데이터 정제"
   ]
  },
  {
   "cell_type": "markdown",
   "metadata": {},
   "source": [
    "## 7-1. 빠진 데이터, 이상한 데이터 제거하기"
   ]
  },
  {
   "cell_type": "code",
   "execution_count": 1,
   "metadata": {},
   "outputs": [
    {
     "data": {
      "text/html": [
       "<table>\n",
       "<thead><tr><th scope=col>sex</th><th scope=col>score</th></tr></thead>\n",
       "<tbody>\n",
       "\t<tr><td>M </td><td> 5</td></tr>\n",
       "\t<tr><td>F </td><td> 4</td></tr>\n",
       "\t<tr><td>NA</td><td> 3</td></tr>\n",
       "\t<tr><td>M </td><td> 4</td></tr>\n",
       "\t<tr><td>F </td><td>NA</td></tr>\n",
       "</tbody>\n",
       "</table>\n"
      ],
      "text/latex": [
       "\\begin{tabular}{r|ll}\n",
       " sex & score\\\\\n",
       "\\hline\n",
       "\t M  &  5\\\\\n",
       "\t F  &  4\\\\\n",
       "\t NA &  3\\\\\n",
       "\t M  &  4\\\\\n",
       "\t F  & NA\\\\\n",
       "\\end{tabular}\n"
      ],
      "text/markdown": [
       "\n",
       "| sex | score |\n",
       "|---|---|\n",
       "| M  |  5 |\n",
       "| F  |  4 |\n",
       "| NA |  3 |\n",
       "| M  |  4 |\n",
       "| F  | NA |\n",
       "\n"
      ],
      "text/plain": [
       "  sex score\n",
       "1 M    5   \n",
       "2 F    4   \n",
       "3 NA   3   \n",
       "4 M    4   \n",
       "5 F   NA   "
      ]
     },
     "metadata": {},
     "output_type": "display_data"
    }
   ],
   "source": [
    "df <- data.frame(sex = c(\"M\", \"F\", NA, \"M\", \"F\"),\n",
    "                score = c(5, 4, 3, 4, NA))\n",
    "df"
   ]
  },
  {
   "cell_type": "code",
   "execution_count": 2,
   "metadata": {},
   "outputs": [
    {
     "data": {
      "text/html": [
       "<table>\n",
       "<thead><tr><th scope=col>sex</th><th scope=col>score</th></tr></thead>\n",
       "<tbody>\n",
       "\t<tr><td>FALSE</td><td>FALSE</td></tr>\n",
       "\t<tr><td>FALSE</td><td>FALSE</td></tr>\n",
       "\t<tr><td> TRUE</td><td>FALSE</td></tr>\n",
       "\t<tr><td>FALSE</td><td>FALSE</td></tr>\n",
       "\t<tr><td>FALSE</td><td> TRUE</td></tr>\n",
       "</tbody>\n",
       "</table>\n"
      ],
      "text/latex": [
       "\\begin{tabular}{ll}\n",
       " sex & score\\\\\n",
       "\\hline\n",
       "\t FALSE & FALSE\\\\\n",
       "\t FALSE & FALSE\\\\\n",
       "\t  TRUE & FALSE\\\\\n",
       "\t FALSE & FALSE\\\\\n",
       "\t FALSE &  TRUE\\\\\n",
       "\\end{tabular}\n"
      ],
      "text/markdown": [
       "\n",
       "| sex | score |\n",
       "|---|---|\n",
       "| FALSE | FALSE |\n",
       "| FALSE | FALSE |\n",
       "|  TRUE | FALSE |\n",
       "| FALSE | FALSE |\n",
       "| FALSE |  TRUE |\n",
       "\n"
      ],
      "text/plain": [
       "     sex   score\n",
       "[1,] FALSE FALSE\n",
       "[2,] FALSE FALSE\n",
       "[3,]  TRUE FALSE\n",
       "[4,] FALSE FALSE\n",
       "[5,] FALSE  TRUE"
      ]
     },
     "metadata": {},
     "output_type": "display_data"
    }
   ],
   "source": [
    "is.na(df) #결측치 확인"
   ]
  },
  {
   "cell_type": "code",
   "execution_count": 3,
   "metadata": {},
   "outputs": [
    {
     "data": {
      "text/plain": [
       "\n",
       "FALSE  TRUE \n",
       "    8     2 "
      ]
     },
     "metadata": {},
     "output_type": "display_data"
    }
   ],
   "source": [
    "table(is.na(df)) #결측치 빈도 출력"
   ]
  },
  {
   "cell_type": "code",
   "execution_count": 5,
   "metadata": {},
   "outputs": [
    {
     "data": {
      "text/plain": [
       "\n",
       "FALSE  TRUE \n",
       "    4     1 "
      ]
     },
     "metadata": {},
     "output_type": "display_data"
    }
   ],
   "source": [
    "table(is.na(df$sex)) #column별 NA 빈도 출력"
   ]
  },
  {
   "cell_type": "code",
   "execution_count": 8,
   "metadata": {},
   "outputs": [
    {
     "data": {
      "text/html": [
       "&lt;NA&gt;"
      ],
      "text/latex": [
       "<NA>"
      ],
      "text/markdown": [
       "&lt;NA&gt;"
      ],
      "text/plain": [
       "[1] NA"
      ]
     },
     "metadata": {},
     "output_type": "display_data"
    }
   ],
   "source": [
    "mean(df$score) #socre column에 NA값이 있기 때문에 평균값을 구할 수 없음"
   ]
  },
  {
   "cell_type": "code",
   "execution_count": 10,
   "metadata": {},
   "outputs": [
    {
     "data": {
      "text/html": [
       "<table>\n",
       "<thead><tr><th scope=col>sex</th><th scope=col>score</th></tr></thead>\n",
       "<tbody>\n",
       "\t<tr><td>F </td><td>NA</td></tr>\n",
       "</tbody>\n",
       "</table>\n"
      ],
      "text/latex": [
       "\\begin{tabular}{r|ll}\n",
       " sex & score\\\\\n",
       "\\hline\n",
       "\t F  & NA\\\\\n",
       "\\end{tabular}\n"
      ],
      "text/markdown": [
       "\n",
       "| sex | score |\n",
       "|---|---|\n",
       "| F  | NA |\n",
       "\n"
      ],
      "text/plain": [
       "  sex score\n",
       "1 F   NA   "
      ]
     },
     "metadata": {},
     "output_type": "display_data"
    }
   ],
   "source": [
    "df %>% filter(is.na(score))"
   ]
  },
  {
   "cell_type": "code",
   "execution_count": 12,
   "metadata": {},
   "outputs": [
    {
     "data": {
      "text/html": [
       "<table>\n",
       "<thead><tr><th scope=col>sex</th><th scope=col>score</th></tr></thead>\n",
       "<tbody>\n",
       "\t<tr><td>M </td><td>5 </td></tr>\n",
       "\t<tr><td>F </td><td>4 </td></tr>\n",
       "\t<tr><td>NA</td><td>3 </td></tr>\n",
       "\t<tr><td>M </td><td>4 </td></tr>\n",
       "</tbody>\n",
       "</table>\n"
      ],
      "text/latex": [
       "\\begin{tabular}{r|ll}\n",
       " sex & score\\\\\n",
       "\\hline\n",
       "\t M  & 5 \\\\\n",
       "\t F  & 4 \\\\\n",
       "\t NA & 3 \\\\\n",
       "\t M  & 4 \\\\\n",
       "\\end{tabular}\n"
      ],
      "text/markdown": [
       "\n",
       "| sex | score |\n",
       "|---|---|\n",
       "| M  | 5  |\n",
       "| F  | 4  |\n",
       "| NA | 3  |\n",
       "| M  | 4  |\n",
       "\n"
      ],
      "text/plain": [
       "  sex score\n",
       "1 M   5    \n",
       "2 F   4    \n",
       "3 NA  3    \n",
       "4 M   4    "
      ]
     },
     "metadata": {},
     "output_type": "display_data"
    }
   ],
   "source": [
    "df %>% filter(!is.na(score)) #socre의 NA값을 뺀 값만 출력"
   ]
  },
  {
   "cell_type": "code",
   "execution_count": 20,
   "metadata": {},
   "outputs": [
    {
     "data": {
      "text/html": [
       "<table>\n",
       "<thead><tr><th scope=col>sex</th><th scope=col>score</th></tr></thead>\n",
       "<tbody>\n",
       "\t<tr><td>M</td><td>5</td></tr>\n",
       "\t<tr><td>F</td><td>4</td></tr>\n",
       "\t<tr><td>M</td><td>4</td></tr>\n",
       "</tbody>\n",
       "</table>\n"
      ],
      "text/latex": [
       "\\begin{tabular}{r|ll}\n",
       " sex & score\\\\\n",
       "\\hline\n",
       "\t M & 5\\\\\n",
       "\t F & 4\\\\\n",
       "\t M & 4\\\\\n",
       "\\end{tabular}\n"
      ],
      "text/markdown": [
       "\n",
       "| sex | score |\n",
       "|---|---|\n",
       "| M | 5 |\n",
       "| F | 4 |\n",
       "| M | 4 |\n",
       "\n"
      ],
      "text/plain": [
       "  sex score\n",
       "1 M   5    \n",
       "2 F   4    \n",
       "3 M   4    "
      ]
     },
     "metadata": {},
     "output_type": "display_data"
    }
   ],
   "source": [
    "df_nomiss <- df %>% filter(!is.na(score) & !is.na(sex)) #socre, sex의 NA 값 제거한 데이터 프레임 생성\n",
    "df_nomiss"
   ]
  },
  {
   "cell_type": "code",
   "execution_count": 21,
   "metadata": {},
   "outputs": [
    {
     "data": {
      "text/html": [
       "4.33333333333333"
      ],
      "text/latex": [
       "4.33333333333333"
      ],
      "text/markdown": [
       "4.33333333333333"
      ],
      "text/plain": [
       "[1] 4.333333"
      ]
     },
     "metadata": {},
     "output_type": "display_data"
    }
   ],
   "source": [
    "mean(df_nomiss$score)"
   ]
  },
  {
   "cell_type": "code",
   "execution_count": 22,
   "metadata": {},
   "outputs": [
    {
     "data": {
      "text/html": [
       "<table>\n",
       "<thead><tr><th></th><th scope=col>sex</th><th scope=col>score</th></tr></thead>\n",
       "<tbody>\n",
       "\t<tr><th scope=row>1</th><td>M</td><td>5</td></tr>\n",
       "\t<tr><th scope=row>2</th><td>F</td><td>4</td></tr>\n",
       "\t<tr><th scope=row>4</th><td>M</td><td>4</td></tr>\n",
       "</tbody>\n",
       "</table>\n"
      ],
      "text/latex": [
       "\\begin{tabular}{r|ll}\n",
       "  & sex & score\\\\\n",
       "\\hline\n",
       "\t1 & M & 5\\\\\n",
       "\t2 & F & 4\\\\\n",
       "\t4 & M & 4\\\\\n",
       "\\end{tabular}\n"
      ],
      "text/markdown": [
       "\n",
       "| <!--/--> | sex | score |\n",
       "|---|---|---|\n",
       "| 1 | M | 5 |\n",
       "| 2 | F | 4 |\n",
       "| 4 | M | 4 |\n",
       "\n"
      ],
      "text/plain": [
       "  sex score\n",
       "1 M   5    \n",
       "2 F   4    \n",
       "4 M   4    "
      ]
     },
     "metadata": {},
     "output_type": "display_data"
    }
   ],
   "source": [
    "df_nomiss2 <- na.omit(df) #NA값 있는 모든 row 날려버리기\n",
    "df_nomiss2"
   ]
  },
  {
   "cell_type": "code",
   "execution_count": 27,
   "metadata": {},
   "outputs": [
    {
     "data": {
      "text/html": [
       "4"
      ],
      "text/latex": [
       "4"
      ],
      "text/markdown": [
       "4"
      ],
      "text/plain": [
       "[1] 4"
      ]
     },
     "metadata": {},
     "output_type": "display_data"
    }
   ],
   "source": [
    "mean(df$score, na.rm = T) #결측치 제외하고 평균 산출(NA Remove = True)"
   ]
  },
  {
   "cell_type": "code",
   "execution_count": 29,
   "metadata": {},
   "outputs": [
    {
     "data": {
      "text/html": [
       "16"
      ],
      "text/latex": [
       "16"
      ],
      "text/markdown": [
       "16"
      ],
      "text/plain": [
       "[1] 16"
      ]
     },
     "metadata": {},
     "output_type": "display_data"
    }
   ],
   "source": [
    "sum(df$score, na.rm = T) #결측치 제외하고 합계 산출"
   ]
  },
  {
   "cell_type": "code",
   "execution_count": 37,
   "metadata": {},
   "outputs": [],
   "source": [
    "exam <- read.csv(\"C:/Users/admin/Desktop/Big_data/R/Doit_R_Data/csv_exam.csv\")"
   ]
  },
  {
   "cell_type": "code",
   "execution_count": 47,
   "metadata": {},
   "outputs": [
    {
     "data": {
      "text/html": [
       "<table>\n",
       "<thead><tr><th scope=col>id</th><th scope=col>class</th><th scope=col>math</th><th scope=col>english</th><th scope=col>science</th></tr></thead>\n",
       "<tbody>\n",
       "\t<tr><td>1 </td><td>1 </td><td>50</td><td>98</td><td>50</td></tr>\n",
       "\t<tr><td>2 </td><td>1 </td><td>60</td><td>97</td><td>60</td></tr>\n",
       "\t<tr><td>3 </td><td>1 </td><td>NA</td><td>86</td><td>78</td></tr>\n",
       "\t<tr><td>4 </td><td>1 </td><td>30</td><td>98</td><td>58</td></tr>\n",
       "\t<tr><td>5 </td><td>2 </td><td>25</td><td>80</td><td>65</td></tr>\n",
       "</tbody>\n",
       "</table>\n"
      ],
      "text/latex": [
       "\\begin{tabular}{r|lllll}\n",
       " id & class & math & english & science\\\\\n",
       "\\hline\n",
       "\t 1  & 1  & 50 & 98 & 50\\\\\n",
       "\t 2  & 1  & 60 & 97 & 60\\\\\n",
       "\t 3  & 1  & NA & 86 & 78\\\\\n",
       "\t 4  & 1  & 30 & 98 & 58\\\\\n",
       "\t 5  & 2  & 25 & 80 & 65\\\\\n",
       "\\end{tabular}\n"
      ],
      "text/markdown": [
       "\n",
       "| id | class | math | english | science |\n",
       "|---|---|---|---|---|\n",
       "| 1  | 1  | 50 | 98 | 50 |\n",
       "| 2  | 1  | 60 | 97 | 60 |\n",
       "| 3  | 1  | NA | 86 | 78 |\n",
       "| 4  | 1  | 30 | 98 | 58 |\n",
       "| 5  | 2  | 25 | 80 | 65 |\n",
       "\n"
      ],
      "text/plain": [
       "  id class math english science\n",
       "1 1  1     50   98      50     \n",
       "2 2  1     60   97      60     \n",
       "3 3  1     NA   86      78     \n",
       "4 4  1     30   98      58     \n",
       "5 5  2     25   80      65     "
      ]
     },
     "metadata": {},
     "output_type": "display_data"
    }
   ],
   "source": [
    "exam[c(3, 8, 15), \"math\"] <- NA #e, 8, 15행 math값 NA로 수정\n",
    "exam %>% head(5)"
   ]
  },
  {
   "cell_type": "code",
   "execution_count": 41,
   "metadata": {},
   "outputs": [
    {
     "data": {
      "text/html": [
       "<table>\n",
       "<thead><tr><th scope=col>mean_math</th></tr></thead>\n",
       "<tbody>\n",
       "\t<tr><td>55.23529</td></tr>\n",
       "</tbody>\n",
       "</table>\n"
      ],
      "text/latex": [
       "\\begin{tabular}{r|l}\n",
       " mean\\_math\\\\\n",
       "\\hline\n",
       "\t 55.23529\\\\\n",
       "\\end{tabular}\n"
      ],
      "text/markdown": [
       "\n",
       "| mean_math |\n",
       "|---|\n",
       "| 55.23529 |\n",
       "\n"
      ],
      "text/plain": [
       "  mean_math\n",
       "1 55.23529 "
      ]
     },
     "metadata": {},
     "output_type": "display_data"
    }
   ],
   "source": [
    "exam %>% summarise(mean_math=mean(math, na.rm=T))"
   ]
  },
  {
   "cell_type": "code",
   "execution_count": 54,
   "metadata": {},
   "outputs": [
    {
     "data": {
      "text/plain": [
       "\n",
       "FALSE \n",
       "   20 "
      ]
     },
     "metadata": {},
     "output_type": "display_data"
    }
   ],
   "source": [
    "exam$math <- ifelse(is.na(exam$math), mean(math, na.rm=T), exam$math) #값이 NA면 평균값, 아니면 그 값 그대로\n",
    "table(is.na(exam$math))"
   ]
  },
  {
   "cell_type": "code",
   "execution_count": 55,
   "metadata": {},
   "outputs": [
    {
     "data": {
      "text/html": [
       "<table>\n",
       "<thead><tr><th scope=col>id</th><th scope=col>class</th><th scope=col>math</th><th scope=col>english</th><th scope=col>science</th></tr></thead>\n",
       "<tbody>\n",
       "\t<tr><td> 1</td><td>1 </td><td>50</td><td>98</td><td>50</td></tr>\n",
       "\t<tr><td> 2</td><td>1 </td><td>60</td><td>97</td><td>60</td></tr>\n",
       "\t<tr><td> 3</td><td>1 </td><td>55</td><td>86</td><td>78</td></tr>\n",
       "\t<tr><td> 4</td><td>1 </td><td>30</td><td>98</td><td>58</td></tr>\n",
       "\t<tr><td> 5</td><td>2 </td><td>25</td><td>80</td><td>65</td></tr>\n",
       "\t<tr><td> 6</td><td>2 </td><td>50</td><td>89</td><td>98</td></tr>\n",
       "\t<tr><td> 7</td><td>2 </td><td>80</td><td>90</td><td>45</td></tr>\n",
       "\t<tr><td> 8</td><td>2 </td><td>55</td><td>78</td><td>25</td></tr>\n",
       "\t<tr><td> 9</td><td>3 </td><td>20</td><td>98</td><td>15</td></tr>\n",
       "\t<tr><td>10</td><td>3 </td><td>50</td><td>98</td><td>45</td></tr>\n",
       "\t<tr><td>11</td><td>3 </td><td>65</td><td>65</td><td>65</td></tr>\n",
       "\t<tr><td>12</td><td>3 </td><td>45</td><td>85</td><td>32</td></tr>\n",
       "\t<tr><td>13</td><td>4 </td><td>46</td><td>98</td><td>65</td></tr>\n",
       "\t<tr><td>14</td><td>4 </td><td>48</td><td>87</td><td>12</td></tr>\n",
       "\t<tr><td>15</td><td>4 </td><td>55</td><td>56</td><td>78</td></tr>\n",
       "\t<tr><td>16</td><td>4 </td><td>58</td><td>98</td><td>65</td></tr>\n",
       "\t<tr><td>17</td><td>5 </td><td>65</td><td>68</td><td>98</td></tr>\n",
       "\t<tr><td>18</td><td>5 </td><td>80</td><td>78</td><td>90</td></tr>\n",
       "\t<tr><td>19</td><td>5 </td><td>89</td><td>68</td><td>87</td></tr>\n",
       "\t<tr><td>20</td><td>5 </td><td>78</td><td>83</td><td>58</td></tr>\n",
       "</tbody>\n",
       "</table>\n"
      ],
      "text/latex": [
       "\\begin{tabular}{r|lllll}\n",
       " id & class & math & english & science\\\\\n",
       "\\hline\n",
       "\t  1 & 1  & 50 & 98 & 50\\\\\n",
       "\t  2 & 1  & 60 & 97 & 60\\\\\n",
       "\t  3 & 1  & 55 & 86 & 78\\\\\n",
       "\t  4 & 1  & 30 & 98 & 58\\\\\n",
       "\t  5 & 2  & 25 & 80 & 65\\\\\n",
       "\t  6 & 2  & 50 & 89 & 98\\\\\n",
       "\t  7 & 2  & 80 & 90 & 45\\\\\n",
       "\t  8 & 2  & 55 & 78 & 25\\\\\n",
       "\t  9 & 3  & 20 & 98 & 15\\\\\n",
       "\t 10 & 3  & 50 & 98 & 45\\\\\n",
       "\t 11 & 3  & 65 & 65 & 65\\\\\n",
       "\t 12 & 3  & 45 & 85 & 32\\\\\n",
       "\t 13 & 4  & 46 & 98 & 65\\\\\n",
       "\t 14 & 4  & 48 & 87 & 12\\\\\n",
       "\t 15 & 4  & 55 & 56 & 78\\\\\n",
       "\t 16 & 4  & 58 & 98 & 65\\\\\n",
       "\t 17 & 5  & 65 & 68 & 98\\\\\n",
       "\t 18 & 5  & 80 & 78 & 90\\\\\n",
       "\t 19 & 5  & 89 & 68 & 87\\\\\n",
       "\t 20 & 5  & 78 & 83 & 58\\\\\n",
       "\\end{tabular}\n"
      ],
      "text/markdown": [
       "\n",
       "| id | class | math | english | science |\n",
       "|---|---|---|---|---|\n",
       "|  1 | 1  | 50 | 98 | 50 |\n",
       "|  2 | 1  | 60 | 97 | 60 |\n",
       "|  3 | 1  | 55 | 86 | 78 |\n",
       "|  4 | 1  | 30 | 98 | 58 |\n",
       "|  5 | 2  | 25 | 80 | 65 |\n",
       "|  6 | 2  | 50 | 89 | 98 |\n",
       "|  7 | 2  | 80 | 90 | 45 |\n",
       "|  8 | 2  | 55 | 78 | 25 |\n",
       "|  9 | 3  | 20 | 98 | 15 |\n",
       "| 10 | 3  | 50 | 98 | 45 |\n",
       "| 11 | 3  | 65 | 65 | 65 |\n",
       "| 12 | 3  | 45 | 85 | 32 |\n",
       "| 13 | 4  | 46 | 98 | 65 |\n",
       "| 14 | 4  | 48 | 87 | 12 |\n",
       "| 15 | 4  | 55 | 56 | 78 |\n",
       "| 16 | 4  | 58 | 98 | 65 |\n",
       "| 17 | 5  | 65 | 68 | 98 |\n",
       "| 18 | 5  | 80 | 78 | 90 |\n",
       "| 19 | 5  | 89 | 68 | 87 |\n",
       "| 20 | 5  | 78 | 83 | 58 |\n",
       "\n"
      ],
      "text/plain": [
       "   id class math english science\n",
       "1   1 1     50   98      50     \n",
       "2   2 1     60   97      60     \n",
       "3   3 1     55   86      78     \n",
       "4   4 1     30   98      58     \n",
       "5   5 2     25   80      65     \n",
       "6   6 2     50   89      98     \n",
       "7   7 2     80   90      45     \n",
       "8   8 2     55   78      25     \n",
       "9   9 3     20   98      15     \n",
       "10 10 3     50   98      45     \n",
       "11 11 3     65   65      65     \n",
       "12 12 3     45   85      32     \n",
       "13 13 4     46   98      65     \n",
       "14 14 4     48   87      12     \n",
       "15 15 4     55   56      78     \n",
       "16 16 4     58   98      65     \n",
       "17 17 5     65   68      98     \n",
       "18 18 5     80   78      90     \n",
       "19 19 5     89   68      87     \n",
       "20 20 5     78   83      58     "
      ]
     },
     "metadata": {},
     "output_type": "display_data"
    }
   ],
   "source": [
    "exam"
   ]
  },
  {
   "cell_type": "code",
   "execution_count": 57,
   "metadata": {},
   "outputs": [
    {
     "data": {
      "text/html": [
       "<table>\n",
       "<thead><tr><th scope=col>id</th><th scope=col>class</th><th scope=col>math</th><th scope=col>english</th><th scope=col>science</th></tr></thead>\n",
       "<tbody>\n",
       "\t<tr><td> 1</td><td>1 </td><td>50</td><td>98</td><td>50</td></tr>\n",
       "\t<tr><td> 2</td><td>1 </td><td>60</td><td>NA</td><td>60</td></tr>\n",
       "\t<tr><td> 3</td><td>1 </td><td>55</td><td>86</td><td>78</td></tr>\n",
       "\t<tr><td> 4</td><td>1 </td><td>30</td><td>98</td><td>58</td></tr>\n",
       "\t<tr><td> 5</td><td>2 </td><td>25</td><td>80</td><td>65</td></tr>\n",
       "\t<tr><td> 6</td><td>2 </td><td>50</td><td>89</td><td>98</td></tr>\n",
       "\t<tr><td> 7</td><td>2 </td><td>80</td><td>NA</td><td>45</td></tr>\n",
       "\t<tr><td> 8</td><td>2 </td><td>55</td><td>78</td><td>25</td></tr>\n",
       "\t<tr><td> 9</td><td>3 </td><td>20</td><td>98</td><td>15</td></tr>\n",
       "\t<tr><td>10</td><td>3 </td><td>50</td><td>NA</td><td>45</td></tr>\n",
       "\t<tr><td>11</td><td>3 </td><td>65</td><td>65</td><td>65</td></tr>\n",
       "\t<tr><td>12</td><td>3 </td><td>45</td><td>85</td><td>32</td></tr>\n",
       "\t<tr><td>13</td><td>4 </td><td>46</td><td>98</td><td>65</td></tr>\n",
       "\t<tr><td>14</td><td>4 </td><td>48</td><td>87</td><td>12</td></tr>\n",
       "\t<tr><td>15</td><td>4 </td><td>55</td><td>56</td><td>78</td></tr>\n",
       "\t<tr><td>16</td><td>4 </td><td>58</td><td>98</td><td>65</td></tr>\n",
       "\t<tr><td>17</td><td>5 </td><td>65</td><td>68</td><td>98</td></tr>\n",
       "\t<tr><td>18</td><td>5 </td><td>80</td><td>78</td><td>90</td></tr>\n",
       "\t<tr><td>19</td><td>5 </td><td>89</td><td>68</td><td>87</td></tr>\n",
       "\t<tr><td>20</td><td>5 </td><td>78</td><td>83</td><td>58</td></tr>\n",
       "</tbody>\n",
       "</table>\n"
      ],
      "text/latex": [
       "\\begin{tabular}{r|lllll}\n",
       " id & class & math & english & science\\\\\n",
       "\\hline\n",
       "\t  1 & 1  & 50 & 98 & 50\\\\\n",
       "\t  2 & 1  & 60 & NA & 60\\\\\n",
       "\t  3 & 1  & 55 & 86 & 78\\\\\n",
       "\t  4 & 1  & 30 & 98 & 58\\\\\n",
       "\t  5 & 2  & 25 & 80 & 65\\\\\n",
       "\t  6 & 2  & 50 & 89 & 98\\\\\n",
       "\t  7 & 2  & 80 & NA & 45\\\\\n",
       "\t  8 & 2  & 55 & 78 & 25\\\\\n",
       "\t  9 & 3  & 20 & 98 & 15\\\\\n",
       "\t 10 & 3  & 50 & NA & 45\\\\\n",
       "\t 11 & 3  & 65 & 65 & 65\\\\\n",
       "\t 12 & 3  & 45 & 85 & 32\\\\\n",
       "\t 13 & 4  & 46 & 98 & 65\\\\\n",
       "\t 14 & 4  & 48 & 87 & 12\\\\\n",
       "\t 15 & 4  & 55 & 56 & 78\\\\\n",
       "\t 16 & 4  & 58 & 98 & 65\\\\\n",
       "\t 17 & 5  & 65 & 68 & 98\\\\\n",
       "\t 18 & 5  & 80 & 78 & 90\\\\\n",
       "\t 19 & 5  & 89 & 68 & 87\\\\\n",
       "\t 20 & 5  & 78 & 83 & 58\\\\\n",
       "\\end{tabular}\n"
      ],
      "text/markdown": [
       "\n",
       "| id | class | math | english | science |\n",
       "|---|---|---|---|---|\n",
       "|  1 | 1  | 50 | 98 | 50 |\n",
       "|  2 | 1  | 60 | NA | 60 |\n",
       "|  3 | 1  | 55 | 86 | 78 |\n",
       "|  4 | 1  | 30 | 98 | 58 |\n",
       "|  5 | 2  | 25 | 80 | 65 |\n",
       "|  6 | 2  | 50 | 89 | 98 |\n",
       "|  7 | 2  | 80 | NA | 45 |\n",
       "|  8 | 2  | 55 | 78 | 25 |\n",
       "|  9 | 3  | 20 | 98 | 15 |\n",
       "| 10 | 3  | 50 | NA | 45 |\n",
       "| 11 | 3  | 65 | 65 | 65 |\n",
       "| 12 | 3  | 45 | 85 | 32 |\n",
       "| 13 | 4  | 46 | 98 | 65 |\n",
       "| 14 | 4  | 48 | 87 | 12 |\n",
       "| 15 | 4  | 55 | 56 | 78 |\n",
       "| 16 | 4  | 58 | 98 | 65 |\n",
       "| 17 | 5  | 65 | 68 | 98 |\n",
       "| 18 | 5  | 80 | 78 | 90 |\n",
       "| 19 | 5  | 89 | 68 | 87 |\n",
       "| 20 | 5  | 78 | 83 | 58 |\n",
       "\n"
      ],
      "text/plain": [
       "   id class math english science\n",
       "1   1 1     50   98      50     \n",
       "2   2 1     60   NA      60     \n",
       "3   3 1     55   86      78     \n",
       "4   4 1     30   98      58     \n",
       "5   5 2     25   80      65     \n",
       "6   6 2     50   89      98     \n",
       "7   7 2     80   NA      45     \n",
       "8   8 2     55   78      25     \n",
       "9   9 3     20   98      15     \n",
       "10 10 3     50   NA      45     \n",
       "11 11 3     65   65      65     \n",
       "12 12 3     45   85      32     \n",
       "13 13 4     46   98      65     \n",
       "14 14 4     48   87      12     \n",
       "15 15 4     55   56      78     \n",
       "16 16 4     58   98      65     \n",
       "17 17 5     65   68      98     \n",
       "18 18 5     80   78      90     \n",
       "19 19 5     89   68      87     \n",
       "20 20 5     78   83      58     "
      ]
     },
     "metadata": {},
     "output_type": "display_data"
    }
   ],
   "source": [
    "exam[c(2, 7, 10), \"english\"] <- NA\n",
    "exam"
   ]
  },
  {
   "cell_type": "code",
   "execution_count": 60,
   "metadata": {},
   "outputs": [
    {
     "data": {
      "text/html": [
       "<table>\n",
       "<thead><tr><th scope=col>id</th><th scope=col>class</th><th scope=col>math</th><th scope=col>english</th><th scope=col>science</th></tr></thead>\n",
       "<tbody>\n",
       "\t<tr><td> 1      </td><td>1       </td><td>50      </td><td>98.00000</td><td>50      </td></tr>\n",
       "\t<tr><td> 2      </td><td>1       </td><td>60      </td><td>83.11765</td><td>60      </td></tr>\n",
       "\t<tr><td> 3      </td><td>1       </td><td>55      </td><td>86.00000</td><td>78      </td></tr>\n",
       "\t<tr><td> 4      </td><td>1       </td><td>30      </td><td>98.00000</td><td>58      </td></tr>\n",
       "\t<tr><td> 5      </td><td>2       </td><td>25      </td><td>80.00000</td><td>65      </td></tr>\n",
       "\t<tr><td> 6      </td><td>2       </td><td>50      </td><td>89.00000</td><td>98      </td></tr>\n",
       "\t<tr><td> 7      </td><td>2       </td><td>80      </td><td>83.11765</td><td>45      </td></tr>\n",
       "\t<tr><td> 8      </td><td>2       </td><td>55      </td><td>78.00000</td><td>25      </td></tr>\n",
       "\t<tr><td> 9      </td><td>3       </td><td>20      </td><td>98.00000</td><td>15      </td></tr>\n",
       "\t<tr><td>10      </td><td>3       </td><td>50      </td><td>83.11765</td><td>45      </td></tr>\n",
       "\t<tr><td>11      </td><td>3       </td><td>65      </td><td>65.00000</td><td>65      </td></tr>\n",
       "\t<tr><td>12      </td><td>3       </td><td>45      </td><td>85.00000</td><td>32      </td></tr>\n",
       "\t<tr><td>13      </td><td>4       </td><td>46      </td><td>98.00000</td><td>65      </td></tr>\n",
       "\t<tr><td>14      </td><td>4       </td><td>48      </td><td>87.00000</td><td>12      </td></tr>\n",
       "\t<tr><td>15      </td><td>4       </td><td>55      </td><td>56.00000</td><td>78      </td></tr>\n",
       "\t<tr><td>16      </td><td>4       </td><td>58      </td><td>98.00000</td><td>65      </td></tr>\n",
       "\t<tr><td>17      </td><td>5       </td><td>65      </td><td>68.00000</td><td>98      </td></tr>\n",
       "\t<tr><td>18      </td><td>5       </td><td>80      </td><td>78.00000</td><td>90      </td></tr>\n",
       "\t<tr><td>19      </td><td>5       </td><td>89      </td><td>68.00000</td><td>87      </td></tr>\n",
       "\t<tr><td>20      </td><td>5       </td><td>78      </td><td>83.00000</td><td>58      </td></tr>\n",
       "</tbody>\n",
       "</table>\n"
      ],
      "text/latex": [
       "\\begin{tabular}{r|lllll}\n",
       " id & class & math & english & science\\\\\n",
       "\\hline\n",
       "\t  1       & 1        & 50       & 98.00000 & 50      \\\\\n",
       "\t  2       & 1        & 60       & 83.11765 & 60      \\\\\n",
       "\t  3       & 1        & 55       & 86.00000 & 78      \\\\\n",
       "\t  4       & 1        & 30       & 98.00000 & 58      \\\\\n",
       "\t  5       & 2        & 25       & 80.00000 & 65      \\\\\n",
       "\t  6       & 2        & 50       & 89.00000 & 98      \\\\\n",
       "\t  7       & 2        & 80       & 83.11765 & 45      \\\\\n",
       "\t  8       & 2        & 55       & 78.00000 & 25      \\\\\n",
       "\t  9       & 3        & 20       & 98.00000 & 15      \\\\\n",
       "\t 10       & 3        & 50       & 83.11765 & 45      \\\\\n",
       "\t 11       & 3        & 65       & 65.00000 & 65      \\\\\n",
       "\t 12       & 3        & 45       & 85.00000 & 32      \\\\\n",
       "\t 13       & 4        & 46       & 98.00000 & 65      \\\\\n",
       "\t 14       & 4        & 48       & 87.00000 & 12      \\\\\n",
       "\t 15       & 4        & 55       & 56.00000 & 78      \\\\\n",
       "\t 16       & 4        & 58       & 98.00000 & 65      \\\\\n",
       "\t 17       & 5        & 65       & 68.00000 & 98      \\\\\n",
       "\t 18       & 5        & 80       & 78.00000 & 90      \\\\\n",
       "\t 19       & 5        & 89       & 68.00000 & 87      \\\\\n",
       "\t 20       & 5        & 78       & 83.00000 & 58      \\\\\n",
       "\\end{tabular}\n"
      ],
      "text/markdown": [
       "\n",
       "| id | class | math | english | science |\n",
       "|---|---|---|---|---|\n",
       "|  1       | 1        | 50       | 98.00000 | 50       |\n",
       "|  2       | 1        | 60       | 83.11765 | 60       |\n",
       "|  3       | 1        | 55       | 86.00000 | 78       |\n",
       "|  4       | 1        | 30       | 98.00000 | 58       |\n",
       "|  5       | 2        | 25       | 80.00000 | 65       |\n",
       "|  6       | 2        | 50       | 89.00000 | 98       |\n",
       "|  7       | 2        | 80       | 83.11765 | 45       |\n",
       "|  8       | 2        | 55       | 78.00000 | 25       |\n",
       "|  9       | 3        | 20       | 98.00000 | 15       |\n",
       "| 10       | 3        | 50       | 83.11765 | 45       |\n",
       "| 11       | 3        | 65       | 65.00000 | 65       |\n",
       "| 12       | 3        | 45       | 85.00000 | 32       |\n",
       "| 13       | 4        | 46       | 98.00000 | 65       |\n",
       "| 14       | 4        | 48       | 87.00000 | 12       |\n",
       "| 15       | 4        | 55       | 56.00000 | 78       |\n",
       "| 16       | 4        | 58       | 98.00000 | 65       |\n",
       "| 17       | 5        | 65       | 68.00000 | 98       |\n",
       "| 18       | 5        | 80       | 78.00000 | 90       |\n",
       "| 19       | 5        | 89       | 68.00000 | 87       |\n",
       "| 20       | 5        | 78       | 83.00000 | 58       |\n",
       "\n"
      ],
      "text/plain": [
       "   id class math english  science\n",
       "1   1 1     50   98.00000 50     \n",
       "2   2 1     60   83.11765 60     \n",
       "3   3 1     55   86.00000 78     \n",
       "4   4 1     30   98.00000 58     \n",
       "5   5 2     25   80.00000 65     \n",
       "6   6 2     50   89.00000 98     \n",
       "7   7 2     80   83.11765 45     \n",
       "8   8 2     55   78.00000 25     \n",
       "9   9 3     20   98.00000 15     \n",
       "10 10 3     50   83.11765 45     \n",
       "11 11 3     65   65.00000 65     \n",
       "12 12 3     45   85.00000 32     \n",
       "13 13 4     46   98.00000 65     \n",
       "14 14 4     48   87.00000 12     \n",
       "15 15 4     55   56.00000 78     \n",
       "16 16 4     58   98.00000 65     \n",
       "17 17 5     65   68.00000 98     \n",
       "18 18 5     80   78.00000 90     \n",
       "19 19 5     89   68.00000 87     \n",
       "20 20 5     78   83.00000 58     "
      ]
     },
     "metadata": {},
     "output_type": "display_data"
    }
   ],
   "source": [
    "exam$english <- ifelse(is.na(exam$english), mean(exam$english, na.rm = T), exam$english)\n",
    "exam"
   ]
  },
  {
   "cell_type": "code",
   "execution_count": 65,
   "metadata": {},
   "outputs": [
    {
     "data": {
      "text/html": [
       "<table>\n",
       "<thead><tr><th scope=col>id</th><th scope=col>class</th><th scope=col>math</th><th scope=col>english</th><th scope=col>science</th></tr></thead>\n",
       "<tbody>\n",
       "\t<tr><td> 1</td><td>1 </td><td>50</td><td>98</td><td>50</td></tr>\n",
       "\t<tr><td> 2</td><td>1 </td><td>60</td><td>83</td><td>60</td></tr>\n",
       "\t<tr><td> 3</td><td>1 </td><td>55</td><td>86</td><td>78</td></tr>\n",
       "\t<tr><td> 4</td><td>1 </td><td>30</td><td>98</td><td>58</td></tr>\n",
       "\t<tr><td> 5</td><td>2 </td><td>25</td><td>80</td><td>65</td></tr>\n",
       "\t<tr><td> 6</td><td>2 </td><td>50</td><td>89</td><td>98</td></tr>\n",
       "\t<tr><td> 7</td><td>2 </td><td>80</td><td>83</td><td>45</td></tr>\n",
       "\t<tr><td> 8</td><td>2 </td><td>55</td><td>78</td><td>25</td></tr>\n",
       "\t<tr><td> 9</td><td>3 </td><td>20</td><td>98</td><td>15</td></tr>\n",
       "\t<tr><td>10</td><td>3 </td><td>50</td><td>83</td><td>45</td></tr>\n",
       "\t<tr><td>11</td><td>3 </td><td>65</td><td>65</td><td>65</td></tr>\n",
       "\t<tr><td>12</td><td>3 </td><td>45</td><td>85</td><td>32</td></tr>\n",
       "\t<tr><td>13</td><td>4 </td><td>46</td><td>98</td><td>65</td></tr>\n",
       "\t<tr><td>14</td><td>4 </td><td>48</td><td>87</td><td>12</td></tr>\n",
       "\t<tr><td>15</td><td>4 </td><td>55</td><td>56</td><td>78</td></tr>\n",
       "\t<tr><td>16</td><td>4 </td><td>58</td><td>98</td><td>65</td></tr>\n",
       "\t<tr><td>17</td><td>5 </td><td>65</td><td>68</td><td>98</td></tr>\n",
       "\t<tr><td>18</td><td>5 </td><td>80</td><td>78</td><td>90</td></tr>\n",
       "\t<tr><td>19</td><td>5 </td><td>89</td><td>68</td><td>87</td></tr>\n",
       "\t<tr><td>20</td><td>5 </td><td>78</td><td>83</td><td>58</td></tr>\n",
       "</tbody>\n",
       "</table>\n"
      ],
      "text/latex": [
       "\\begin{tabular}{r|lllll}\n",
       " id & class & math & english & science\\\\\n",
       "\\hline\n",
       "\t  1 & 1  & 50 & 98 & 50\\\\\n",
       "\t  2 & 1  & 60 & 83 & 60\\\\\n",
       "\t  3 & 1  & 55 & 86 & 78\\\\\n",
       "\t  4 & 1  & 30 & 98 & 58\\\\\n",
       "\t  5 & 2  & 25 & 80 & 65\\\\\n",
       "\t  6 & 2  & 50 & 89 & 98\\\\\n",
       "\t  7 & 2  & 80 & 83 & 45\\\\\n",
       "\t  8 & 2  & 55 & 78 & 25\\\\\n",
       "\t  9 & 3  & 20 & 98 & 15\\\\\n",
       "\t 10 & 3  & 50 & 83 & 45\\\\\n",
       "\t 11 & 3  & 65 & 65 & 65\\\\\n",
       "\t 12 & 3  & 45 & 85 & 32\\\\\n",
       "\t 13 & 4  & 46 & 98 & 65\\\\\n",
       "\t 14 & 4  & 48 & 87 & 12\\\\\n",
       "\t 15 & 4  & 55 & 56 & 78\\\\\n",
       "\t 16 & 4  & 58 & 98 & 65\\\\\n",
       "\t 17 & 5  & 65 & 68 & 98\\\\\n",
       "\t 18 & 5  & 80 & 78 & 90\\\\\n",
       "\t 19 & 5  & 89 & 68 & 87\\\\\n",
       "\t 20 & 5  & 78 & 83 & 58\\\\\n",
       "\\end{tabular}\n"
      ],
      "text/markdown": [
       "\n",
       "| id | class | math | english | science |\n",
       "|---|---|---|---|---|\n",
       "|  1 | 1  | 50 | 98 | 50 |\n",
       "|  2 | 1  | 60 | 83 | 60 |\n",
       "|  3 | 1  | 55 | 86 | 78 |\n",
       "|  4 | 1  | 30 | 98 | 58 |\n",
       "|  5 | 2  | 25 | 80 | 65 |\n",
       "|  6 | 2  | 50 | 89 | 98 |\n",
       "|  7 | 2  | 80 | 83 | 45 |\n",
       "|  8 | 2  | 55 | 78 | 25 |\n",
       "|  9 | 3  | 20 | 98 | 15 |\n",
       "| 10 | 3  | 50 | 83 | 45 |\n",
       "| 11 | 3  | 65 | 65 | 65 |\n",
       "| 12 | 3  | 45 | 85 | 32 |\n",
       "| 13 | 4  | 46 | 98 | 65 |\n",
       "| 14 | 4  | 48 | 87 | 12 |\n",
       "| 15 | 4  | 55 | 56 | 78 |\n",
       "| 16 | 4  | 58 | 98 | 65 |\n",
       "| 17 | 5  | 65 | 68 | 98 |\n",
       "| 18 | 5  | 80 | 78 | 90 |\n",
       "| 19 | 5  | 89 | 68 | 87 |\n",
       "| 20 | 5  | 78 | 83 | 58 |\n",
       "\n"
      ],
      "text/plain": [
       "   id class math english science\n",
       "1   1 1     50   98      50     \n",
       "2   2 1     60   83      60     \n",
       "3   3 1     55   86      78     \n",
       "4   4 1     30   98      58     \n",
       "5   5 2     25   80      65     \n",
       "6   6 2     50   89      98     \n",
       "7   7 2     80   83      45     \n",
       "8   8 2     55   78      25     \n",
       "9   9 3     20   98      15     \n",
       "10 10 3     50   83      45     \n",
       "11 11 3     65   65      65     \n",
       "12 12 3     45   85      32     \n",
       "13 13 4     46   98      65     \n",
       "14 14 4     48   87      12     \n",
       "15 15 4     55   56      78     \n",
       "16 16 4     58   98      65     \n",
       "17 17 5     65   68      98     \n",
       "18 18 5     80   78      90     \n",
       "19 19 5     89   68      87     \n",
       "20 20 5     78   83      58     "
      ]
     },
     "metadata": {},
     "output_type": "display_data"
    }
   ],
   "source": [
    "options(digits=2) #소수점 표기 방법(n=데이터 총 자릿수)\n",
    "exam"
   ]
  },
  {
   "cell_type": "code",
   "execution_count": 68,
   "metadata": {},
   "outputs": [
    {
     "data": {
      "text/html": [
       "<table>\n",
       "<thead><tr><th scope=col>id</th><th scope=col>class</th><th scope=col>math</th><th scope=col>english</th><th scope=col>science</th><th scope=col>total</th></tr></thead>\n",
       "<tbody>\n",
       "\t<tr><td> 1 </td><td>1  </td><td>50 </td><td>98 </td><td>50 </td><td>1.1</td></tr>\n",
       "\t<tr><td> 2 </td><td>1  </td><td>60 </td><td>83 </td><td>60 </td><td>1.1</td></tr>\n",
       "\t<tr><td> 3 </td><td>1  </td><td>55 </td><td>86 </td><td>78 </td><td>1.1</td></tr>\n",
       "\t<tr><td> 4 </td><td>1  </td><td>30 </td><td>98 </td><td>58 </td><td>1.1</td></tr>\n",
       "\t<tr><td> 5 </td><td>2  </td><td>25 </td><td>80 </td><td>65 </td><td>1.1</td></tr>\n",
       "\t<tr><td> 6 </td><td>2  </td><td>50 </td><td>89 </td><td>98 </td><td>1.1</td></tr>\n",
       "\t<tr><td> 7 </td><td>2  </td><td>80 </td><td>83 </td><td>45 </td><td>1.1</td></tr>\n",
       "\t<tr><td> 8 </td><td>2  </td><td>55 </td><td>78 </td><td>25 </td><td>1.1</td></tr>\n",
       "\t<tr><td> 9 </td><td>3  </td><td>20 </td><td>98 </td><td>15 </td><td>1.1</td></tr>\n",
       "\t<tr><td>10 </td><td>3  </td><td>50 </td><td>83 </td><td>45 </td><td>1.1</td></tr>\n",
       "\t<tr><td>11 </td><td>3  </td><td>65 </td><td>65 </td><td>65 </td><td>1.1</td></tr>\n",
       "\t<tr><td>12 </td><td>3  </td><td>45 </td><td>85 </td><td>32 </td><td>1.1</td></tr>\n",
       "\t<tr><td>13 </td><td>4  </td><td>46 </td><td>98 </td><td>65 </td><td>1.1</td></tr>\n",
       "\t<tr><td>14 </td><td>4  </td><td>48 </td><td>87 </td><td>12 </td><td>1.1</td></tr>\n",
       "\t<tr><td>15 </td><td>4  </td><td>55 </td><td>56 </td><td>78 </td><td>1.1</td></tr>\n",
       "\t<tr><td>16 </td><td>4  </td><td>58 </td><td>98 </td><td>65 </td><td>1.1</td></tr>\n",
       "\t<tr><td>17 </td><td>5  </td><td>65 </td><td>68 </td><td>98 </td><td>1.1</td></tr>\n",
       "\t<tr><td>18 </td><td>5  </td><td>80 </td><td>78 </td><td>90 </td><td>1.1</td></tr>\n",
       "\t<tr><td>19 </td><td>5  </td><td>89 </td><td>68 </td><td>87 </td><td>1.1</td></tr>\n",
       "\t<tr><td>20 </td><td>5  </td><td>78 </td><td>83 </td><td>58 </td><td>1.1</td></tr>\n",
       "</tbody>\n",
       "</table>\n"
      ],
      "text/latex": [
       "\\begin{tabular}{r|llllll}\n",
       " id & class & math & english & science & total\\\\\n",
       "\\hline\n",
       "\t  1  & 1   & 50  & 98  & 50  & 1.1\\\\\n",
       "\t  2  & 1   & 60  & 83  & 60  & 1.1\\\\\n",
       "\t  3  & 1   & 55  & 86  & 78  & 1.1\\\\\n",
       "\t  4  & 1   & 30  & 98  & 58  & 1.1\\\\\n",
       "\t  5  & 2   & 25  & 80  & 65  & 1.1\\\\\n",
       "\t  6  & 2   & 50  & 89  & 98  & 1.1\\\\\n",
       "\t  7  & 2   & 80  & 83  & 45  & 1.1\\\\\n",
       "\t  8  & 2   & 55  & 78  & 25  & 1.1\\\\\n",
       "\t  9  & 3   & 20  & 98  & 15  & 1.1\\\\\n",
       "\t 10  & 3   & 50  & 83  & 45  & 1.1\\\\\n",
       "\t 11  & 3   & 65  & 65  & 65  & 1.1\\\\\n",
       "\t 12  & 3   & 45  & 85  & 32  & 1.1\\\\\n",
       "\t 13  & 4   & 46  & 98  & 65  & 1.1\\\\\n",
       "\t 14  & 4   & 48  & 87  & 12  & 1.1\\\\\n",
       "\t 15  & 4   & 55  & 56  & 78  & 1.1\\\\\n",
       "\t 16  & 4   & 58  & 98  & 65  & 1.1\\\\\n",
       "\t 17  & 5   & 65  & 68  & 98  & 1.1\\\\\n",
       "\t 18  & 5   & 80  & 78  & 90  & 1.1\\\\\n",
       "\t 19  & 5   & 89  & 68  & 87  & 1.1\\\\\n",
       "\t 20  & 5   & 78  & 83  & 58  & 1.1\\\\\n",
       "\\end{tabular}\n"
      ],
      "text/markdown": [
       "\n",
       "| id | class | math | english | science | total |\n",
       "|---|---|---|---|---|---|\n",
       "|  1  | 1   | 50  | 98  | 50  | 1.1 |\n",
       "|  2  | 1   | 60  | 83  | 60  | 1.1 |\n",
       "|  3  | 1   | 55  | 86  | 78  | 1.1 |\n",
       "|  4  | 1   | 30  | 98  | 58  | 1.1 |\n",
       "|  5  | 2   | 25  | 80  | 65  | 1.1 |\n",
       "|  6  | 2   | 50  | 89  | 98  | 1.1 |\n",
       "|  7  | 2   | 80  | 83  | 45  | 1.1 |\n",
       "|  8  | 2   | 55  | 78  | 25  | 1.1 |\n",
       "|  9  | 3   | 20  | 98  | 15  | 1.1 |\n",
       "| 10  | 3   | 50  | 83  | 45  | 1.1 |\n",
       "| 11  | 3   | 65  | 65  | 65  | 1.1 |\n",
       "| 12  | 3   | 45  | 85  | 32  | 1.1 |\n",
       "| 13  | 4   | 46  | 98  | 65  | 1.1 |\n",
       "| 14  | 4   | 48  | 87  | 12  | 1.1 |\n",
       "| 15  | 4   | 55  | 56  | 78  | 1.1 |\n",
       "| 16  | 4   | 58  | 98  | 65  | 1.1 |\n",
       "| 17  | 5   | 65  | 68  | 98  | 1.1 |\n",
       "| 18  | 5   | 80  | 78  | 90  | 1.1 |\n",
       "| 19  | 5   | 89  | 68  | 87  | 1.1 |\n",
       "| 20  | 5   | 78  | 83  | 58  | 1.1 |\n",
       "\n"
      ],
      "text/plain": [
       "   id class math english science total\n",
       "1   1 1     50   98      50      1.1  \n",
       "2   2 1     60   83      60      1.1  \n",
       "3   3 1     55   86      78      1.1  \n",
       "4   4 1     30   98      58      1.1  \n",
       "5   5 2     25   80      65      1.1  \n",
       "6   6 2     50   89      98      1.1  \n",
       "7   7 2     80   83      45      1.1  \n",
       "8   8 2     55   78      25      1.1  \n",
       "9   9 3     20   98      15      1.1  \n",
       "10 10 3     50   83      45      1.1  \n",
       "11 11 3     65   65      65      1.1  \n",
       "12 12 3     45   85      32      1.1  \n",
       "13 13 4     46   98      65      1.1  \n",
       "14 14 4     48   87      12      1.1  \n",
       "15 15 4     55   56      78      1.1  \n",
       "16 16 4     58   98      65      1.1  \n",
       "17 17 5     65   68      98      1.1  \n",
       "18 18 5     80   78      90      1.1  \n",
       "19 19 5     89   68      87      1.1  \n",
       "20 20 5     78   83      58      1.1  "
      ]
     },
     "metadata": {},
     "output_type": "display_data"
    }
   ],
   "source": [
    "exam <- exam %>% mutate(total = 1.123456789)\n",
    "exam"
   ]
  },
  {
   "cell_type": "code",
   "execution_count": 90,
   "metadata": {
    "collapsed": true
   },
   "outputs": [
    {
     "data": {
      "text/html": [
       "<table>\n",
       "<thead><tr><th scope=col>manufacturer</th><th scope=col>model</th><th scope=col>displ</th><th scope=col>year</th><th scope=col>cyl</th><th scope=col>trans</th><th scope=col>drv</th><th scope=col>cty</th><th scope=col>hwy</th><th scope=col>fl</th><th scope=col>class</th></tr></thead>\n",
       "<tbody>\n",
       "\t<tr><td>audi              </td><td>a4                </td><td>1.8               </td><td>1999              </td><td>4                 </td><td>auto(l5)          </td><td>f                 </td><td>18                </td><td>29                </td><td>p                 </td><td>compact           </td></tr>\n",
       "\t<tr><td>audi              </td><td>a4                </td><td>1.8               </td><td>1999              </td><td>4                 </td><td>manual(m5)        </td><td>f                 </td><td>21                </td><td>29                </td><td>p                 </td><td>compact           </td></tr>\n",
       "\t<tr><td>audi              </td><td>a4                </td><td>2.0               </td><td>2008              </td><td>4                 </td><td>manual(m6)        </td><td>f                 </td><td>20                </td><td>31                </td><td>p                 </td><td>compact           </td></tr>\n",
       "\t<tr><td>audi              </td><td>a4                </td><td>2.0               </td><td>2008              </td><td>4                 </td><td>auto(av)          </td><td>f                 </td><td>21                </td><td>30                </td><td>p                 </td><td>compact           </td></tr>\n",
       "\t<tr><td>audi              </td><td>a4                </td><td>2.8               </td><td>1999              </td><td>6                 </td><td>auto(l5)          </td><td>f                 </td><td>16                </td><td>26                </td><td>p                 </td><td>compact           </td></tr>\n",
       "\t<tr><td>audi              </td><td>a4                </td><td>2.8               </td><td>1999              </td><td>6                 </td><td>manual(m5)        </td><td>f                 </td><td>18                </td><td>26                </td><td>p                 </td><td>compact           </td></tr>\n",
       "\t<tr><td>audi              </td><td>a4                </td><td>3.1               </td><td>2008              </td><td>6                 </td><td>auto(av)          </td><td>f                 </td><td>18                </td><td>27                </td><td>p                 </td><td>compact           </td></tr>\n",
       "\t<tr><td>audi              </td><td>a4 quattro        </td><td>1.8               </td><td>1999              </td><td>4                 </td><td>manual(m5)        </td><td>4                 </td><td>18                </td><td>26                </td><td>p                 </td><td>compact           </td></tr>\n",
       "\t<tr><td>audi              </td><td>a4 quattro        </td><td>1.8               </td><td>1999              </td><td>4                 </td><td>auto(l5)          </td><td>4                 </td><td>16                </td><td>25                </td><td>p                 </td><td>compact           </td></tr>\n",
       "\t<tr><td>audi              </td><td>a4 quattro        </td><td>2.0               </td><td>2008              </td><td>4                 </td><td>manual(m6)        </td><td>4                 </td><td>20                </td><td>28                </td><td>p                 </td><td>compact           </td></tr>\n",
       "\t<tr><td>audi              </td><td>a4 quattro        </td><td>2.0               </td><td>2008              </td><td>4                 </td><td>auto(s6)          </td><td>4                 </td><td>19                </td><td>27                </td><td>p                 </td><td>compact           </td></tr>\n",
       "\t<tr><td>audi              </td><td>a4 quattro        </td><td>2.8               </td><td>1999              </td><td>6                 </td><td>auto(l5)          </td><td>4                 </td><td>15                </td><td>25                </td><td>p                 </td><td>compact           </td></tr>\n",
       "\t<tr><td>audi              </td><td>a4 quattro        </td><td>2.8               </td><td>1999              </td><td>6                 </td><td>manual(m5)        </td><td>4                 </td><td>17                </td><td>25                </td><td>p                 </td><td>compact           </td></tr>\n",
       "\t<tr><td>audi              </td><td>a4 quattro        </td><td>3.1               </td><td>2008              </td><td>6                 </td><td>auto(s6)          </td><td>4                 </td><td>17                </td><td>25                </td><td>p                 </td><td>compact           </td></tr>\n",
       "\t<tr><td>audi              </td><td>a4 quattro        </td><td>3.1               </td><td>2008              </td><td>6                 </td><td>manual(m6)        </td><td>4                 </td><td>15                </td><td>25                </td><td>p                 </td><td>compact           </td></tr>\n",
       "\t<tr><td>audi              </td><td>a6 quattro        </td><td>2.8               </td><td>1999              </td><td>6                 </td><td>auto(l5)          </td><td>4                 </td><td>15                </td><td>24                </td><td>p                 </td><td>midsize           </td></tr>\n",
       "\t<tr><td>audi              </td><td>a6 quattro        </td><td>3.1               </td><td>2008              </td><td>6                 </td><td>auto(s6)          </td><td>4                 </td><td>17                </td><td>25                </td><td>p                 </td><td>midsize           </td></tr>\n",
       "\t<tr><td>audi              </td><td>a6 quattro        </td><td>4.2               </td><td>2008              </td><td>8                 </td><td>auto(s6)          </td><td>4                 </td><td>16                </td><td>23                </td><td>p                 </td><td>midsize           </td></tr>\n",
       "\t<tr><td>chevrolet         </td><td>c1500 suburban 2wd</td><td>5.3               </td><td>2008              </td><td>8                 </td><td>auto(l4)          </td><td>r                 </td><td>14                </td><td>20                </td><td>r                 </td><td>suv               </td></tr>\n",
       "\t<tr><td>chevrolet         </td><td>c1500 suburban 2wd</td><td>5.3               </td><td>2008              </td><td>8                 </td><td>auto(l4)          </td><td>r                 </td><td>11                </td><td>15                </td><td>e                 </td><td>suv               </td></tr>\n",
       "\t<tr><td>chevrolet         </td><td>c1500 suburban 2wd</td><td>5.3               </td><td>2008              </td><td>8                 </td><td>auto(l4)          </td><td>r                 </td><td>14                </td><td>20                </td><td>r                 </td><td>suv               </td></tr>\n",
       "\t<tr><td>chevrolet         </td><td>c1500 suburban 2wd</td><td>5.7               </td><td>1999              </td><td>8                 </td><td>auto(l4)          </td><td>r                 </td><td>13                </td><td>17                </td><td>r                 </td><td>suv               </td></tr>\n",
       "\t<tr><td>chevrolet         </td><td>c1500 suburban 2wd</td><td>6.0               </td><td>2008              </td><td>8                 </td><td>auto(l4)          </td><td>r                 </td><td>12                </td><td>17                </td><td>r                 </td><td>suv               </td></tr>\n",
       "\t<tr><td>chevrolet         </td><td>corvette          </td><td>5.7               </td><td>1999              </td><td>8                 </td><td>manual(m6)        </td><td>r                 </td><td>16                </td><td>26                </td><td>p                 </td><td>2seater           </td></tr>\n",
       "\t<tr><td>chevrolet         </td><td>corvette          </td><td>5.7               </td><td>1999              </td><td>8                 </td><td>auto(l4)          </td><td>r                 </td><td>15                </td><td>23                </td><td>p                 </td><td>2seater           </td></tr>\n",
       "\t<tr><td>chevrolet         </td><td>corvette          </td><td>6.2               </td><td>2008              </td><td>8                 </td><td>manual(m6)        </td><td>r                 </td><td>16                </td><td>26                </td><td>p                 </td><td>2seater           </td></tr>\n",
       "\t<tr><td>chevrolet         </td><td>corvette          </td><td>6.2               </td><td>2008              </td><td>8                 </td><td>auto(s6)          </td><td>r                 </td><td>15                </td><td>25                </td><td>p                 </td><td>2seater           </td></tr>\n",
       "\t<tr><td>chevrolet         </td><td>corvette          </td><td>7.0               </td><td>2008              </td><td>8                 </td><td>manual(m6)        </td><td>r                 </td><td>15                </td><td>24                </td><td>p                 </td><td>2seater           </td></tr>\n",
       "\t<tr><td>chevrolet         </td><td>k1500 tahoe 4wd   </td><td>5.3               </td><td>2008              </td><td>8                 </td><td>auto(l4)          </td><td>4                 </td><td>14                </td><td>19                </td><td>r                 </td><td>suv               </td></tr>\n",
       "\t<tr><td>chevrolet         </td><td>k1500 tahoe 4wd   </td><td>5.3               </td><td>2008              </td><td>8                 </td><td>auto(l4)          </td><td>4                 </td><td>11                </td><td>14                </td><td>e                 </td><td>suv               </td></tr>\n",
       "\t<tr><td>...</td><td>...</td><td>...</td><td>...</td><td>...</td><td>...</td><td>...</td><td>...</td><td>...</td><td>...</td><td>...</td></tr>\n",
       "\t<tr><td>toyota           </td><td>toyota tacoma 4wd</td><td>3.4              </td><td>1999             </td><td>6                </td><td>auto(l4)         </td><td>4                </td><td>15               </td><td>19               </td><td>r                </td><td>pickup           </td></tr>\n",
       "\t<tr><td>toyota           </td><td>toyota tacoma 4wd</td><td>4.0              </td><td>2008             </td><td>6                </td><td>manual(m6)       </td><td>4                </td><td>15               </td><td>18               </td><td>r                </td><td>pickup           </td></tr>\n",
       "\t<tr><td>toyota           </td><td>toyota tacoma 4wd</td><td>4.0              </td><td>2008             </td><td>6                </td><td>auto(l5)         </td><td>4                </td><td>16               </td><td>20               </td><td>r                </td><td>pickup           </td></tr>\n",
       "\t<tr><td>volkswagen       </td><td>gti              </td><td>2.0              </td><td>1999             </td><td>4                </td><td>manual(m5)       </td><td>f                </td><td>21               </td><td>29               </td><td>r                </td><td>compact          </td></tr>\n",
       "\t<tr><td>volkswagen       </td><td>gti              </td><td>2.0              </td><td>1999             </td><td>4                </td><td>auto(l4)         </td><td>f                </td><td>19               </td><td>26               </td><td>r                </td><td>compact          </td></tr>\n",
       "\t<tr><td>volkswagen       </td><td>gti              </td><td>2.0              </td><td>2008             </td><td>4                </td><td>manual(m6)       </td><td>f                </td><td>21               </td><td>29               </td><td>p                </td><td>compact          </td></tr>\n",
       "\t<tr><td>volkswagen       </td><td>gti              </td><td>2.0              </td><td>2008             </td><td>4                </td><td>auto(s6)         </td><td>f                </td><td>22               </td><td>29               </td><td>p                </td><td>compact          </td></tr>\n",
       "\t<tr><td>volkswagen       </td><td>gti              </td><td>2.8              </td><td>1999             </td><td>6                </td><td>manual(m5)       </td><td>f                </td><td>17               </td><td>24               </td><td>r                </td><td>compact          </td></tr>\n",
       "\t<tr><td>volkswagen       </td><td>jetta            </td><td>1.9              </td><td>1999             </td><td>4                </td><td>manual(m5)       </td><td>f                </td><td>33               </td><td>44               </td><td>d                </td><td>compact          </td></tr>\n",
       "\t<tr><td>volkswagen       </td><td>jetta            </td><td>2.0              </td><td>1999             </td><td>4                </td><td>manual(m5)       </td><td>f                </td><td>21               </td><td>29               </td><td>r                </td><td>compact          </td></tr>\n",
       "\t<tr><td>volkswagen       </td><td>jetta            </td><td>2.0              </td><td>1999             </td><td>4                </td><td>auto(l4)         </td><td>f                </td><td>19               </td><td>26               </td><td>r                </td><td>compact          </td></tr>\n",
       "\t<tr><td>volkswagen       </td><td>jetta            </td><td>2.0              </td><td>2008             </td><td>4                </td><td>auto(s6)         </td><td>f                </td><td>22               </td><td>29               </td><td>p                </td><td>compact          </td></tr>\n",
       "\t<tr><td>volkswagen       </td><td>jetta            </td><td>2.0              </td><td>2008             </td><td>4                </td><td>manual(m6)       </td><td>f                </td><td>21               </td><td>29               </td><td>p                </td><td>compact          </td></tr>\n",
       "\t<tr><td>volkswagen       </td><td>jetta            </td><td>2.5              </td><td>2008             </td><td>5                </td><td>auto(s6)         </td><td>f                </td><td>21               </td><td>29               </td><td>r                </td><td>compact          </td></tr>\n",
       "\t<tr><td>volkswagen       </td><td>jetta            </td><td>2.5              </td><td>2008             </td><td>5                </td><td>manual(m5)       </td><td>f                </td><td>21               </td><td>29               </td><td>r                </td><td>compact          </td></tr>\n",
       "\t<tr><td>volkswagen       </td><td>jetta            </td><td>2.8              </td><td>1999             </td><td>6                </td><td>auto(l4)         </td><td>f                </td><td>16               </td><td>23               </td><td>r                </td><td>compact          </td></tr>\n",
       "\t<tr><td>volkswagen       </td><td>jetta            </td><td>2.8              </td><td>1999             </td><td>6                </td><td>manual(m5)       </td><td>f                </td><td>17               </td><td>24               </td><td>r                </td><td>compact          </td></tr>\n",
       "\t<tr><td>volkswagen       </td><td>new beetle       </td><td>1.9              </td><td>1999             </td><td>4                </td><td>manual(m5)       </td><td>f                </td><td>35               </td><td>44               </td><td>d                </td><td>subcompact       </td></tr>\n",
       "\t<tr><td>volkswagen       </td><td>new beetle       </td><td>1.9              </td><td>1999             </td><td>4                </td><td>auto(l4)         </td><td>f                </td><td>29               </td><td>41               </td><td>d                </td><td>subcompact       </td></tr>\n",
       "\t<tr><td>volkswagen       </td><td>new beetle       </td><td>2.0              </td><td>1999             </td><td>4                </td><td>manual(m5)       </td><td>f                </td><td>21               </td><td>29               </td><td>r                </td><td>subcompact       </td></tr>\n",
       "\t<tr><td>volkswagen       </td><td>new beetle       </td><td>2.0              </td><td>1999             </td><td>4                </td><td>auto(l4)         </td><td>f                </td><td>19               </td><td>26               </td><td>r                </td><td>subcompact       </td></tr>\n",
       "\t<tr><td>volkswagen       </td><td>new beetle       </td><td>2.5              </td><td>2008             </td><td>5                </td><td>manual(m5)       </td><td>f                </td><td>20               </td><td>28               </td><td>r                </td><td>subcompact       </td></tr>\n",
       "\t<tr><td>volkswagen       </td><td>new beetle       </td><td>2.5              </td><td>2008             </td><td>5                </td><td>auto(s6)         </td><td>f                </td><td>20               </td><td>29               </td><td>r                </td><td>subcompact       </td></tr>\n",
       "\t<tr><td>volkswagen       </td><td>passat           </td><td>1.8              </td><td>1999             </td><td>4                </td><td>manual(m5)       </td><td>f                </td><td>21               </td><td>29               </td><td>p                </td><td>midsize          </td></tr>\n",
       "\t<tr><td>volkswagen       </td><td>passat           </td><td>1.8              </td><td>1999             </td><td>4                </td><td>auto(l5)         </td><td>f                </td><td>18               </td><td>29               </td><td>p                </td><td>midsize          </td></tr>\n",
       "\t<tr><td>volkswagen       </td><td>passat           </td><td>2.0              </td><td>2008             </td><td>4                </td><td>auto(s6)         </td><td>f                </td><td>19               </td><td>28               </td><td>p                </td><td>midsize          </td></tr>\n",
       "\t<tr><td>volkswagen       </td><td>passat           </td><td>2.0              </td><td>2008             </td><td>4                </td><td>manual(m6)       </td><td>f                </td><td>21               </td><td>29               </td><td>p                </td><td>midsize          </td></tr>\n",
       "\t<tr><td>volkswagen       </td><td>passat           </td><td>2.8              </td><td>1999             </td><td>6                </td><td>auto(l5)         </td><td>f                </td><td>16               </td><td>26               </td><td>p                </td><td>midsize          </td></tr>\n",
       "\t<tr><td>volkswagen       </td><td>passat           </td><td>2.8              </td><td>1999             </td><td>6                </td><td>manual(m5)       </td><td>f                </td><td>18               </td><td>26               </td><td>p                </td><td>midsize          </td></tr>\n",
       "\t<tr><td>volkswagen       </td><td>passat           </td><td>3.6              </td><td>2008             </td><td>6                </td><td>auto(s6)         </td><td>f                </td><td>17               </td><td>26               </td><td>p                </td><td>midsize          </td></tr>\n",
       "</tbody>\n",
       "</table>\n"
      ],
      "text/latex": [
       "\\begin{tabular}{r|lllllllllll}\n",
       " manufacturer & model & displ & year & cyl & trans & drv & cty & hwy & fl & class\\\\\n",
       "\\hline\n",
       "\t audi               & a4                 & 1.8                & 1999               & 4                  & auto(l5)           & f                  & 18                 & 29                 & p                  & compact           \\\\\n",
       "\t audi               & a4                 & 1.8                & 1999               & 4                  & manual(m5)         & f                  & 21                 & 29                 & p                  & compact           \\\\\n",
       "\t audi               & a4                 & 2.0                & 2008               & 4                  & manual(m6)         & f                  & 20                 & 31                 & p                  & compact           \\\\\n",
       "\t audi               & a4                 & 2.0                & 2008               & 4                  & auto(av)           & f                  & 21                 & 30                 & p                  & compact           \\\\\n",
       "\t audi               & a4                 & 2.8                & 1999               & 6                  & auto(l5)           & f                  & 16                 & 26                 & p                  & compact           \\\\\n",
       "\t audi               & a4                 & 2.8                & 1999               & 6                  & manual(m5)         & f                  & 18                 & 26                 & p                  & compact           \\\\\n",
       "\t audi               & a4                 & 3.1                & 2008               & 6                  & auto(av)           & f                  & 18                 & 27                 & p                  & compact           \\\\\n",
       "\t audi               & a4 quattro         & 1.8                & 1999               & 4                  & manual(m5)         & 4                  & 18                 & 26                 & p                  & compact           \\\\\n",
       "\t audi               & a4 quattro         & 1.8                & 1999               & 4                  & auto(l5)           & 4                  & 16                 & 25                 & p                  & compact           \\\\\n",
       "\t audi               & a4 quattro         & 2.0                & 2008               & 4                  & manual(m6)         & 4                  & 20                 & 28                 & p                  & compact           \\\\\n",
       "\t audi               & a4 quattro         & 2.0                & 2008               & 4                  & auto(s6)           & 4                  & 19                 & 27                 & p                  & compact           \\\\\n",
       "\t audi               & a4 quattro         & 2.8                & 1999               & 6                  & auto(l5)           & 4                  & 15                 & 25                 & p                  & compact           \\\\\n",
       "\t audi               & a4 quattro         & 2.8                & 1999               & 6                  & manual(m5)         & 4                  & 17                 & 25                 & p                  & compact           \\\\\n",
       "\t audi               & a4 quattro         & 3.1                & 2008               & 6                  & auto(s6)           & 4                  & 17                 & 25                 & p                  & compact           \\\\\n",
       "\t audi               & a4 quattro         & 3.1                & 2008               & 6                  & manual(m6)         & 4                  & 15                 & 25                 & p                  & compact           \\\\\n",
       "\t audi               & a6 quattro         & 2.8                & 1999               & 6                  & auto(l5)           & 4                  & 15                 & 24                 & p                  & midsize           \\\\\n",
       "\t audi               & a6 quattro         & 3.1                & 2008               & 6                  & auto(s6)           & 4                  & 17                 & 25                 & p                  & midsize           \\\\\n",
       "\t audi               & a6 quattro         & 4.2                & 2008               & 8                  & auto(s6)           & 4                  & 16                 & 23                 & p                  & midsize           \\\\\n",
       "\t chevrolet          & c1500 suburban 2wd & 5.3                & 2008               & 8                  & auto(l4)           & r                  & 14                 & 20                 & r                  & suv               \\\\\n",
       "\t chevrolet          & c1500 suburban 2wd & 5.3                & 2008               & 8                  & auto(l4)           & r                  & 11                 & 15                 & e                  & suv               \\\\\n",
       "\t chevrolet          & c1500 suburban 2wd & 5.3                & 2008               & 8                  & auto(l4)           & r                  & 14                 & 20                 & r                  & suv               \\\\\n",
       "\t chevrolet          & c1500 suburban 2wd & 5.7                & 1999               & 8                  & auto(l4)           & r                  & 13                 & 17                 & r                  & suv               \\\\\n",
       "\t chevrolet          & c1500 suburban 2wd & 6.0                & 2008               & 8                  & auto(l4)           & r                  & 12                 & 17                 & r                  & suv               \\\\\n",
       "\t chevrolet          & corvette           & 5.7                & 1999               & 8                  & manual(m6)         & r                  & 16                 & 26                 & p                  & 2seater           \\\\\n",
       "\t chevrolet          & corvette           & 5.7                & 1999               & 8                  & auto(l4)           & r                  & 15                 & 23                 & p                  & 2seater           \\\\\n",
       "\t chevrolet          & corvette           & 6.2                & 2008               & 8                  & manual(m6)         & r                  & 16                 & 26                 & p                  & 2seater           \\\\\n",
       "\t chevrolet          & corvette           & 6.2                & 2008               & 8                  & auto(s6)           & r                  & 15                 & 25                 & p                  & 2seater           \\\\\n",
       "\t chevrolet          & corvette           & 7.0                & 2008               & 8                  & manual(m6)         & r                  & 15                 & 24                 & p                  & 2seater           \\\\\n",
       "\t chevrolet          & k1500 tahoe 4wd    & 5.3                & 2008               & 8                  & auto(l4)           & 4                  & 14                 & 19                 & r                  & suv               \\\\\n",
       "\t chevrolet          & k1500 tahoe 4wd    & 5.3                & 2008               & 8                  & auto(l4)           & 4                  & 11                 & 14                 & e                  & suv               \\\\\n",
       "\t ... & ... & ... & ... & ... & ... & ... & ... & ... & ... & ...\\\\\n",
       "\t toyota            & toyota tacoma 4wd & 3.4               & 1999              & 6                 & auto(l4)          & 4                 & 15                & 19                & r                 & pickup           \\\\\n",
       "\t toyota            & toyota tacoma 4wd & 4.0               & 2008              & 6                 & manual(m6)        & 4                 & 15                & 18                & r                 & pickup           \\\\\n",
       "\t toyota            & toyota tacoma 4wd & 4.0               & 2008              & 6                 & auto(l5)          & 4                 & 16                & 20                & r                 & pickup           \\\\\n",
       "\t volkswagen        & gti               & 2.0               & 1999              & 4                 & manual(m5)        & f                 & 21                & 29                & r                 & compact          \\\\\n",
       "\t volkswagen        & gti               & 2.0               & 1999              & 4                 & auto(l4)          & f                 & 19                & 26                & r                 & compact          \\\\\n",
       "\t volkswagen        & gti               & 2.0               & 2008              & 4                 & manual(m6)        & f                 & 21                & 29                & p                 & compact          \\\\\n",
       "\t volkswagen        & gti               & 2.0               & 2008              & 4                 & auto(s6)          & f                 & 22                & 29                & p                 & compact          \\\\\n",
       "\t volkswagen        & gti               & 2.8               & 1999              & 6                 & manual(m5)        & f                 & 17                & 24                & r                 & compact          \\\\\n",
       "\t volkswagen        & jetta             & 1.9               & 1999              & 4                 & manual(m5)        & f                 & 33                & 44                & d                 & compact          \\\\\n",
       "\t volkswagen        & jetta             & 2.0               & 1999              & 4                 & manual(m5)        & f                 & 21                & 29                & r                 & compact          \\\\\n",
       "\t volkswagen        & jetta             & 2.0               & 1999              & 4                 & auto(l4)          & f                 & 19                & 26                & r                 & compact          \\\\\n",
       "\t volkswagen        & jetta             & 2.0               & 2008              & 4                 & auto(s6)          & f                 & 22                & 29                & p                 & compact          \\\\\n",
       "\t volkswagen        & jetta             & 2.0               & 2008              & 4                 & manual(m6)        & f                 & 21                & 29                & p                 & compact          \\\\\n",
       "\t volkswagen        & jetta             & 2.5               & 2008              & 5                 & auto(s6)          & f                 & 21                & 29                & r                 & compact          \\\\\n",
       "\t volkswagen        & jetta             & 2.5               & 2008              & 5                 & manual(m5)        & f                 & 21                & 29                & r                 & compact          \\\\\n",
       "\t volkswagen        & jetta             & 2.8               & 1999              & 6                 & auto(l4)          & f                 & 16                & 23                & r                 & compact          \\\\\n",
       "\t volkswagen        & jetta             & 2.8               & 1999              & 6                 & manual(m5)        & f                 & 17                & 24                & r                 & compact          \\\\\n",
       "\t volkswagen        & new beetle        & 1.9               & 1999              & 4                 & manual(m5)        & f                 & 35                & 44                & d                 & subcompact       \\\\\n",
       "\t volkswagen        & new beetle        & 1.9               & 1999              & 4                 & auto(l4)          & f                 & 29                & 41                & d                 & subcompact       \\\\\n",
       "\t volkswagen        & new beetle        & 2.0               & 1999              & 4                 & manual(m5)        & f                 & 21                & 29                & r                 & subcompact       \\\\\n",
       "\t volkswagen        & new beetle        & 2.0               & 1999              & 4                 & auto(l4)          & f                 & 19                & 26                & r                 & subcompact       \\\\\n",
       "\t volkswagen        & new beetle        & 2.5               & 2008              & 5                 & manual(m5)        & f                 & 20                & 28                & r                 & subcompact       \\\\\n",
       "\t volkswagen        & new beetle        & 2.5               & 2008              & 5                 & auto(s6)          & f                 & 20                & 29                & r                 & subcompact       \\\\\n",
       "\t volkswagen        & passat            & 1.8               & 1999              & 4                 & manual(m5)        & f                 & 21                & 29                & p                 & midsize          \\\\\n",
       "\t volkswagen        & passat            & 1.8               & 1999              & 4                 & auto(l5)          & f                 & 18                & 29                & p                 & midsize          \\\\\n",
       "\t volkswagen        & passat            & 2.0               & 2008              & 4                 & auto(s6)          & f                 & 19                & 28                & p                 & midsize          \\\\\n",
       "\t volkswagen        & passat            & 2.0               & 2008              & 4                 & manual(m6)        & f                 & 21                & 29                & p                 & midsize          \\\\\n",
       "\t volkswagen        & passat            & 2.8               & 1999              & 6                 & auto(l5)          & f                 & 16                & 26                & p                 & midsize          \\\\\n",
       "\t volkswagen        & passat            & 2.8               & 1999              & 6                 & manual(m5)        & f                 & 18                & 26                & p                 & midsize          \\\\\n",
       "\t volkswagen        & passat            & 3.6               & 2008              & 6                 & auto(s6)          & f                 & 17                & 26                & p                 & midsize          \\\\\n",
       "\\end{tabular}\n"
      ],
      "text/markdown": [
       "\n",
       "| manufacturer | model | displ | year | cyl | trans | drv | cty | hwy | fl | class |\n",
       "|---|---|---|---|---|---|---|---|---|---|---|\n",
       "| audi               | a4                 | 1.8                | 1999               | 4                  | auto(l5)           | f                  | 18                 | 29                 | p                  | compact            |\n",
       "| audi               | a4                 | 1.8                | 1999               | 4                  | manual(m5)         | f                  | 21                 | 29                 | p                  | compact            |\n",
       "| audi               | a4                 | 2.0                | 2008               | 4                  | manual(m6)         | f                  | 20                 | 31                 | p                  | compact            |\n",
       "| audi               | a4                 | 2.0                | 2008               | 4                  | auto(av)           | f                  | 21                 | 30                 | p                  | compact            |\n",
       "| audi               | a4                 | 2.8                | 1999               | 6                  | auto(l5)           | f                  | 16                 | 26                 | p                  | compact            |\n",
       "| audi               | a4                 | 2.8                | 1999               | 6                  | manual(m5)         | f                  | 18                 | 26                 | p                  | compact            |\n",
       "| audi               | a4                 | 3.1                | 2008               | 6                  | auto(av)           | f                  | 18                 | 27                 | p                  | compact            |\n",
       "| audi               | a4 quattro         | 1.8                | 1999               | 4                  | manual(m5)         | 4                  | 18                 | 26                 | p                  | compact            |\n",
       "| audi               | a4 quattro         | 1.8                | 1999               | 4                  | auto(l5)           | 4                  | 16                 | 25                 | p                  | compact            |\n",
       "| audi               | a4 quattro         | 2.0                | 2008               | 4                  | manual(m6)         | 4                  | 20                 | 28                 | p                  | compact            |\n",
       "| audi               | a4 quattro         | 2.0                | 2008               | 4                  | auto(s6)           | 4                  | 19                 | 27                 | p                  | compact            |\n",
       "| audi               | a4 quattro         | 2.8                | 1999               | 6                  | auto(l5)           | 4                  | 15                 | 25                 | p                  | compact            |\n",
       "| audi               | a4 quattro         | 2.8                | 1999               | 6                  | manual(m5)         | 4                  | 17                 | 25                 | p                  | compact            |\n",
       "| audi               | a4 quattro         | 3.1                | 2008               | 6                  | auto(s6)           | 4                  | 17                 | 25                 | p                  | compact            |\n",
       "| audi               | a4 quattro         | 3.1                | 2008               | 6                  | manual(m6)         | 4                  | 15                 | 25                 | p                  | compact            |\n",
       "| audi               | a6 quattro         | 2.8                | 1999               | 6                  | auto(l5)           | 4                  | 15                 | 24                 | p                  | midsize            |\n",
       "| audi               | a6 quattro         | 3.1                | 2008               | 6                  | auto(s6)           | 4                  | 17                 | 25                 | p                  | midsize            |\n",
       "| audi               | a6 quattro         | 4.2                | 2008               | 8                  | auto(s6)           | 4                  | 16                 | 23                 | p                  | midsize            |\n",
       "| chevrolet          | c1500 suburban 2wd | 5.3                | 2008               | 8                  | auto(l4)           | r                  | 14                 | 20                 | r                  | suv                |\n",
       "| chevrolet          | c1500 suburban 2wd | 5.3                | 2008               | 8                  | auto(l4)           | r                  | 11                 | 15                 | e                  | suv                |\n",
       "| chevrolet          | c1500 suburban 2wd | 5.3                | 2008               | 8                  | auto(l4)           | r                  | 14                 | 20                 | r                  | suv                |\n",
       "| chevrolet          | c1500 suburban 2wd | 5.7                | 1999               | 8                  | auto(l4)           | r                  | 13                 | 17                 | r                  | suv                |\n",
       "| chevrolet          | c1500 suburban 2wd | 6.0                | 2008               | 8                  | auto(l4)           | r                  | 12                 | 17                 | r                  | suv                |\n",
       "| chevrolet          | corvette           | 5.7                | 1999               | 8                  | manual(m6)         | r                  | 16                 | 26                 | p                  | 2seater            |\n",
       "| chevrolet          | corvette           | 5.7                | 1999               | 8                  | auto(l4)           | r                  | 15                 | 23                 | p                  | 2seater            |\n",
       "| chevrolet          | corvette           | 6.2                | 2008               | 8                  | manual(m6)         | r                  | 16                 | 26                 | p                  | 2seater            |\n",
       "| chevrolet          | corvette           | 6.2                | 2008               | 8                  | auto(s6)           | r                  | 15                 | 25                 | p                  | 2seater            |\n",
       "| chevrolet          | corvette           | 7.0                | 2008               | 8                  | manual(m6)         | r                  | 15                 | 24                 | p                  | 2seater            |\n",
       "| chevrolet          | k1500 tahoe 4wd    | 5.3                | 2008               | 8                  | auto(l4)           | 4                  | 14                 | 19                 | r                  | suv                |\n",
       "| chevrolet          | k1500 tahoe 4wd    | 5.3                | 2008               | 8                  | auto(l4)           | 4                  | 11                 | 14                 | e                  | suv                |\n",
       "| ... | ... | ... | ... | ... | ... | ... | ... | ... | ... | ... |\n",
       "| toyota            | toyota tacoma 4wd | 3.4               | 1999              | 6                 | auto(l4)          | 4                 | 15                | 19                | r                 | pickup            |\n",
       "| toyota            | toyota tacoma 4wd | 4.0               | 2008              | 6                 | manual(m6)        | 4                 | 15                | 18                | r                 | pickup            |\n",
       "| toyota            | toyota tacoma 4wd | 4.0               | 2008              | 6                 | auto(l5)          | 4                 | 16                | 20                | r                 | pickup            |\n",
       "| volkswagen        | gti               | 2.0               | 1999              | 4                 | manual(m5)        | f                 | 21                | 29                | r                 | compact           |\n",
       "| volkswagen        | gti               | 2.0               | 1999              | 4                 | auto(l4)          | f                 | 19                | 26                | r                 | compact           |\n",
       "| volkswagen        | gti               | 2.0               | 2008              | 4                 | manual(m6)        | f                 | 21                | 29                | p                 | compact           |\n",
       "| volkswagen        | gti               | 2.0               | 2008              | 4                 | auto(s6)          | f                 | 22                | 29                | p                 | compact           |\n",
       "| volkswagen        | gti               | 2.8               | 1999              | 6                 | manual(m5)        | f                 | 17                | 24                | r                 | compact           |\n",
       "| volkswagen        | jetta             | 1.9               | 1999              | 4                 | manual(m5)        | f                 | 33                | 44                | d                 | compact           |\n",
       "| volkswagen        | jetta             | 2.0               | 1999              | 4                 | manual(m5)        | f                 | 21                | 29                | r                 | compact           |\n",
       "| volkswagen        | jetta             | 2.0               | 1999              | 4                 | auto(l4)          | f                 | 19                | 26                | r                 | compact           |\n",
       "| volkswagen        | jetta             | 2.0               | 2008              | 4                 | auto(s6)          | f                 | 22                | 29                | p                 | compact           |\n",
       "| volkswagen        | jetta             | 2.0               | 2008              | 4                 | manual(m6)        | f                 | 21                | 29                | p                 | compact           |\n",
       "| volkswagen        | jetta             | 2.5               | 2008              | 5                 | auto(s6)          | f                 | 21                | 29                | r                 | compact           |\n",
       "| volkswagen        | jetta             | 2.5               | 2008              | 5                 | manual(m5)        | f                 | 21                | 29                | r                 | compact           |\n",
       "| volkswagen        | jetta             | 2.8               | 1999              | 6                 | auto(l4)          | f                 | 16                | 23                | r                 | compact           |\n",
       "| volkswagen        | jetta             | 2.8               | 1999              | 6                 | manual(m5)        | f                 | 17                | 24                | r                 | compact           |\n",
       "| volkswagen        | new beetle        | 1.9               | 1999              | 4                 | manual(m5)        | f                 | 35                | 44                | d                 | subcompact        |\n",
       "| volkswagen        | new beetle        | 1.9               | 1999              | 4                 | auto(l4)          | f                 | 29                | 41                | d                 | subcompact        |\n",
       "| volkswagen        | new beetle        | 2.0               | 1999              | 4                 | manual(m5)        | f                 | 21                | 29                | r                 | subcompact        |\n",
       "| volkswagen        | new beetle        | 2.0               | 1999              | 4                 | auto(l4)          | f                 | 19                | 26                | r                 | subcompact        |\n",
       "| volkswagen        | new beetle        | 2.5               | 2008              | 5                 | manual(m5)        | f                 | 20                | 28                | r                 | subcompact        |\n",
       "| volkswagen        | new beetle        | 2.5               | 2008              | 5                 | auto(s6)          | f                 | 20                | 29                | r                 | subcompact        |\n",
       "| volkswagen        | passat            | 1.8               | 1999              | 4                 | manual(m5)        | f                 | 21                | 29                | p                 | midsize           |\n",
       "| volkswagen        | passat            | 1.8               | 1999              | 4                 | auto(l5)          | f                 | 18                | 29                | p                 | midsize           |\n",
       "| volkswagen        | passat            | 2.0               | 2008              | 4                 | auto(s6)          | f                 | 19                | 28                | p                 | midsize           |\n",
       "| volkswagen        | passat            | 2.0               | 2008              | 4                 | manual(m6)        | f                 | 21                | 29                | p                 | midsize           |\n",
       "| volkswagen        | passat            | 2.8               | 1999              | 6                 | auto(l5)          | f                 | 16                | 26                | p                 | midsize           |\n",
       "| volkswagen        | passat            | 2.8               | 1999              | 6                 | manual(m5)        | f                 | 18                | 26                | p                 | midsize           |\n",
       "| volkswagen        | passat            | 3.6               | 2008              | 6                 | auto(s6)          | f                 | 17                | 26                | p                 | midsize           |\n",
       "\n"
      ],
      "text/plain": [
       "    manufacturer model              displ year cyl trans      drv cty hwy fl \n",
       "1   audi         a4                 1.8   1999 4   auto(l5)   f   18  29  p  \n",
       "2   audi         a4                 1.8   1999 4   manual(m5) f   21  29  p  \n",
       "3   audi         a4                 2.0   2008 4   manual(m6) f   20  31  p  \n",
       "4   audi         a4                 2.0   2008 4   auto(av)   f   21  30  p  \n",
       "5   audi         a4                 2.8   1999 6   auto(l5)   f   16  26  p  \n",
       "6   audi         a4                 2.8   1999 6   manual(m5) f   18  26  p  \n",
       "7   audi         a4                 3.1   2008 6   auto(av)   f   18  27  p  \n",
       "8   audi         a4 quattro         1.8   1999 4   manual(m5) 4   18  26  p  \n",
       "9   audi         a4 quattro         1.8   1999 4   auto(l5)   4   16  25  p  \n",
       "10  audi         a4 quattro         2.0   2008 4   manual(m6) 4   20  28  p  \n",
       "11  audi         a4 quattro         2.0   2008 4   auto(s6)   4   19  27  p  \n",
       "12  audi         a4 quattro         2.8   1999 6   auto(l5)   4   15  25  p  \n",
       "13  audi         a4 quattro         2.8   1999 6   manual(m5) 4   17  25  p  \n",
       "14  audi         a4 quattro         3.1   2008 6   auto(s6)   4   17  25  p  \n",
       "15  audi         a4 quattro         3.1   2008 6   manual(m6) 4   15  25  p  \n",
       "16  audi         a6 quattro         2.8   1999 6   auto(l5)   4   15  24  p  \n",
       "17  audi         a6 quattro         3.1   2008 6   auto(s6)   4   17  25  p  \n",
       "18  audi         a6 quattro         4.2   2008 8   auto(s6)   4   16  23  p  \n",
       "19  chevrolet    c1500 suburban 2wd 5.3   2008 8   auto(l4)   r   14  20  r  \n",
       "20  chevrolet    c1500 suburban 2wd 5.3   2008 8   auto(l4)   r   11  15  e  \n",
       "21  chevrolet    c1500 suburban 2wd 5.3   2008 8   auto(l4)   r   14  20  r  \n",
       "22  chevrolet    c1500 suburban 2wd 5.7   1999 8   auto(l4)   r   13  17  r  \n",
       "23  chevrolet    c1500 suburban 2wd 6.0   2008 8   auto(l4)   r   12  17  r  \n",
       "24  chevrolet    corvette           5.7   1999 8   manual(m6) r   16  26  p  \n",
       "25  chevrolet    corvette           5.7   1999 8   auto(l4)   r   15  23  p  \n",
       "26  chevrolet    corvette           6.2   2008 8   manual(m6) r   16  26  p  \n",
       "27  chevrolet    corvette           6.2   2008 8   auto(s6)   r   15  25  p  \n",
       "28  chevrolet    corvette           7.0   2008 8   manual(m6) r   15  24  p  \n",
       "29  chevrolet    k1500 tahoe 4wd    5.3   2008 8   auto(l4)   4   14  19  r  \n",
       "30  chevrolet    k1500 tahoe 4wd    5.3   2008 8   auto(l4)   4   11  14  e  \n",
       "... ...          ...                ...   ...  ... ...        ... ... ... ...\n",
       "205 toyota       toyota tacoma 4wd  3.4   1999 6   auto(l4)   4   15  19  r  \n",
       "206 toyota       toyota tacoma 4wd  4.0   2008 6   manual(m6) 4   15  18  r  \n",
       "207 toyota       toyota tacoma 4wd  4.0   2008 6   auto(l5)   4   16  20  r  \n",
       "208 volkswagen   gti                2.0   1999 4   manual(m5) f   21  29  r  \n",
       "209 volkswagen   gti                2.0   1999 4   auto(l4)   f   19  26  r  \n",
       "210 volkswagen   gti                2.0   2008 4   manual(m6) f   21  29  p  \n",
       "211 volkswagen   gti                2.0   2008 4   auto(s6)   f   22  29  p  \n",
       "212 volkswagen   gti                2.8   1999 6   manual(m5) f   17  24  r  \n",
       "213 volkswagen   jetta              1.9   1999 4   manual(m5) f   33  44  d  \n",
       "214 volkswagen   jetta              2.0   1999 4   manual(m5) f   21  29  r  \n",
       "215 volkswagen   jetta              2.0   1999 4   auto(l4)   f   19  26  r  \n",
       "216 volkswagen   jetta              2.0   2008 4   auto(s6)   f   22  29  p  \n",
       "217 volkswagen   jetta              2.0   2008 4   manual(m6) f   21  29  p  \n",
       "218 volkswagen   jetta              2.5   2008 5   auto(s6)   f   21  29  r  \n",
       "219 volkswagen   jetta              2.5   2008 5   manual(m5) f   21  29  r  \n",
       "220 volkswagen   jetta              2.8   1999 6   auto(l4)   f   16  23  r  \n",
       "221 volkswagen   jetta              2.8   1999 6   manual(m5) f   17  24  r  \n",
       "222 volkswagen   new beetle         1.9   1999 4   manual(m5) f   35  44  d  \n",
       "223 volkswagen   new beetle         1.9   1999 4   auto(l4)   f   29  41  d  \n",
       "224 volkswagen   new beetle         2.0   1999 4   manual(m5) f   21  29  r  \n",
       "225 volkswagen   new beetle         2.0   1999 4   auto(l4)   f   19  26  r  \n",
       "226 volkswagen   new beetle         2.5   2008 5   manual(m5) f   20  28  r  \n",
       "227 volkswagen   new beetle         2.5   2008 5   auto(s6)   f   20  29  r  \n",
       "228 volkswagen   passat             1.8   1999 4   manual(m5) f   21  29  p  \n",
       "229 volkswagen   passat             1.8   1999 4   auto(l5)   f   18  29  p  \n",
       "230 volkswagen   passat             2.0   2008 4   auto(s6)   f   19  28  p  \n",
       "231 volkswagen   passat             2.0   2008 4   manual(m6) f   21  29  p  \n",
       "232 volkswagen   passat             2.8   1999 6   auto(l5)   f   16  26  p  \n",
       "233 volkswagen   passat             2.8   1999 6   manual(m5) f   18  26  p  \n",
       "234 volkswagen   passat             3.6   2008 6   auto(s6)   f   17  26  p  \n",
       "    class     \n",
       "1   compact   \n",
       "2   compact   \n",
       "3   compact   \n",
       "4   compact   \n",
       "5   compact   \n",
       "6   compact   \n",
       "7   compact   \n",
       "8   compact   \n",
       "9   compact   \n",
       "10  compact   \n",
       "11  compact   \n",
       "12  compact   \n",
       "13  compact   \n",
       "14  compact   \n",
       "15  compact   \n",
       "16  midsize   \n",
       "17  midsize   \n",
       "18  midsize   \n",
       "19  suv       \n",
       "20  suv       \n",
       "21  suv       \n",
       "22  suv       \n",
       "23  suv       \n",
       "24  2seater   \n",
       "25  2seater   \n",
       "26  2seater   \n",
       "27  2seater   \n",
       "28  2seater   \n",
       "29  suv       \n",
       "30  suv       \n",
       "... ...       \n",
       "205 pickup    \n",
       "206 pickup    \n",
       "207 pickup    \n",
       "208 compact   \n",
       "209 compact   \n",
       "210 compact   \n",
       "211 compact   \n",
       "212 compact   \n",
       "213 compact   \n",
       "214 compact   \n",
       "215 compact   \n",
       "216 compact   \n",
       "217 compact   \n",
       "218 compact   \n",
       "219 compact   \n",
       "220 compact   \n",
       "221 compact   \n",
       "222 subcompact\n",
       "223 subcompact\n",
       "224 subcompact\n",
       "225 subcompact\n",
       "226 subcompact\n",
       "227 subcompact\n",
       "228 midsize   \n",
       "229 midsize   \n",
       "230 midsize   \n",
       "231 midsize   \n",
       "232 midsize   \n",
       "233 midsize   \n",
       "234 midsize   "
      ]
     },
     "metadata": {},
     "output_type": "display_data"
    }
   ],
   "source": [
    "#혼자서 해보기 p.170\n",
    "mpg <- as.data.frame(ggplot2::mpg)\n",
    "mpg[c(65, 124, 131, 153, 121), \"hwy\"] <- NA\n",
    "mpg"
   ]
  },
  {
   "cell_type": "code",
   "execution_count": 78,
   "metadata": {},
   "outputs": [
    {
     "data": {
      "text/plain": [
       "\n",
       "FALSE  TRUE \n",
       "  229     5 "
      ]
     },
     "metadata": {},
     "output_type": "display_data"
    }
   ],
   "source": [
    "table(is.na(mpg$hwy))"
   ]
  },
  {
   "cell_type": "code",
   "execution_count": 79,
   "metadata": {},
   "outputs": [
    {
     "data": {
      "text/plain": [
       "\n",
       "FALSE \n",
       "  234 "
      ]
     },
     "metadata": {},
     "output_type": "display_data"
    }
   ],
   "source": [
    "table(is.na(mpg$drv))"
   ]
  },
  {
   "cell_type": "code",
   "execution_count": 91,
   "metadata": {},
   "outputs": [
    {
     "name": "stderr",
     "output_type": "stream",
     "text": [
      "`summarise()` ungrouping output (override with `.groups` argument)\n"
     ]
    },
    {
     "data": {
      "text/html": [
       "<table>\n",
       "<thead><tr><th scope=col>drv</th><th scope=col>mean_drv</th></tr></thead>\n",
       "<tbody>\n",
       "\t<tr><td>4 </td><td>19</td></tr>\n",
       "\t<tr><td>f </td><td>28</td></tr>\n",
       "\t<tr><td>r </td><td>21</td></tr>\n",
       "</tbody>\n",
       "</table>\n"
      ],
      "text/latex": [
       "\\begin{tabular}{r|ll}\n",
       " drv & mean\\_drv\\\\\n",
       "\\hline\n",
       "\t 4  & 19\\\\\n",
       "\t f  & 28\\\\\n",
       "\t r  & 21\\\\\n",
       "\\end{tabular}\n"
      ],
      "text/markdown": [
       "\n",
       "| drv | mean_drv |\n",
       "|---|---|\n",
       "| 4  | 19 |\n",
       "| f  | 28 |\n",
       "| r  | 21 |\n",
       "\n"
      ],
      "text/plain": [
       "  drv mean_drv\n",
       "1 4   19      \n",
       "2 f   28      \n",
       "3 r   21      "
      ]
     },
     "metadata": {},
     "output_type": "display_data"
    }
   ],
   "source": [
    "#case 1:\n",
    "mpg$hwy <- ifelse(is.na(mpg$hwy), mean(mpg$hwy, na.rm = T), mpg$hwy)\n",
    "mpg %>% group_by(drv) %>% summarise(mean_drv = mean(hwy))"
   ]
  },
  {
   "cell_type": "code",
   "execution_count": 94,
   "metadata": {},
   "outputs": [
    {
     "name": "stderr",
     "output_type": "stream",
     "text": [
      "`summarise()` ungrouping output (override with `.groups` argument)\n"
     ]
    },
    {
     "data": {
      "text/html": [
       "<table>\n",
       "<thead><tr><th scope=col>drv</th><th scope=col>mean_hwy</th></tr></thead>\n",
       "<tbody>\n",
       "\t<tr><td>4 </td><td>19</td></tr>\n",
       "\t<tr><td>f </td><td>28</td></tr>\n",
       "\t<tr><td>r </td><td>21</td></tr>\n",
       "</tbody>\n",
       "</table>\n"
      ],
      "text/latex": [
       "\\begin{tabular}{r|ll}\n",
       " drv & mean\\_hwy\\\\\n",
       "\\hline\n",
       "\t 4  & 19\\\\\n",
       "\t f  & 28\\\\\n",
       "\t r  & 21\\\\\n",
       "\\end{tabular}\n"
      ],
      "text/markdown": [
       "\n",
       "| drv | mean_hwy |\n",
       "|---|---|\n",
       "| 4  | 19 |\n",
       "| f  | 28 |\n",
       "| r  | 21 |\n",
       "\n"
      ],
      "text/plain": [
       "  drv mean_hwy\n",
       "1 4   19      \n",
       "2 f   28      \n",
       "3 r   21      "
      ]
     },
     "metadata": {},
     "output_type": "display_data"
    }
   ],
   "source": [
    "#case 2:\n",
    "mpg %>%\n",
    "    filter(!is.na(hwy)) %>%\n",
    "    group_by(drv) %>%\n",
    "    summarise(mean_hwy=mean(hwy))"
   ]
  },
  {
   "cell_type": "markdown",
   "metadata": {},
   "source": [
    "## 7-2. 이상치 제거하기"
   ]
  },
  {
   "cell_type": "code",
   "execution_count": 119,
   "metadata": {},
   "outputs": [
    {
     "data": {
      "text/html": [
       "<table>\n",
       "<thead><tr><th scope=col>sex</th><th scope=col>score</th></tr></thead>\n",
       "<tbody>\n",
       "\t<tr><td>1</td><td>5</td></tr>\n",
       "\t<tr><td>2</td><td>4</td></tr>\n",
       "\t<tr><td>1</td><td>3</td></tr>\n",
       "\t<tr><td>3</td><td>4</td></tr>\n",
       "\t<tr><td>2</td><td>2</td></tr>\n",
       "\t<tr><td>1</td><td>6</td></tr>\n",
       "</tbody>\n",
       "</table>\n"
      ],
      "text/latex": [
       "\\begin{tabular}{r|ll}\n",
       " sex & score\\\\\n",
       "\\hline\n",
       "\t 1 & 5\\\\\n",
       "\t 2 & 4\\\\\n",
       "\t 1 & 3\\\\\n",
       "\t 3 & 4\\\\\n",
       "\t 2 & 2\\\\\n",
       "\t 1 & 6\\\\\n",
       "\\end{tabular}\n"
      ],
      "text/markdown": [
       "\n",
       "| sex | score |\n",
       "|---|---|\n",
       "| 1 | 5 |\n",
       "| 2 | 4 |\n",
       "| 1 | 3 |\n",
       "| 3 | 4 |\n",
       "| 2 | 2 |\n",
       "| 1 | 6 |\n",
       "\n"
      ],
      "text/plain": [
       "  sex score\n",
       "1 1   5    \n",
       "2 2   4    \n",
       "3 1   3    \n",
       "4 3   4    \n",
       "5 2   2    \n",
       "6 1   6    "
      ]
     },
     "metadata": {},
     "output_type": "display_data"
    }
   ],
   "source": [
    "#sex는 1, 2 / score는 5점 척도로 가정. \n",
    "#즉, sex =1, 2 이외의 것은 이상치, 1 <= score <= 5 이외 것은 이상치\n",
    "outlier <- data.frame(sex = c(1, 2, 1, 3, 2, 1),\n",
    "                     score = c(5, 4, 3, 4, 2, 6))\n",
    "outlier"
   ]
  },
  {
   "cell_type": "code",
   "execution_count": 120,
   "metadata": {},
   "outputs": [
    {
     "data": {
      "text/plain": [
       "\n",
       "1 2 3 \n",
       "3 2 1 "
      ]
     },
     "metadata": {},
     "output_type": "display_data"
    }
   ],
   "source": [
    "table(outlier$sex)"
   ]
  },
  {
   "cell_type": "code",
   "execution_count": 121,
   "metadata": {},
   "outputs": [
    {
     "data": {
      "text/plain": [
       "\n",
       "2 3 4 5 6 \n",
       "1 1 2 1 1 "
      ]
     },
     "metadata": {},
     "output_type": "display_data"
    }
   ],
   "source": [
    "table(outlier$score)"
   ]
  },
  {
   "cell_type": "code",
   "execution_count": 122,
   "metadata": {},
   "outputs": [
    {
     "data": {
      "text/html": [
       "<table>\n",
       "<thead><tr><th scope=col>sex</th><th scope=col>score</th></tr></thead>\n",
       "<tbody>\n",
       "\t<tr><td> 1</td><td>5 </td></tr>\n",
       "\t<tr><td> 2</td><td>4 </td></tr>\n",
       "\t<tr><td> 1</td><td>3 </td></tr>\n",
       "\t<tr><td>NA</td><td>4 </td></tr>\n",
       "\t<tr><td> 2</td><td>2 </td></tr>\n",
       "\t<tr><td> 1</td><td>6 </td></tr>\n",
       "</tbody>\n",
       "</table>\n"
      ],
      "text/latex": [
       "\\begin{tabular}{r|ll}\n",
       " sex & score\\\\\n",
       "\\hline\n",
       "\t  1 & 5 \\\\\n",
       "\t  2 & 4 \\\\\n",
       "\t  1 & 3 \\\\\n",
       "\t NA & 4 \\\\\n",
       "\t  2 & 2 \\\\\n",
       "\t  1 & 6 \\\\\n",
       "\\end{tabular}\n"
      ],
      "text/markdown": [
       "\n",
       "| sex | score |\n",
       "|---|---|\n",
       "|  1 | 5  |\n",
       "|  2 | 4  |\n",
       "|  1 | 3  |\n",
       "| NA | 4  |\n",
       "|  2 | 2  |\n",
       "|  1 | 6  |\n",
       "\n"
      ],
      "text/plain": [
       "  sex score\n",
       "1  1  5    \n",
       "2  2  4    \n",
       "3  1  3    \n",
       "4 NA  4    \n",
       "5  2  2    \n",
       "6  1  6    "
      ]
     },
     "metadata": {},
     "output_type": "display_data"
    }
   ],
   "source": [
    "outlier$sex <- ifelse(outlier$sex == 1 | outlier$sex == 2, outlier$sex, NA)\n",
    "outlier"
   ]
  },
  {
   "cell_type": "code",
   "execution_count": 123,
   "metadata": {},
   "outputs": [
    {
     "data": {
      "text/html": [
       "<table>\n",
       "<thead><tr><th scope=col>sex</th><th scope=col>score</th></tr></thead>\n",
       "<tbody>\n",
       "\t<tr><td> 1</td><td> 5</td></tr>\n",
       "\t<tr><td> 2</td><td> 4</td></tr>\n",
       "\t<tr><td> 1</td><td> 3</td></tr>\n",
       "\t<tr><td>NA</td><td> 4</td></tr>\n",
       "\t<tr><td> 2</td><td> 2</td></tr>\n",
       "\t<tr><td> 1</td><td>NA</td></tr>\n",
       "</tbody>\n",
       "</table>\n"
      ],
      "text/latex": [
       "\\begin{tabular}{r|ll}\n",
       " sex & score\\\\\n",
       "\\hline\n",
       "\t  1 &  5\\\\\n",
       "\t  2 &  4\\\\\n",
       "\t  1 &  3\\\\\n",
       "\t NA &  4\\\\\n",
       "\t  2 &  2\\\\\n",
       "\t  1 & NA\\\\\n",
       "\\end{tabular}\n"
      ],
      "text/markdown": [
       "\n",
       "| sex | score |\n",
       "|---|---|\n",
       "|  1 |  5 |\n",
       "|  2 |  4 |\n",
       "|  1 |  3 |\n",
       "| NA |  4 |\n",
       "|  2 |  2 |\n",
       "|  1 | NA |\n",
       "\n"
      ],
      "text/plain": [
       "  sex score\n",
       "1  1   5   \n",
       "2  2   4   \n",
       "3  1   3   \n",
       "4 NA   4   \n",
       "5  2   2   \n",
       "6  1  NA   "
      ]
     },
     "metadata": {},
     "output_type": "display_data"
    }
   ],
   "source": [
    "outlier$score <- ifelse(1 <= outlier$score & outlier$score <= 5, outlier$score, NA)\n",
    "outlier"
   ]
  },
  {
   "cell_type": "code",
   "execution_count": 125,
   "metadata": {},
   "outputs": [
    {
     "name": "stderr",
     "output_type": "stream",
     "text": [
      "`summarise()` ungrouping output (override with `.groups` argument)\n"
     ]
    },
    {
     "data": {
      "text/html": [
       "<table>\n",
       "<thead><tr><th scope=col>sex</th><th scope=col>mean_score</th></tr></thead>\n",
       "<tbody>\n",
       "\t<tr><td>1</td><td>4</td></tr>\n",
       "\t<tr><td>2</td><td>3</td></tr>\n",
       "</tbody>\n",
       "</table>\n"
      ],
      "text/latex": [
       "\\begin{tabular}{r|ll}\n",
       " sex & mean\\_score\\\\\n",
       "\\hline\n",
       "\t 1 & 4\\\\\n",
       "\t 2 & 3\\\\\n",
       "\\end{tabular}\n"
      ],
      "text/markdown": [
       "\n",
       "| sex | mean_score |\n",
       "|---|---|\n",
       "| 1 | 4 |\n",
       "| 2 | 3 |\n",
       "\n"
      ],
      "text/plain": [
       "  sex mean_score\n",
       "1 1   4         \n",
       "2 2   3         "
      ]
     },
     "metadata": {},
     "output_type": "display_data"
    }
   ],
   "source": [
    "outlier %>%\n",
    "    filter(!is.na(sex) & !is.na(score)) %>%\n",
    "    group_by(sex) %>%\n",
    "    summarise(mean_score = mean(score))"
   ]
  },
  {
   "cell_type": "code",
   "execution_count": 126,
   "metadata": {},
   "outputs": [
    {
     "data": {
      "text/html": [
       "<table>\n",
       "<thead><tr><th scope=col>sex</th><th scope=col>score</th></tr></thead>\n",
       "<tbody>\n",
       "\t<tr><td> 1</td><td> 5</td></tr>\n",
       "\t<tr><td> 2</td><td> 4</td></tr>\n",
       "\t<tr><td> 1</td><td> 3</td></tr>\n",
       "\t<tr><td>NA</td><td> 4</td></tr>\n",
       "\t<tr><td> 2</td><td> 2</td></tr>\n",
       "\t<tr><td> 1</td><td>NA</td></tr>\n",
       "</tbody>\n",
       "</table>\n"
      ],
      "text/latex": [
       "\\begin{tabular}{r|ll}\n",
       " sex & score\\\\\n",
       "\\hline\n",
       "\t  1 &  5\\\\\n",
       "\t  2 &  4\\\\\n",
       "\t  1 &  3\\\\\n",
       "\t NA &  4\\\\\n",
       "\t  2 &  2\\\\\n",
       "\t  1 & NA\\\\\n",
       "\\end{tabular}\n"
      ],
      "text/markdown": [
       "\n",
       "| sex | score |\n",
       "|---|---|\n",
       "|  1 |  5 |\n",
       "|  2 |  4 |\n",
       "|  1 |  3 |\n",
       "| NA |  4 |\n",
       "|  2 |  2 |\n",
       "|  1 | NA |\n",
       "\n"
      ],
      "text/plain": [
       "  sex score\n",
       "1  1   5   \n",
       "2  2   4   \n",
       "3  1   3   \n",
       "4 NA   4   \n",
       "5  2   2   \n",
       "6  1  NA   "
      ]
     },
     "metadata": {},
     "output_type": "display_data"
    }
   ],
   "source": [
    "outlier"
   ]
  },
  {
   "cell_type": "code",
   "execution_count": 127,
   "metadata": {
    "collapsed": true
   },
   "outputs": [
    {
     "data": {
      "image/png": "[encoded data removed]",
      "text/plain": [
       "plot without title"
      ]
     },
     "metadata": {},
     "output_type": "display_data"
    }
   ],
   "source": [
    "boxplot(mpg$hwy) #이상치 2개 확인할 수 있음"
   ]
  },
  {
   "cell_type": "code",
   "execution_count": 128,
   "metadata": {
    "collapsed": true
   },
   "outputs": [
    {
     "data": {
      "text/html": [
       "<table>\n",
       "<tbody>\n",
       "\t<tr><td>12</td></tr>\n",
       "\t<tr><td>18</td></tr>\n",
       "\t<tr><td>24</td></tr>\n",
       "\t<tr><td>27</td></tr>\n",
       "\t<tr><td>37</td></tr>\n",
       "</tbody>\n",
       "</table>\n"
      ],
      "text/latex": [
       "\\begin{tabular}{l}\n",
       "\t 12\\\\\n",
       "\t 18\\\\\n",
       "\t 24\\\\\n",
       "\t 27\\\\\n",
       "\t 37\\\\\n",
       "\\end{tabular}\n"
      ],
      "text/markdown": [
       "\n",
       "| 12 |\n",
       "| 18 |\n",
       "| 24 |\n",
       "| 27 |\n",
       "| 37 |\n",
       "\n"
      ],
      "text/plain": [
       "     [,1]\n",
       "[1,] 12  \n",
       "[2,] 18  \n",
       "[3,] 24  \n",
       "[4,] 27  \n",
       "[5,] 37  "
      ]
     },
     "metadata": {},
     "output_type": "display_data"
    },
    {
     "data": {
      "image/png": "[encoded data removed]",
      "text/plain": [
       "plot without title"
      ]
     },
     "metadata": {},
     "output_type": "display_data"
    }
   ],
   "source": [
    "boxplot(mpg$hwy)$stats"
   ]
  },
  {
   "cell_type": "code",
   "execution_count": 130,
   "metadata": {},
   "outputs": [
    {
     "data": {
      "text/plain": [
       "\n",
       "FALSE  TRUE \n",
       "  231     3 "
      ]
     },
     "metadata": {},
     "output_type": "display_data"
    }
   ],
   "source": [
    "mpg$hwy <- ifelse(mpg$hwy < 12 | mpg$hwy> 37, NA, mpg$hwy)\n",
    "table(is.na(mpg$hwy)) #결측치 3개 확인"
   ]
  },
  {
   "cell_type": "code",
   "execution_count": 134,
   "metadata": {},
   "outputs": [
    {
     "name": "stderr",
     "output_type": "stream",
     "text": [
      "`summarise()` ungrouping output (override with `.groups` argument)\n"
     ]
    },
    {
     "data": {
      "text/html": [
       "<table>\n",
       "<thead><tr><th scope=col>drv</th><th scope=col>mean_hwy</th></tr></thead>\n",
       "<tbody>\n",
       "\t<tr><td>4 </td><td>19</td></tr>\n",
       "\t<tr><td>f </td><td>28</td></tr>\n",
       "\t<tr><td>r </td><td>21</td></tr>\n",
       "</tbody>\n",
       "</table>\n"
      ],
      "text/latex": [
       "\\begin{tabular}{r|ll}\n",
       " drv & mean\\_hwy\\\\\n",
       "\\hline\n",
       "\t 4  & 19\\\\\n",
       "\t f  & 28\\\\\n",
       "\t r  & 21\\\\\n",
       "\\end{tabular}\n"
      ],
      "text/markdown": [
       "\n",
       "| drv | mean_hwy |\n",
       "|---|---|\n",
       "| 4  | 19 |\n",
       "| f  | 28 |\n",
       "| r  | 21 |\n",
       "\n"
      ],
      "text/plain": [
       "  drv mean_hwy\n",
       "1 4   19      \n",
       "2 f   28      \n",
       "3 r   21      "
      ]
     },
     "metadata": {},
     "output_type": "display_data"
    }
   ],
   "source": [
    "mpg %>%\n",
    "    group_by(drv) %>%\n",
    "    summarise(mean_hwy = mean(hwy, na.rm=T))"
   ]
  },
  {
   "cell_type": "markdown",
   "metadata": {},
   "source": [
    "혼자서 해보기(p.178)"
   ]
  },
  {
   "cell_type": "code",
   "execution_count": 148,
   "metadata": {},
   "outputs": [],
   "source": [
    "mpg <- as.data.frame(ggplot2::mpg)\n",
    "mpg[c(10, 14, 58, 93), \"drv\"] <-  \"k\" #이상치 'k' 생성\n",
    "mpg[c(29,43,129,203), \"cty\"] <- c(3, 4, 39, 42) #이상치 4개 생성"
   ]
  },
  {
   "cell_type": "code",
   "execution_count": 149,
   "metadata": {},
   "outputs": [
    {
     "data": {
      "text/plain": [
       "\n",
       "  4   f   k   r \n",
       "100 106   4  24 "
      ]
     },
     "metadata": {},
     "output_type": "display_data"
    },
    {
     "data": {
      "text/plain": [
       "\n",
       " 3  4  9 11 12 13 14 15 16 17 18 19 20 21 22 23 24 25 26 28 29 33 35 39 42 \n",
       " 1  1  5 20  8 20 18 24 19 14 26 20 11 23  4  3  5  2  3  2  1  1  1  1  1 "
      ]
     },
     "metadata": {},
     "output_type": "display_data"
    }
   ],
   "source": [
    "table(mpg$drv)\n",
    "table(mpg$cty)"
   ]
  },
  {
   "cell_type": "code",
   "execution_count": 146,
   "metadata": {},
   "outputs": [],
   "source": [
    "#case 1:\n",
    "#mpg$drv <- ifelse(mpg$drv == \"k\", NA, mpg$drv)"
   ]
  },
  {
   "cell_type": "code",
   "execution_count": 150,
   "metadata": {},
   "outputs": [],
   "source": [
    "#case 2: %in% 사용\n",
    "mpg$drv <- ifelse(mpg$drv %in% c(\"4\", \"f\", \"r\"),mpg$drv, NA)"
   ]
  },
  {
   "cell_type": "code",
   "execution_count": 152,
   "metadata": {},
   "outputs": [
    {
     "data": {
      "text/plain": [
       "\n",
       "  4   f   r \n",
       "100 106  24 "
      ]
     },
     "metadata": {},
     "output_type": "display_data"
    }
   ],
   "source": [
    "table(mpg$drv)"
   ]
  },
  {
   "cell_type": "code",
   "execution_count": 155,
   "metadata": {
    "collapsed": true
   },
   "outputs": [
    {
     "data": {
      "text/html": [
       "<table>\n",
       "<tbody>\n",
       "\t<tr><td> 9</td></tr>\n",
       "\t<tr><td>14</td></tr>\n",
       "\t<tr><td>17</td></tr>\n",
       "\t<tr><td>19</td></tr>\n",
       "\t<tr><td>26</td></tr>\n",
       "</tbody>\n",
       "</table>\n"
      ],
      "text/latex": [
       "\\begin{tabular}{l}\n",
       "\t  9\\\\\n",
       "\t 14\\\\\n",
       "\t 17\\\\\n",
       "\t 19\\\\\n",
       "\t 26\\\\\n",
       "\\end{tabular}\n"
      ],
      "text/markdown": [
       "\n",
       "|  9 |\n",
       "| 14 |\n",
       "| 17 |\n",
       "| 19 |\n",
       "| 26 |\n",
       "\n"
      ],
      "text/plain": [
       "     [,1]\n",
       "[1,]  9  \n",
       "[2,] 14  \n",
       "[3,] 17  \n",
       "[4,] 19  \n",
       "[5,] 26  "
      ]
     },
     "metadata": {},
     "output_type": "display_data"
    },
    {
     "data": {
      "image/png": "[encoded data removed]",
      "text/plain": [
       "plot without title"
      ]
     },
     "metadata": {},
     "output_type": "display_data"
    }
   ],
   "source": [
    "boxplot(mpg$cty)$stats"
   ]
  },
  {
   "cell_type": "code",
   "execution_count": 159,
   "metadata": {},
   "outputs": [
    {
     "data": {
      "text/plain": [
       "\n",
       "11 12 13 14 15 16 17 18 19 20 21 22 23 24 25 26 \n",
       "20  8 20 18 24 19 14 26 20 11 23  4  3  5  2  3 "
      ]
     },
     "metadata": {},
     "output_type": "display_data"
    }
   ],
   "source": [
    "mpg$cty <- ifelse(mpg$cty <= 9 | mpg$cty >26, NA, mpg$cty)\n",
    "table(mpg$cty)"
   ]
  },
  {
   "cell_type": "code",
   "execution_count": 160,
   "metadata": {
    "collapsed": true
   },
   "outputs": [
    {
     "data": {
      "image/png": "[encoded data removed]",
      "text/plain": [
       "plot without title"
      ]
     },
     "metadata": {},
     "output_type": "display_data"
    }
   ],
   "source": [
    "boxplot(mpg$cty)"
   ]
  },
  {
   "cell_type": "code",
   "execution_count": 166,
   "metadata": {},
   "outputs": [
    {
     "name": "stderr",
     "output_type": "stream",
     "text": [
      "`summarise()` ungrouping output (override with `.groups` argument)\n"
     ]
    },
    {
     "data": {
      "text/html": [
       "<table>\n",
       "<thead><tr><th scope=col>drv</th><th scope=col>mean_cty</th></tr></thead>\n",
       "<tbody>\n",
       "\t<tr><td>4 </td><td>15</td></tr>\n",
       "\t<tr><td>f </td><td>19</td></tr>\n",
       "\t<tr><td>r </td><td>14</td></tr>\n",
       "</tbody>\n",
       "</table>\n"
      ],
      "text/latex": [
       "\\begin{tabular}{r|ll}\n",
       " drv & mean\\_cty\\\\\n",
       "\\hline\n",
       "\t 4  & 15\\\\\n",
       "\t f  & 19\\\\\n",
       "\t r  & 14\\\\\n",
       "\\end{tabular}\n"
      ],
      "text/markdown": [
       "\n",
       "| drv | mean_cty |\n",
       "|---|---|\n",
       "| 4  | 15 |\n",
       "| f  | 19 |\n",
       "| r  | 14 |\n",
       "\n"
      ],
      "text/plain": [
       "  drv mean_cty\n",
       "1 4   15      \n",
       "2 f   19      \n",
       "3 r   14      "
      ]
     },
     "metadata": {},
     "output_type": "display_data"
    }
   ],
   "source": [
    "mpg %>%\n",
    "    filter(!is.na(drv) & !is.na(cty)) %>%\n",
    "    group_by(drv) %>%\n",
    "    summarise(mean_cty = mean(cty))    "
   ]
  },
  {
   "cell_type": "markdown",
   "metadata": {},
   "source": [
    "# <myhuman_outlier.csv 문제>"
   ]
  },
  {
   "cell_type": "markdown",
   "metadata": {},
   "source": [
    "## 1. myhuman_outlier 불러와서 테이터프레임에 할당하기"
   ]
  },
  {
   "cell_type": "code",
   "execution_count": 173,
   "metadata": {},
   "outputs": [
    {
     "name": "stderr",
     "output_type": "stream",
     "text": [
      "also installing the dependencies 'rematch', 'hms', 'cellranger', 'progress'\n",
      "\n"
     ]
    },
    {
     "name": "stdout",
     "output_type": "stream",
     "text": [
      "package 'rematch' successfully unpacked and MD5 sums checked\n",
      "package 'hms' successfully unpacked and MD5 sums checked\n",
      "package 'cellranger' successfully unpacked and MD5 sums checked\n",
      "package 'progress' successfully unpacked and MD5 sums checked\n",
      "package 'readxl' successfully unpacked and MD5 sums checked\n",
      "\n",
      "The downloaded binary packages are in\n",
      "\tC:\\Users\\admin\\AppData\\Local\\Temp\\RtmpuGXFo8\\downloaded_packages\n"
     ]
    },
    {
     "name": "stderr",
     "output_type": "stream",
     "text": [
      "Warning message:\n",
      "\"package 'readxl' was built under R version 3.6.3\""
     ]
    }
   ],
   "source": [
    "install.packages('readxl')\n",
    "library(readxl)"
   ]
  },
  {
   "cell_type": "code",
   "execution_count": 208,
   "metadata": {},
   "outputs": [],
   "source": [
    "human <- read.csv(\"C:/Users/admin/Desktop/Big_data/R/Rcode/excel/myhuman_outlier.csv\")"
   ]
  },
  {
   "cell_type": "code",
   "execution_count": 209,
   "metadata": {},
   "outputs": [
    {
     "data": {
      "text/html": [
       "<table>\n",
       "<thead><tr><th scope=col>Sociability</th><th scope=col>Rating</th><th scope=col>Career</th><th scope=col>Score</th><th scope=col>Group</th></tr></thead>\n",
       "<tbody>\n",
       "\t<tr><td>23   </td><td>2.28 </td><td> 3   </td><td>57   </td><td> NA  </td></tr>\n",
       "\t<tr><td>48   </td><td>3.40 </td><td> 7   </td><td>93   </td><td> Good</td></tr>\n",
       "\t<tr><td>57   </td><td>2.28 </td><td> 8   </td><td>76   </td><td> Good</td></tr>\n",
       "\t<tr><td>40   </td><td>3.86 </td><td> 7   </td><td>88   </td><td> Good</td></tr>\n",
       "\t<tr><td>45   </td><td>3.16 </td><td> 6   </td><td>82   </td><td> Good</td></tr>\n",
       "\t<tr><td>42   </td><td>3.45 </td><td> 5   </td><td>85   </td><td> Good</td></tr>\n",
       "\t<tr><td>58   </td><td>3.47 </td><td> 6   </td><td>86   </td><td> Good</td></tr>\n",
       "\t<tr><td>47   </td><td>2.45 </td><td> 3   </td><td>74   </td><td> NA  </td></tr>\n",
       "\t<tr><td>32   </td><td>2.47 </td><td> 7   </td><td>64   </td><td> Good</td></tr>\n",
       "\t<tr><td>36   </td><td>2.11 </td><td>33   </td><td>72   </td><td> Good</td></tr>\n",
       "\t<tr><td>51   </td><td>3.48 </td><td> 7   </td><td>88   </td><td> Good</td></tr>\n",
       "\t<tr><td>40   </td><td>2.12 </td><td> 8   </td><td>77   </td><td> Good</td></tr>\n",
       "\t<tr><td>65   </td><td>3.73 </td><td> 8   </td><td>88   </td><td> Good</td></tr>\n",
       "\t<tr><td>49   </td><td>2.70 </td><td> 7   </td><td>73   </td><td> NA  </td></tr>\n",
       "\t<tr><td>74   </td><td>3.55 </td><td> 6   </td><td>85   </td><td> Good</td></tr>\n",
       "\t<tr><td>46   </td><td>  NA </td><td> 9   </td><td>98   </td><td> Good</td></tr>\n",
       "\t<tr><td>38   </td><td>3.07 </td><td> 6   </td><td>71   </td><td> Good</td></tr>\n",
       "\t<tr><td>57   </td><td>3.84 </td><td>10   </td><td>88   </td><td> Good</td></tr>\n",
       "\t<tr><td>37   </td><td>2.19 </td><td> 7   </td><td>76   </td><td> NA  </td></tr>\n",
       "\t<tr><td>47   </td><td>2.67 </td><td>14   </td><td>74   </td><td> Good</td></tr>\n",
       "\t<tr><td>64   </td><td>3.24 </td><td> 8   </td><td>76   </td><td> Good</td></tr>\n",
       "\t<tr><td>63   </td><td>  NA </td><td> 7   </td><td>86   </td><td> Good</td></tr>\n",
       "\t<tr><td>30   </td><td>2.29 </td><td> 7   </td><td>67   </td><td> NA  </td></tr>\n",
       "\t<tr><td>42   </td><td>2.58 </td><td> 5   </td><td>80   </td><td> NA  </td></tr>\n",
       "\t<tr><td>50   </td><td>3.52 </td><td> 7   </td><td>86   </td><td> Good</td></tr>\n",
       "\t<tr><td>59   </td><td>3.41 </td><td> 8   </td><td>77   </td><td> Good</td></tr>\n",
       "\t<tr><td>49   </td><td>2.79 </td><td> 5   </td><td>58   </td><td> NA  </td></tr>\n",
       "\t<tr><td>28   </td><td>2.46 </td><td> 8   </td><td>61   </td><td> NA  </td></tr>\n",
       "\t<tr><td>45   </td><td>  NA </td><td> 6   </td><td>87   </td><td> Good</td></tr>\n",
       "\t<tr><td>78   </td><td>3.81 </td><td> 9   </td><td>93   </td><td> Good</td></tr>\n",
       "\t<tr><td>...</td><td>...</td><td>...</td><td>...</td><td>...</td></tr>\n",
       "\t<tr><td>52   </td><td>2.77 </td><td>4    </td><td>56   </td><td> Good</td></tr>\n",
       "\t<tr><td>47   </td><td>2.97 </td><td>4    </td><td>74   </td><td> NA  </td></tr>\n",
       "\t<tr><td>44   </td><td>3.16 </td><td>4    </td><td>73   </td><td> Good</td></tr>\n",
       "\t<tr><td>71   </td><td>2.58 </td><td>4    </td><td>70   </td><td> Good</td></tr>\n",
       "\t<tr><td>43   </td><td>3.62 </td><td>5    </td><td>79   </td><td> NA  </td></tr>\n",
       "\t<tr><td>48   </td><td>3.12 </td><td>3    </td><td>61   </td><td> NA  </td></tr>\n",
       "\t<tr><td>55   </td><td>3.20 </td><td>6    </td><td>84   </td><td> Good</td></tr>\n",
       "\t<tr><td>51   </td><td>2.22 </td><td>7    </td><td>82   </td><td> Good</td></tr>\n",
       "\t<tr><td>46   </td><td>3.50 </td><td>5    </td><td>69   </td><td> NA  </td></tr>\n",
       "\t<tr><td>32   </td><td>3.90 </td><td>7    </td><td>96   </td><td> Good</td></tr>\n",
       "\t<tr><td>37   </td><td>3.43 </td><td>7    </td><td>77   </td><td> Good</td></tr>\n",
       "\t<tr><td>47   </td><td>2.09 </td><td>4    </td><td>62   </td><td> NA  </td></tr>\n",
       "\t<tr><td>47   </td><td>2.71 </td><td>8    </td><td>53   </td><td> NA  </td></tr>\n",
       "\t<tr><td>50   </td><td>2.95 </td><td>4    </td><td>52   </td><td> Good</td></tr>\n",
       "\t<tr><td>42   </td><td>3.95 </td><td>8    </td><td>64   </td><td> NA  </td></tr>\n",
       "\t<tr><td>68   </td><td>3.77 </td><td>9    </td><td>74   </td><td> Good</td></tr>\n",
       "\t<tr><td>68   </td><td>3.36 </td><td>4    </td><td>75   </td><td> NA  </td></tr>\n",
       "\t<tr><td>50   </td><td>2.82 </td><td>5    </td><td>72   </td><td> Good</td></tr>\n",
       "\t<tr><td>46   </td><td>3.44 </td><td>6    </td><td>71   </td><td> NA  </td></tr>\n",
       "\t<tr><td>47   </td><td>3.33 </td><td>4    </td><td>75   </td><td> NA  </td></tr>\n",
       "\t<tr><td>38   </td><td>2.06 </td><td>3    </td><td>74   </td><td> NA  </td></tr>\n",
       "\t<tr><td>47   </td><td>3.79 </td><td>7    </td><td>70   </td><td> NA  </td></tr>\n",
       "\t<tr><td>42   </td><td>2.08 </td><td>7    </td><td>57   </td><td> NA  </td></tr>\n",
       "\t<tr><td>32   </td><td>2.01 </td><td>8    </td><td>76   </td><td> Good</td></tr>\n",
       "\t<tr><td>63   </td><td>2.38 </td><td>7    </td><td>77   </td><td> Good</td></tr>\n",
       "\t<tr><td>71   </td><td>3.65 </td><td>7    </td><td>67   </td><td> NA  </td></tr>\n",
       "\t<tr><td>72   </td><td>3.23 </td><td>5    </td><td>64   </td><td> Good</td></tr>\n",
       "\t<tr><td>41   </td><td>2.68 </td><td>4    </td><td>56   </td><td> NA  </td></tr>\n",
       "\t<tr><td>54   </td><td>2.53 </td><td>5    </td><td>80   </td><td> Good</td></tr>\n",
       "\t<tr><td>49   </td><td>2.19 </td><td>4    </td><td>85   </td><td> NA  </td></tr>\n",
       "</tbody>\n",
       "</table>\n"
      ],
      "text/latex": [
       "\\begin{tabular}{r|lllll}\n",
       " Sociability & Rating & Career & Score & Group\\\\\n",
       "\\hline\n",
       "\t 23    & 2.28  &  3    & 57    &  NA  \\\\\n",
       "\t 48    & 3.40  &  7    & 93    &  Good\\\\\n",
       "\t 57    & 2.28  &  8    & 76    &  Good\\\\\n",
       "\t 40    & 3.86  &  7    & 88    &  Good\\\\\n",
       "\t 45    & 3.16  &  6    & 82    &  Good\\\\\n",
       "\t 42    & 3.45  &  5    & 85    &  Good\\\\\n",
       "\t 58    & 3.47  &  6    & 86    &  Good\\\\\n",
       "\t 47    & 2.45  &  3    & 74    &  NA  \\\\\n",
       "\t 32    & 2.47  &  7    & 64    &  Good\\\\\n",
       "\t 36    & 2.11  & 33    & 72    &  Good\\\\\n",
       "\t 51    & 3.48  &  7    & 88    &  Good\\\\\n",
       "\t 40    & 2.12  &  8    & 77    &  Good\\\\\n",
       "\t 65    & 3.73  &  8    & 88    &  Good\\\\\n",
       "\t 49    & 2.70  &  7    & 73    &  NA  \\\\\n",
       "\t 74    & 3.55  &  6    & 85    &  Good\\\\\n",
       "\t 46    &   NA  &  9    & 98    &  Good\\\\\n",
       "\t 38    & 3.07  &  6    & 71    &  Good\\\\\n",
       "\t 57    & 3.84  & 10    & 88    &  Good\\\\\n",
       "\t 37    & 2.19  &  7    & 76    &  NA  \\\\\n",
       "\t 47    & 2.67  & 14    & 74    &  Good\\\\\n",
       "\t 64    & 3.24  &  8    & 76    &  Good\\\\\n",
       "\t 63    &   NA  &  7    & 86    &  Good\\\\\n",
       "\t 30    & 2.29  &  7    & 67    &  NA  \\\\\n",
       "\t 42    & 2.58  &  5    & 80    &  NA  \\\\\n",
       "\t 50    & 3.52  &  7    & 86    &  Good\\\\\n",
       "\t 59    & 3.41  &  8    & 77    &  Good\\\\\n",
       "\t 49    & 2.79  &  5    & 58    &  NA  \\\\\n",
       "\t 28    & 2.46  &  8    & 61    &  NA  \\\\\n",
       "\t 45    &   NA  &  6    & 87    &  Good\\\\\n",
       "\t 78    & 3.81  &  9    & 93    &  Good\\\\\n",
       "\t ... & ... & ... & ... & ...\\\\\n",
       "\t 52    & 2.77  & 4     & 56    &  Good\\\\\n",
       "\t 47    & 2.97  & 4     & 74    &  NA  \\\\\n",
       "\t 44    & 3.16  & 4     & 73    &  Good\\\\\n",
       "\t 71    & 2.58  & 4     & 70    &  Good\\\\\n",
       "\t 43    & 3.62  & 5     & 79    &  NA  \\\\\n",
       "\t 48    & 3.12  & 3     & 61    &  NA  \\\\\n",
       "\t 55    & 3.20  & 6     & 84    &  Good\\\\\n",
       "\t 51    & 2.22  & 7     & 82    &  Good\\\\\n",
       "\t 46    & 3.50  & 5     & 69    &  NA  \\\\\n",
       "\t 32    & 3.90  & 7     & 96    &  Good\\\\\n",
       "\t 37    & 3.43  & 7     & 77    &  Good\\\\\n",
       "\t 47    & 2.09  & 4     & 62    &  NA  \\\\\n",
       "\t 47    & 2.71  & 8     & 53    &  NA  \\\\\n",
       "\t 50    & 2.95  & 4     & 52    &  Good\\\\\n",
       "\t 42    & 3.95  & 8     & 64    &  NA  \\\\\n",
       "\t 68    & 3.77  & 9     & 74    &  Good\\\\\n",
       "\t 68    & 3.36  & 4     & 75    &  NA  \\\\\n",
       "\t 50    & 2.82  & 5     & 72    &  Good\\\\\n",
       "\t 46    & 3.44  & 6     & 71    &  NA  \\\\\n",
       "\t 47    & 3.33  & 4     & 75    &  NA  \\\\\n",
       "\t 38    & 2.06  & 3     & 74    &  NA  \\\\\n",
       "\t 47    & 3.79  & 7     & 70    &  NA  \\\\\n",
       "\t 42    & 2.08  & 7     & 57    &  NA  \\\\\n",
       "\t 32    & 2.01  & 8     & 76    &  Good\\\\\n",
       "\t 63    & 2.38  & 7     & 77    &  Good\\\\\n",
       "\t 71    & 3.65  & 7     & 67    &  NA  \\\\\n",
       "\t 72    & 3.23  & 5     & 64    &  Good\\\\\n",
       "\t 41    & 2.68  & 4     & 56    &  NA  \\\\\n",
       "\t 54    & 2.53  & 5     & 80    &  Good\\\\\n",
       "\t 49    & 2.19  & 4     & 85    &  NA  \\\\\n",
       "\\end{tabular}\n"
      ],
      "text/markdown": [
       "\n",
       "| Sociability | Rating | Career | Score | Group |\n",
       "|---|---|---|---|---|\n",
       "| 23    | 2.28  |  3    | 57    |  NA   |\n",
       "| 48    | 3.40  |  7    | 93    |  Good |\n",
       "| 57    | 2.28  |  8    | 76    |  Good |\n",
       "| 40    | 3.86  |  7    | 88    |  Good |\n",
       "| 45    | 3.16  |  6    | 82    |  Good |\n",
       "| 42    | 3.45  |  5    | 85    |  Good |\n",
       "| 58    | 3.47  |  6    | 86    |  Good |\n",
       "| 47    | 2.45  |  3    | 74    |  NA   |\n",
       "| 32    | 2.47  |  7    | 64    |  Good |\n",
       "| 36    | 2.11  | 33    | 72    |  Good |\n",
       "| 51    | 3.48  |  7    | 88    |  Good |\n",
       "| 40    | 2.12  |  8    | 77    |  Good |\n",
       "| 65    | 3.73  |  8    | 88    |  Good |\n",
       "| 49    | 2.70  |  7    | 73    |  NA   |\n",
       "| 74    | 3.55  |  6    | 85    |  Good |\n",
       "| 46    |   NA  |  9    | 98    |  Good |\n",
       "| 38    | 3.07  |  6    | 71    |  Good |\n",
       "| 57    | 3.84  | 10    | 88    |  Good |\n",
       "| 37    | 2.19  |  7    | 76    |  NA   |\n",
       "| 47    | 2.67  | 14    | 74    |  Good |\n",
       "| 64    | 3.24  |  8    | 76    |  Good |\n",
       "| 63    |   NA  |  7    | 86    |  Good |\n",
       "| 30    | 2.29  |  7    | 67    |  NA   |\n",
       "| 42    | 2.58  |  5    | 80    |  NA   |\n",
       "| 50    | 3.52  |  7    | 86    |  Good |\n",
       "| 59    | 3.41  |  8    | 77    |  Good |\n",
       "| 49    | 2.79  |  5    | 58    |  NA   |\n",
       "| 28    | 2.46  |  8    | 61    |  NA   |\n",
       "| 45    |   NA  |  6    | 87    |  Good |\n",
       "| 78    | 3.81  |  9    | 93    |  Good |\n",
       "| ... | ... | ... | ... | ... |\n",
       "| 52    | 2.77  | 4     | 56    |  Good |\n",
       "| 47    | 2.97  | 4     | 74    |  NA   |\n",
       "| 44    | 3.16  | 4     | 73    |  Good |\n",
       "| 71    | 2.58  | 4     | 70    |  Good |\n",
       "| 43    | 3.62  | 5     | 79    |  NA   |\n",
       "| 48    | 3.12  | 3     | 61    |  NA   |\n",
       "| 55    | 3.20  | 6     | 84    |  Good |\n",
       "| 51    | 2.22  | 7     | 82    |  Good |\n",
       "| 46    | 3.50  | 5     | 69    |  NA   |\n",
       "| 32    | 3.90  | 7     | 96    |  Good |\n",
       "| 37    | 3.43  | 7     | 77    |  Good |\n",
       "| 47    | 2.09  | 4     | 62    |  NA   |\n",
       "| 47    | 2.71  | 8     | 53    |  NA   |\n",
       "| 50    | 2.95  | 4     | 52    |  Good |\n",
       "| 42    | 3.95  | 8     | 64    |  NA   |\n",
       "| 68    | 3.77  | 9     | 74    |  Good |\n",
       "| 68    | 3.36  | 4     | 75    |  NA   |\n",
       "| 50    | 2.82  | 5     | 72    |  Good |\n",
       "| 46    | 3.44  | 6     | 71    |  NA   |\n",
       "| 47    | 3.33  | 4     | 75    |  NA   |\n",
       "| 38    | 2.06  | 3     | 74    |  NA   |\n",
       "| 47    | 3.79  | 7     | 70    |  NA   |\n",
       "| 42    | 2.08  | 7     | 57    |  NA   |\n",
       "| 32    | 2.01  | 8     | 76    |  Good |\n",
       "| 63    | 2.38  | 7     | 77    |  Good |\n",
       "| 71    | 3.65  | 7     | 67    |  NA   |\n",
       "| 72    | 3.23  | 5     | 64    |  Good |\n",
       "| 41    | 2.68  | 4     | 56    |  NA   |\n",
       "| 54    | 2.53  | 5     | 80    |  Good |\n",
       "| 49    | 2.19  | 4     | 85    |  NA   |\n",
       "\n"
      ],
      "text/plain": [
       "    Sociability Rating Career Score Group\n",
       "1   23          2.28    3     57     NA  \n",
       "2   48          3.40    7     93     Good\n",
       "3   57          2.28    8     76     Good\n",
       "4   40          3.86    7     88     Good\n",
       "5   45          3.16    6     82     Good\n",
       "6   42          3.45    5     85     Good\n",
       "7   58          3.47    6     86     Good\n",
       "8   47          2.45    3     74     NA  \n",
       "9   32          2.47    7     64     Good\n",
       "10  36          2.11   33     72     Good\n",
       "11  51          3.48    7     88     Good\n",
       "12  40          2.12    8     77     Good\n",
       "13  65          3.73    8     88     Good\n",
       "14  49          2.70    7     73     NA  \n",
       "15  74          3.55    6     85     Good\n",
       "16  46            NA    9     98     Good\n",
       "17  38          3.07    6     71     Good\n",
       "18  57          3.84   10     88     Good\n",
       "19  37          2.19    7     76     NA  \n",
       "20  47          2.67   14     74     Good\n",
       "21  64          3.24    8     76     Good\n",
       "22  63            NA    7     86     Good\n",
       "23  30          2.29    7     67     NA  \n",
       "24  42          2.58    5     80     NA  \n",
       "25  50          3.52    7     86     Good\n",
       "26  59          3.41    8     77     Good\n",
       "27  49          2.79    5     58     NA  \n",
       "28  28          2.46    8     61     NA  \n",
       "29  45            NA    6     87     Good\n",
       "30  78          3.81    9     93     Good\n",
       "... ...         ...    ...    ...   ...  \n",
       "41  52          2.77   4      56     Good\n",
       "42  47          2.97   4      74     NA  \n",
       "43  44          3.16   4      73     Good\n",
       "44  71          2.58   4      70     Good\n",
       "45  43          3.62   5      79     NA  \n",
       "46  48          3.12   3      61     NA  \n",
       "47  55          3.20   6      84     Good\n",
       "48  51          2.22   7      82     Good\n",
       "49  46          3.50   5      69     NA  \n",
       "50  32          3.90   7      96     Good\n",
       "51  37          3.43   7      77     Good\n",
       "52  47          2.09   4      62     NA  \n",
       "53  47          2.71   8      53     NA  \n",
       "54  50          2.95   4      52     Good\n",
       "55  42          3.95   8      64     NA  \n",
       "56  68          3.77   9      74     Good\n",
       "57  68          3.36   4      75     NA  \n",
       "58  50          2.82   5      72     Good\n",
       "59  46          3.44   6      71     NA  \n",
       "60  47          3.33   4      75     NA  \n",
       "61  38          2.06   3      74     NA  \n",
       "62  47          3.79   7      70     NA  \n",
       "63  42          2.08   7      57     NA  \n",
       "64  32          2.01   8      76     Good\n",
       "65  63          2.38   7      77     Good\n",
       "66  71          3.65   7      67     NA  \n",
       "67  72          3.23   5      64     Good\n",
       "68  41          2.68   4      56     NA  \n",
       "69  54          2.53   5      80     Good\n",
       "70  49          2.19   4      85     NA  "
      ]
     },
     "metadata": {},
     "output_type": "display_data"
    }
   ],
   "source": [
    "human"
   ]
  },
  {
   "cell_type": "markdown",
   "metadata": {},
   "source": [
    "## 2. 결측치 확인하기"
   ]
  },
  {
   "cell_type": "code",
   "execution_count": 210,
   "metadata": {},
   "outputs": [
    {
     "data": {
      "text/plain": [
       "\n",
       "FALSE  TRUE \n",
       "   67     3 "
      ]
     },
     "metadata": {},
     "output_type": "display_data"
    }
   ],
   "source": [
    "table(is.na(human$Rating))"
   ]
  },
  {
   "cell_type": "code",
   "execution_count": 204,
   "metadata": {},
   "outputs": [
    {
     "data": {
      "text/html": [
       "<table>\n",
       "<thead><tr><th scope=col>mean_Rating</th></tr></thead>\n",
       "<tbody>\n",
       "\t<tr><td>3</td></tr>\n",
       "</tbody>\n",
       "</table>\n"
      ],
      "text/latex": [
       "\\begin{tabular}{r|l}\n",
       " mean\\_Rating\\\\\n",
       "\\hline\n",
       "\t 3\\\\\n",
       "\\end{tabular}\n"
      ],
      "text/markdown": [
       "\n",
       "| mean_Rating |\n",
       "|---|\n",
       "| 3 |\n",
       "\n"
      ],
      "text/plain": [
       "  mean_Rating\n",
       "1 3          "
      ]
     },
     "metadata": {},
     "output_type": "display_data"
    }
   ],
   "source": [
    "human %>% summarise(mean_Rating = mean(Rating, na.rm = T))"
   ]
  },
  {
   "cell_type": "markdown",
   "metadata": {},
   "source": [
    "## 3. 결측치 자리에 평균값 넣기"
   ]
  },
  {
   "cell_type": "code",
   "execution_count": 217,
   "metadata": {},
   "outputs": [
    {
     "data": {
      "text/plain": [
       "\n",
       "FALSE \n",
       "   70 "
      ]
     },
     "metadata": {},
     "output_type": "display_data"
    },
    {
     "data": {
      "text/html": [
       "<table>\n",
       "<thead><tr><th scope=col>Sociability</th><th scope=col>Rating</th><th scope=col>Career</th><th scope=col>Score</th><th scope=col>Group</th></tr></thead>\n",
       "<tbody>\n",
       "\t<tr><td>23   </td><td>2.28 </td><td> 3   </td><td>57   </td><td> NA  </td></tr>\n",
       "\t<tr><td>48   </td><td>3.40 </td><td> 7   </td><td>93   </td><td> Good</td></tr>\n",
       "\t<tr><td>57   </td><td>2.28 </td><td> 8   </td><td>76   </td><td> Good</td></tr>\n",
       "\t<tr><td>40   </td><td>3.86 </td><td> 7   </td><td>88   </td><td> Good</td></tr>\n",
       "\t<tr><td>45   </td><td>3.16 </td><td> 6   </td><td>82   </td><td> Good</td></tr>\n",
       "\t<tr><td>42   </td><td>3.45 </td><td> 5   </td><td>85   </td><td> Good</td></tr>\n",
       "\t<tr><td>58   </td><td>3.47 </td><td> 6   </td><td>86   </td><td> Good</td></tr>\n",
       "\t<tr><td>47   </td><td>2.45 </td><td> 3   </td><td>74   </td><td> NA  </td></tr>\n",
       "\t<tr><td>32   </td><td>2.47 </td><td> 7   </td><td>64   </td><td> Good</td></tr>\n",
       "\t<tr><td>36   </td><td>2.11 </td><td>33   </td><td>72   </td><td> Good</td></tr>\n",
       "\t<tr><td>51   </td><td>3.48 </td><td> 7   </td><td>88   </td><td> Good</td></tr>\n",
       "\t<tr><td>40   </td><td>2.12 </td><td> 8   </td><td>77   </td><td> Good</td></tr>\n",
       "\t<tr><td>65   </td><td>3.73 </td><td> 8   </td><td>88   </td><td> Good</td></tr>\n",
       "\t<tr><td>49   </td><td>2.70 </td><td> 7   </td><td>73   </td><td> NA  </td></tr>\n",
       "\t<tr><td>74   </td><td>3.55 </td><td> 6   </td><td>85   </td><td> Good</td></tr>\n",
       "\t<tr><td>46   </td><td>3.03 </td><td> 9   </td><td>98   </td><td> Good</td></tr>\n",
       "\t<tr><td>38   </td><td>3.07 </td><td> 6   </td><td>71   </td><td> Good</td></tr>\n",
       "\t<tr><td>57   </td><td>3.84 </td><td>10   </td><td>88   </td><td> Good</td></tr>\n",
       "\t<tr><td>37   </td><td>2.19 </td><td> 7   </td><td>76   </td><td> NA  </td></tr>\n",
       "\t<tr><td>47   </td><td>2.67 </td><td>14   </td><td>74   </td><td> Good</td></tr>\n",
       "\t<tr><td>64   </td><td>3.24 </td><td> 8   </td><td>76   </td><td> Good</td></tr>\n",
       "\t<tr><td>63   </td><td>3.03 </td><td> 7   </td><td>86   </td><td> Good</td></tr>\n",
       "\t<tr><td>30   </td><td>2.29 </td><td> 7   </td><td>67   </td><td> NA  </td></tr>\n",
       "\t<tr><td>42   </td><td>2.58 </td><td> 5   </td><td>80   </td><td> NA  </td></tr>\n",
       "\t<tr><td>50   </td><td>3.52 </td><td> 7   </td><td>86   </td><td> Good</td></tr>\n",
       "\t<tr><td>59   </td><td>3.41 </td><td> 8   </td><td>77   </td><td> Good</td></tr>\n",
       "\t<tr><td>49   </td><td>2.79 </td><td> 5   </td><td>58   </td><td> NA  </td></tr>\n",
       "\t<tr><td>28   </td><td>2.46 </td><td> 8   </td><td>61   </td><td> NA  </td></tr>\n",
       "\t<tr><td>45   </td><td>3.03 </td><td> 6   </td><td>87   </td><td> Good</td></tr>\n",
       "\t<tr><td>78   </td><td>3.81 </td><td> 9   </td><td>93   </td><td> Good</td></tr>\n",
       "\t<tr><td>...</td><td>...</td><td>...</td><td>...</td><td>...</td></tr>\n",
       "\t<tr><td>52   </td><td>2.77 </td><td>4    </td><td>56   </td><td> Good</td></tr>\n",
       "\t<tr><td>47   </td><td>2.97 </td><td>4    </td><td>74   </td><td> NA  </td></tr>\n",
       "\t<tr><td>44   </td><td>3.16 </td><td>4    </td><td>73   </td><td> Good</td></tr>\n",
       "\t<tr><td>71   </td><td>2.58 </td><td>4    </td><td>70   </td><td> Good</td></tr>\n",
       "\t<tr><td>43   </td><td>3.62 </td><td>5    </td><td>79   </td><td> NA  </td></tr>\n",
       "\t<tr><td>48   </td><td>3.12 </td><td>3    </td><td>61   </td><td> NA  </td></tr>\n",
       "\t<tr><td>55   </td><td>3.20 </td><td>6    </td><td>84   </td><td> Good</td></tr>\n",
       "\t<tr><td>51   </td><td>2.22 </td><td>7    </td><td>82   </td><td> Good</td></tr>\n",
       "\t<tr><td>46   </td><td>3.50 </td><td>5    </td><td>69   </td><td> NA  </td></tr>\n",
       "\t<tr><td>32   </td><td>3.90 </td><td>7    </td><td>96   </td><td> Good</td></tr>\n",
       "\t<tr><td>37   </td><td>3.43 </td><td>7    </td><td>77   </td><td> Good</td></tr>\n",
       "\t<tr><td>47   </td><td>2.09 </td><td>4    </td><td>62   </td><td> NA  </td></tr>\n",
       "\t<tr><td>47   </td><td>2.71 </td><td>8    </td><td>53   </td><td> NA  </td></tr>\n",
       "\t<tr><td>50   </td><td>2.95 </td><td>4    </td><td>52   </td><td> Good</td></tr>\n",
       "\t<tr><td>42   </td><td>3.95 </td><td>8    </td><td>64   </td><td> NA  </td></tr>\n",
       "\t<tr><td>68   </td><td>3.77 </td><td>9    </td><td>74   </td><td> Good</td></tr>\n",
       "\t<tr><td>68   </td><td>3.36 </td><td>4    </td><td>75   </td><td> NA  </td></tr>\n",
       "\t<tr><td>50   </td><td>2.82 </td><td>5    </td><td>72   </td><td> Good</td></tr>\n",
       "\t<tr><td>46   </td><td>3.44 </td><td>6    </td><td>71   </td><td> NA  </td></tr>\n",
       "\t<tr><td>47   </td><td>3.33 </td><td>4    </td><td>75   </td><td> NA  </td></tr>\n",
       "\t<tr><td>38   </td><td>2.06 </td><td>3    </td><td>74   </td><td> NA  </td></tr>\n",
       "\t<tr><td>47   </td><td>3.79 </td><td>7    </td><td>70   </td><td> NA  </td></tr>\n",
       "\t<tr><td>42   </td><td>2.08 </td><td>7    </td><td>57   </td><td> NA  </td></tr>\n",
       "\t<tr><td>32   </td><td>2.01 </td><td>8    </td><td>76   </td><td> Good</td></tr>\n",
       "\t<tr><td>63   </td><td>2.38 </td><td>7    </td><td>77   </td><td> Good</td></tr>\n",
       "\t<tr><td>71   </td><td>3.65 </td><td>7    </td><td>67   </td><td> NA  </td></tr>\n",
       "\t<tr><td>72   </td><td>3.23 </td><td>5    </td><td>64   </td><td> Good</td></tr>\n",
       "\t<tr><td>41   </td><td>2.68 </td><td>4    </td><td>56   </td><td> NA  </td></tr>\n",
       "\t<tr><td>54   </td><td>2.53 </td><td>5    </td><td>80   </td><td> Good</td></tr>\n",
       "\t<tr><td>49   </td><td>2.19 </td><td>4    </td><td>85   </td><td> NA  </td></tr>\n",
       "</tbody>\n",
       "</table>\n"
      ],
      "text/latex": [
       "\\begin{tabular}{r|lllll}\n",
       " Sociability & Rating & Career & Score & Group\\\\\n",
       "\\hline\n",
       "\t 23    & 2.28  &  3    & 57    &  NA  \\\\\n",
       "\t 48    & 3.40  &  7    & 93    &  Good\\\\\n",
       "\t 57    & 2.28  &  8    & 76    &  Good\\\\\n",
       "\t 40    & 3.86  &  7    & 88    &  Good\\\\\n",
       "\t 45    & 3.16  &  6    & 82    &  Good\\\\\n",
       "\t 42    & 3.45  &  5    & 85    &  Good\\\\\n",
       "\t 58    & 3.47  &  6    & 86    &  Good\\\\\n",
       "\t 47    & 2.45  &  3    & 74    &  NA  \\\\\n",
       "\t 32    & 2.47  &  7    & 64    &  Good\\\\\n",
       "\t 36    & 2.11  & 33    & 72    &  Good\\\\\n",
       "\t 51    & 3.48  &  7    & 88    &  Good\\\\\n",
       "\t 40    & 2.12  &  8    & 77    &  Good\\\\\n",
       "\t 65    & 3.73  &  8    & 88    &  Good\\\\\n",
       "\t 49    & 2.70  &  7    & 73    &  NA  \\\\\n",
       "\t 74    & 3.55  &  6    & 85    &  Good\\\\\n",
       "\t 46    & 3.03  &  9    & 98    &  Good\\\\\n",
       "\t 38    & 3.07  &  6    & 71    &  Good\\\\\n",
       "\t 57    & 3.84  & 10    & 88    &  Good\\\\\n",
       "\t 37    & 2.19  &  7    & 76    &  NA  \\\\\n",
       "\t 47    & 2.67  & 14    & 74    &  Good\\\\\n",
       "\t 64    & 3.24  &  8    & 76    &  Good\\\\\n",
       "\t 63    & 3.03  &  7    & 86    &  Good\\\\\n",
       "\t 30    & 2.29  &  7    & 67    &  NA  \\\\\n",
       "\t 42    & 2.58  &  5    & 80    &  NA  \\\\\n",
       "\t 50    & 3.52  &  7    & 86    &  Good\\\\\n",
       "\t 59    & 3.41  &  8    & 77    &  Good\\\\\n",
       "\t 49    & 2.79  &  5    & 58    &  NA  \\\\\n",
       "\t 28    & 2.46  &  8    & 61    &  NA  \\\\\n",
       "\t 45    & 3.03  &  6    & 87    &  Good\\\\\n",
       "\t 78    & 3.81  &  9    & 93    &  Good\\\\\n",
       "\t ... & ... & ... & ... & ...\\\\\n",
       "\t 52    & 2.77  & 4     & 56    &  Good\\\\\n",
       "\t 47    & 2.97  & 4     & 74    &  NA  \\\\\n",
       "\t 44    & 3.16  & 4     & 73    &  Good\\\\\n",
       "\t 71    & 2.58  & 4     & 70    &  Good\\\\\n",
       "\t 43    & 3.62  & 5     & 79    &  NA  \\\\\n",
       "\t 48    & 3.12  & 3     & 61    &  NA  \\\\\n",
       "\t 55    & 3.20  & 6     & 84    &  Good\\\\\n",
       "\t 51    & 2.22  & 7     & 82    &  Good\\\\\n",
       "\t 46    & 3.50  & 5     & 69    &  NA  \\\\\n",
       "\t 32    & 3.90  & 7     & 96    &  Good\\\\\n",
       "\t 37    & 3.43  & 7     & 77    &  Good\\\\\n",
       "\t 47    & 2.09  & 4     & 62    &  NA  \\\\\n",
       "\t 47    & 2.71  & 8     & 53    &  NA  \\\\\n",
       "\t 50    & 2.95  & 4     & 52    &  Good\\\\\n",
       "\t 42    & 3.95  & 8     & 64    &  NA  \\\\\n",
       "\t 68    & 3.77  & 9     & 74    &  Good\\\\\n",
       "\t 68    & 3.36  & 4     & 75    &  NA  \\\\\n",
       "\t 50    & 2.82  & 5     & 72    &  Good\\\\\n",
       "\t 46    & 3.44  & 6     & 71    &  NA  \\\\\n",
       "\t 47    & 3.33  & 4     & 75    &  NA  \\\\\n",
       "\t 38    & 2.06  & 3     & 74    &  NA  \\\\\n",
       "\t 47    & 3.79  & 7     & 70    &  NA  \\\\\n",
       "\t 42    & 2.08  & 7     & 57    &  NA  \\\\\n",
       "\t 32    & 2.01  & 8     & 76    &  Good\\\\\n",
       "\t 63    & 2.38  & 7     & 77    &  Good\\\\\n",
       "\t 71    & 3.65  & 7     & 67    &  NA  \\\\\n",
       "\t 72    & 3.23  & 5     & 64    &  Good\\\\\n",
       "\t 41    & 2.68  & 4     & 56    &  NA  \\\\\n",
       "\t 54    & 2.53  & 5     & 80    &  Good\\\\\n",
       "\t 49    & 2.19  & 4     & 85    &  NA  \\\\\n",
       "\\end{tabular}\n"
      ],
      "text/markdown": [
       "\n",
       "| Sociability | Rating | Career | Score | Group |\n",
       "|---|---|---|---|---|\n",
       "| 23    | 2.28  |  3    | 57    |  NA   |\n",
       "| 48    | 3.40  |  7    | 93    |  Good |\n",
       "| 57    | 2.28  |  8    | 76    |  Good |\n",
       "| 40    | 3.86  |  7    | 88    |  Good |\n",
       "| 45    | 3.16  |  6    | 82    |  Good |\n",
       "| 42    | 3.45  |  5    | 85    |  Good |\n",
       "| 58    | 3.47  |  6    | 86    |  Good |\n",
       "| 47    | 2.45  |  3    | 74    |  NA   |\n",
       "| 32    | 2.47  |  7    | 64    |  Good |\n",
       "| 36    | 2.11  | 33    | 72    |  Good |\n",
       "| 51    | 3.48  |  7    | 88    |  Good |\n",
       "| 40    | 2.12  |  8    | 77    |  Good |\n",
       "| 65    | 3.73  |  8    | 88    |  Good |\n",
       "| 49    | 2.70  |  7    | 73    |  NA   |\n",
       "| 74    | 3.55  |  6    | 85    |  Good |\n",
       "| 46    | 3.03  |  9    | 98    |  Good |\n",
       "| 38    | 3.07  |  6    | 71    |  Good |\n",
       "| 57    | 3.84  | 10    | 88    |  Good |\n",
       "| 37    | 2.19  |  7    | 76    |  NA   |\n",
       "| 47    | 2.67  | 14    | 74    |  Good |\n",
       "| 64    | 3.24  |  8    | 76    |  Good |\n",
       "| 63    | 3.03  |  7    | 86    |  Good |\n",
       "| 30    | 2.29  |  7    | 67    |  NA   |\n",
       "| 42    | 2.58  |  5    | 80    |  NA   |\n",
       "| 50    | 3.52  |  7    | 86    |  Good |\n",
       "| 59    | 3.41  |  8    | 77    |  Good |\n",
       "| 49    | 2.79  |  5    | 58    |  NA   |\n",
       "| 28    | 2.46  |  8    | 61    |  NA   |\n",
       "| 45    | 3.03  |  6    | 87    |  Good |\n",
       "| 78    | 3.81  |  9    | 93    |  Good |\n",
       "| ... | ... | ... | ... | ... |\n",
       "| 52    | 2.77  | 4     | 56    |  Good |\n",
       "| 47    | 2.97  | 4     | 74    |  NA   |\n",
       "| 44    | 3.16  | 4     | 73    |  Good |\n",
       "| 71    | 2.58  | 4     | 70    |  Good |\n",
       "| 43    | 3.62  | 5     | 79    |  NA   |\n",
       "| 48    | 3.12  | 3     | 61    |  NA   |\n",
       "| 55    | 3.20  | 6     | 84    |  Good |\n",
       "| 51    | 2.22  | 7     | 82    |  Good |\n",
       "| 46    | 3.50  | 5     | 69    |  NA   |\n",
       "| 32    | 3.90  | 7     | 96    |  Good |\n",
       "| 37    | 3.43  | 7     | 77    |  Good |\n",
       "| 47    | 2.09  | 4     | 62    |  NA   |\n",
       "| 47    | 2.71  | 8     | 53    |  NA   |\n",
       "| 50    | 2.95  | 4     | 52    |  Good |\n",
       "| 42    | 3.95  | 8     | 64    |  NA   |\n",
       "| 68    | 3.77  | 9     | 74    |  Good |\n",
       "| 68    | 3.36  | 4     | 75    |  NA   |\n",
       "| 50    | 2.82  | 5     | 72    |  Good |\n",
       "| 46    | 3.44  | 6     | 71    |  NA   |\n",
       "| 47    | 3.33  | 4     | 75    |  NA   |\n",
       "| 38    | 2.06  | 3     | 74    |  NA   |\n",
       "| 47    | 3.79  | 7     | 70    |  NA   |\n",
       "| 42    | 2.08  | 7     | 57    |  NA   |\n",
       "| 32    | 2.01  | 8     | 76    |  Good |\n",
       "| 63    | 2.38  | 7     | 77    |  Good |\n",
       "| 71    | 3.65  | 7     | 67    |  NA   |\n",
       "| 72    | 3.23  | 5     | 64    |  Good |\n",
       "| 41    | 2.68  | 4     | 56    |  NA   |\n",
       "| 54    | 2.53  | 5     | 80    |  Good |\n",
       "| 49    | 2.19  | 4     | 85    |  NA   |\n",
       "\n"
      ],
      "text/plain": [
       "    Sociability Rating Career Score Group\n",
       "1   23          2.28    3     57     NA  \n",
       "2   48          3.40    7     93     Good\n",
       "3   57          2.28    8     76     Good\n",
       "4   40          3.86    7     88     Good\n",
       "5   45          3.16    6     82     Good\n",
       "6   42          3.45    5     85     Good\n",
       "7   58          3.47    6     86     Good\n",
       "8   47          2.45    3     74     NA  \n",
       "9   32          2.47    7     64     Good\n",
       "10  36          2.11   33     72     Good\n",
       "11  51          3.48    7     88     Good\n",
       "12  40          2.12    8     77     Good\n",
       "13  65          3.73    8     88     Good\n",
       "14  49          2.70    7     73     NA  \n",
       "15  74          3.55    6     85     Good\n",
       "16  46          3.03    9     98     Good\n",
       "17  38          3.07    6     71     Good\n",
       "18  57          3.84   10     88     Good\n",
       "19  37          2.19    7     76     NA  \n",
       "20  47          2.67   14     74     Good\n",
       "21  64          3.24    8     76     Good\n",
       "22  63          3.03    7     86     Good\n",
       "23  30          2.29    7     67     NA  \n",
       "24  42          2.58    5     80     NA  \n",
       "25  50          3.52    7     86     Good\n",
       "26  59          3.41    8     77     Good\n",
       "27  49          2.79    5     58     NA  \n",
       "28  28          2.46    8     61     NA  \n",
       "29  45          3.03    6     87     Good\n",
       "30  78          3.81    9     93     Good\n",
       "... ...         ...    ...    ...   ...  \n",
       "41  52          2.77   4      56     Good\n",
       "42  47          2.97   4      74     NA  \n",
       "43  44          3.16   4      73     Good\n",
       "44  71          2.58   4      70     Good\n",
       "45  43          3.62   5      79     NA  \n",
       "46  48          3.12   3      61     NA  \n",
       "47  55          3.20   6      84     Good\n",
       "48  51          2.22   7      82     Good\n",
       "49  46          3.50   5      69     NA  \n",
       "50  32          3.90   7      96     Good\n",
       "51  37          3.43   7      77     Good\n",
       "52  47          2.09   4      62     NA  \n",
       "53  47          2.71   8      53     NA  \n",
       "54  50          2.95   4      52     Good\n",
       "55  42          3.95   8      64     NA  \n",
       "56  68          3.77   9      74     Good\n",
       "57  68          3.36   4      75     NA  \n",
       "58  50          2.82   5      72     Good\n",
       "59  46          3.44   6      71     NA  \n",
       "60  47          3.33   4      75     NA  \n",
       "61  38          2.06   3      74     NA  \n",
       "62  47          3.79   7      70     NA  \n",
       "63  42          2.08   7      57     NA  \n",
       "64  32          2.01   8      76     Good\n",
       "65  63          2.38   7      77     Good\n",
       "66  71          3.65   7      67     NA  \n",
       "67  72          3.23   5      64     Good\n",
       "68  41          2.68   4      56     NA  \n",
       "69  54          2.53   5      80     Good\n",
       "70  49          2.19   4      85     NA  "
      ]
     },
     "metadata": {},
     "output_type": "display_data"
    }
   ],
   "source": [
    "human$Rating <- ifelse(!is.na(human$Rating), human$Rating, mean(human$Rating, na.rm = T))\n",
    "table(is.na(human$Rating))\n",
    "options(digits=3)\n",
    "human"
   ]
  },
  {
   "cell_type": "code",
   "execution_count": 218,
   "metadata": {},
   "outputs": [
    {
     "data": {
      "text/html": [
       "<ol class=list-inline>\n",
       "\t<li>3</li>\n",
       "\t<li>5</li>\n",
       "\t<li>7</li>\n",
       "\t<li>7</li>\n",
       "\t<li>10</li>\n",
       "</ol>\n"
      ],
      "text/latex": [
       "\\begin{enumerate*}\n",
       "\\item 3\n",
       "\\item 5\n",
       "\\item 7\n",
       "\\item 7\n",
       "\\item 10\n",
       "\\end{enumerate*}\n"
      ],
      "text/markdown": [
       "1. 3\n",
       "2. 5\n",
       "3. 7\n",
       "4. 7\n",
       "5. 10\n",
       "\n",
       "\n"
      ],
      "text/plain": [
       "     [,1]\n",
       "[1,]    3\n",
       "[2,]    5\n",
       "[3,]    7\n",
       "[4,]    7\n",
       "[5,]   10\n",
       "attr(,\"class\")\n",
       "        1 \n",
       "\"integer\" "
      ]
     },
     "metadata": {},
     "output_type": "display_data"
    },
    {
     "data": {
      "image/png": "[encoded data removed]",
      "text/plain": [
       "plot without title"
      ]
     },
     "metadata": {},
     "output_type": "display_data"
    }
   ],
   "source": [
    "boxplot(human$Career)$stats"
   ]
  },
  {
   "cell_type": "markdown",
   "metadata": {},
   "source": [
    "## 4. Career 변수값의 이상치 찾기"
   ]
  },
  {
   "cell_type": "code",
   "execution_count": 222,
   "metadata": {},
   "outputs": [
    {
     "data": {
      "text/plain": [
       "\n",
       " 4  5  6  7  8  9 \n",
       "11  9  9 20 11  3 "
      ]
     },
     "metadata": {},
     "output_type": "display_data"
    }
   ],
   "source": [
    "human$Career <- ifelse(human$Career >= 3 & human$Career <=10, human$Career, NA)\n",
    "table(human$Career)"
   ]
  },
  {
   "cell_type": "code",
   "execution_count": 224,
   "metadata": {},
   "outputs": [
    {
     "data": {
      "text/html": [
       "<table>\n",
       "<thead><tr><th scope=col>mean_Career</th></tr></thead>\n",
       "<tbody>\n",
       "\t<tr><td>6.32</td></tr>\n",
       "</tbody>\n",
       "</table>\n"
      ],
      "text/latex": [
       "\\begin{tabular}{r|l}\n",
       " mean\\_Career\\\\\n",
       "\\hline\n",
       "\t 6.32\\\\\n",
       "\\end{tabular}\n"
      ],
      "text/markdown": [
       "\n",
       "| mean_Career |\n",
       "|---|\n",
       "| 6.32 |\n",
       "\n"
      ],
      "text/plain": [
       "  mean_Career\n",
       "1 6.32       "
      ]
     },
     "metadata": {},
     "output_type": "display_data"
    }
   ],
   "source": [
    "human %>% \n",
    "    summarise(mean_Career = mean(Career, na.rm=T))"
   ]
  }
 ],
 "metadata": {
  "kernelspec": {
   "display_name": "R",
   "language": "R",
   "name": "ir"
  },
  "language_info": {
   "codemirror_mode": "r",
   "file_extension": ".r",
   "mimetype": "text/x-r-source",
   "name": "R",
   "pygments_lexer": "r",
   "version": "3.6.1"
  }
 },
 "nbformat": 4,
 "nbformat_minor": 4
}
