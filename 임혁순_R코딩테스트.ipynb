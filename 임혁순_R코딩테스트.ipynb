{
 "cells": [
  {
   "cell_type": "code",
   "execution_count": 12,
   "metadata": {},
   "outputs": [],
   "source": [
    "mpg <- as.data.frame(ggplot2::mpg)"
   ]
  },
  {
   "cell_type": "code",
   "execution_count": 13,
   "metadata": {},
   "outputs": [
    {
     "data": {
      "text/html": [
       "<table>\n",
       "<thead><tr><th scope=col>manufacturer</th><th scope=col>model</th><th scope=col>displ</th><th scope=col>year</th><th scope=col>cyl</th><th scope=col>trans</th><th scope=col>drv</th><th scope=col>cty</th><th scope=col>hwy</th><th scope=col>fl</th><th scope=col>class</th></tr></thead>\n",
       "<tbody>\n",
       "\t<tr><td>audi      </td><td>a4        </td><td>2         </td><td>1999      </td><td>4         </td><td>auto(l5)  </td><td>f         </td><td>18        </td><td>29        </td><td>p         </td><td>compact   </td></tr>\n",
       "\t<tr><td>audi      </td><td>a4        </td><td>2         </td><td>1999      </td><td>4         </td><td>manual(m5)</td><td>f         </td><td>21        </td><td>29        </td><td>p         </td><td>compact   </td></tr>\n",
       "\t<tr><td>audi      </td><td>a4        </td><td>2         </td><td>2008      </td><td>4         </td><td>manual(m6)</td><td>f         </td><td>20        </td><td>31        </td><td>p         </td><td>compact   </td></tr>\n",
       "\t<tr><td>audi      </td><td>a4        </td><td>2         </td><td>2008      </td><td>4         </td><td>auto(av)  </td><td>f         </td><td>21        </td><td>30        </td><td>p         </td><td>compact   </td></tr>\n",
       "\t<tr><td>audi      </td><td>a4        </td><td>3         </td><td>1999      </td><td>6         </td><td>auto(l5)  </td><td>f         </td><td>16        </td><td>26        </td><td>p         </td><td>compact   </td></tr>\n",
       "\t<tr><td>audi      </td><td>a4        </td><td>3         </td><td>1999      </td><td>6         </td><td>manual(m5)</td><td>f         </td><td>18        </td><td>26        </td><td>p         </td><td>compact   </td></tr>\n",
       "</tbody>\n",
       "</table>\n"
      ],
      "text/latex": [
       "\\begin{tabular}{r|lllllllllll}\n",
       " manufacturer & model & displ & year & cyl & trans & drv & cty & hwy & fl & class\\\\\n",
       "\\hline\n",
       "\t audi       & a4         & 2          & 1999       & 4          & auto(l5)   & f          & 18         & 29         & p          & compact   \\\\\n",
       "\t audi       & a4         & 2          & 1999       & 4          & manual(m5) & f          & 21         & 29         & p          & compact   \\\\\n",
       "\t audi       & a4         & 2          & 2008       & 4          & manual(m6) & f          & 20         & 31         & p          & compact   \\\\\n",
       "\t audi       & a4         & 2          & 2008       & 4          & auto(av)   & f          & 21         & 30         & p          & compact   \\\\\n",
       "\t audi       & a4         & 3          & 1999       & 6          & auto(l5)   & f          & 16         & 26         & p          & compact   \\\\\n",
       "\t audi       & a4         & 3          & 1999       & 6          & manual(m5) & f          & 18         & 26         & p          & compact   \\\\\n",
       "\\end{tabular}\n"
      ],
      "text/markdown": [
       "\n",
       "| manufacturer | model | displ | year | cyl | trans | drv | cty | hwy | fl | class |\n",
       "|---|---|---|---|---|---|---|---|---|---|---|\n",
       "| audi       | a4         | 2          | 1999       | 4          | auto(l5)   | f          | 18         | 29         | p          | compact    |\n",
       "| audi       | a4         | 2          | 1999       | 4          | manual(m5) | f          | 21         | 29         | p          | compact    |\n",
       "| audi       | a4         | 2          | 2008       | 4          | manual(m6) | f          | 20         | 31         | p          | compact    |\n",
       "| audi       | a4         | 2          | 2008       | 4          | auto(av)   | f          | 21         | 30         | p          | compact    |\n",
       "| audi       | a4         | 3          | 1999       | 6          | auto(l5)   | f          | 16         | 26         | p          | compact    |\n",
       "| audi       | a4         | 3          | 1999       | 6          | manual(m5) | f          | 18         | 26         | p          | compact    |\n",
       "\n"
      ],
      "text/plain": [
       "  manufacturer model displ year cyl trans      drv cty hwy fl class  \n",
       "1 audi         a4    2     1999 4   auto(l5)   f   18  29  p  compact\n",
       "2 audi         a4    2     1999 4   manual(m5) f   21  29  p  compact\n",
       "3 audi         a4    2     2008 4   manual(m6) f   20  31  p  compact\n",
       "4 audi         a4    2     2008 4   auto(av)   f   21  30  p  compact\n",
       "5 audi         a4    3     1999 6   auto(l5)   f   16  26  p  compact\n",
       "6 audi         a4    3     1999 6   manual(m5) f   18  26  p  compact"
      ]
     },
     "metadata": {},
     "output_type": "display_data"
    }
   ],
   "source": [
    "head(mpg)"
   ]
  },
  {
   "cell_type": "markdown",
   "metadata": {},
   "source": [
    "0.이상치 할당"
   ]
  },
  {
   "cell_type": "code",
   "execution_count": 17,
   "metadata": {},
   "outputs": [],
   "source": [
    "mpg[c(45, 120, 153, 200), 'drv'] <- 'k'"
   ]
  },
  {
   "cell_type": "code",
   "execution_count": 21,
   "metadata": {},
   "outputs": [],
   "source": [
    "mpg[c(44, 98, 128, 197), 'hwy'] <- c(4, 6, 29, 44)"
   ]
  },
  {
   "cell_type": "markdown",
   "metadata": {},
   "source": [
    "## drv column에 이상치 있는지 빈도표 이용하여 확인"
   ]
  },
  {
   "cell_type": "code",
   "execution_count": 23,
   "metadata": {},
   "outputs": [
    {
     "data": {
      "text/plain": [
       "\n",
       "  4   f   k   r \n",
       "101 104   4  25 "
      ]
     },
     "metadata": {},
     "output_type": "display_data"
    }
   ],
   "source": [
    "table(mpg$drv)"
   ]
  },
  {
   "cell_type": "markdown",
   "metadata": {},
   "source": [
    "=> drv에는 '4', 'f', 'r' value들이 정상이지만, 'k'가 4개 있는 것을 확인할 수 있음."
   ]
  },
  {
   "cell_type": "markdown",
   "metadata": {},
   "source": [
    "## drv 이상치 결측 처리\n"
   ]
  },
  {
   "cell_type": "code",
   "execution_count": 26,
   "metadata": {},
   "outputs": [
    {
     "data": {
      "text/plain": [
       "\n",
       "  4   f   r \n",
       "101 104  25 "
      ]
     },
     "metadata": {},
     "output_type": "display_data"
    },
    {
     "data": {
      "text/plain": [
       "\n",
       "FALSE  TRUE \n",
       "  230     4 "
      ]
     },
     "metadata": {},
     "output_type": "display_data"
    }
   ],
   "source": [
    "mpg$drv <- ifelse(mpg$drv == 'k', NA, mpg$drv)\n",
    "table(mpg$drv)\n",
    "table(is.na(mpg$drv))"
   ]
  },
  {
   "cell_type": "markdown",
   "metadata": {},
   "source": [
    "## hwy에 이상치가 있는지 상자 그림을 이용하여 확인"
   ]
  },
  {
   "cell_type": "code",
   "execution_count": 27,
   "metadata": {},
   "outputs": [
    {
     "data": {
      "image/png": "[encoded data removed]",
      "text/plain": [
       "plot without title"
      ]
     },
     "metadata": {},
     "output_type": "display_data"
    }
   ],
   "source": [
    "boxplot(mpg$hwy)"
   ]
  },
  {
   "cell_type": "markdown",
   "metadata": {},
   "source": [
    "-> 이상치 확인"
   ]
  },
  {
   "cell_type": "markdown",
   "metadata": {},
   "source": [
    "## 상자그림 통계치를 이용해 정상범위 벗어난 hwy값 결측 처리"
   ]
  },
  {
   "cell_type": "code",
   "execution_count": 29,
   "metadata": {
    "collapsed": true
   },
   "outputs": [
    {
     "data": {
      "text/html": [
       "<table>\n",
       "<tbody>\n",
       "\t<tr><td> 6</td></tr>\n",
       "\t<tr><td>18</td></tr>\n",
       "\t<tr><td>24</td></tr>\n",
       "\t<tr><td>27</td></tr>\n",
       "\t<tr><td>36</td></tr>\n",
       "</tbody>\n",
       "</table>\n"
      ],
      "text/latex": [
       "\\begin{tabular}{l}\n",
       "\t  6\\\\\n",
       "\t 18\\\\\n",
       "\t 24\\\\\n",
       "\t 27\\\\\n",
       "\t 36\\\\\n",
       "\\end{tabular}\n"
      ],
      "text/markdown": [
       "\n",
       "|  6 |\n",
       "| 18 |\n",
       "| 24 |\n",
       "| 27 |\n",
       "| 36 |\n",
       "\n"
      ],
      "text/plain": [
       "     [,1]\n",
       "[1,]  6  \n",
       "[2,] 18  \n",
       "[3,] 24  \n",
       "[4,] 27  \n",
       "[5,] 36  "
      ]
     },
     "metadata": {},
     "output_type": "display_data"
    },
    {
     "data": {
      "image/png": "[encoded data removed]",
      "text/plain": [
       "plot without title"
      ]
     },
     "metadata": {},
     "output_type": "display_data"
    }
   ],
   "source": [
    "boxplot(mpg$hwy)$stats"
   ]
  },
  {
   "cell_type": "code",
   "execution_count": 30,
   "metadata": {},
   "outputs": [
    {
     "data": {
      "text/plain": [
       "\n",
       "FALSE  TRUE \n",
       "  229     5 "
      ]
     },
     "metadata": {},
     "output_type": "display_data"
    }
   ],
   "source": [
    "mpg$hwy <- ifelse(mpg$hwy < 6 | mpg$hwy > 36, NA, mpg$hwy)\n",
    "table(is.na(mpg$hwy))"
   ]
  },
  {
   "cell_type": "markdown",
   "metadata": {},
   "source": [
    "## mpg에 cty와 hwy가 더해진 통합연비 나타내는 total 변수 추가"
   ]
  },
  {
   "cell_type": "code",
   "execution_count": 31,
   "metadata": {},
   "outputs": [],
   "source": [
    "mpg$total <- mpg$cty + mpg$hwy"
   ]
  },
  {
   "cell_type": "code",
   "execution_count": 32,
   "metadata": {},
   "outputs": [
    {
     "data": {
      "text/html": [
       "<table>\n",
       "<thead><tr><th scope=col>manufacturer</th><th scope=col>model</th><th scope=col>displ</th><th scope=col>year</th><th scope=col>cyl</th><th scope=col>trans</th><th scope=col>drv</th><th scope=col>cty</th><th scope=col>hwy</th><th scope=col>fl</th><th scope=col>class</th><th scope=col>total</th></tr></thead>\n",
       "<tbody>\n",
       "\t<tr><td>audi      </td><td>a4        </td><td>2         </td><td>1999      </td><td>4         </td><td>auto(l5)  </td><td>f         </td><td>18        </td><td>29        </td><td>p         </td><td>compact   </td><td>47        </td></tr>\n",
       "\t<tr><td>audi      </td><td>a4        </td><td>2         </td><td>1999      </td><td>4         </td><td>manual(m5)</td><td>f         </td><td>21        </td><td>29        </td><td>p         </td><td>compact   </td><td>50        </td></tr>\n",
       "\t<tr><td>audi      </td><td>a4        </td><td>2         </td><td>2008      </td><td>4         </td><td>manual(m6)</td><td>f         </td><td>20        </td><td>31        </td><td>p         </td><td>compact   </td><td>51        </td></tr>\n",
       "\t<tr><td>audi      </td><td>a4        </td><td>2         </td><td>2008      </td><td>4         </td><td>auto(av)  </td><td>f         </td><td>21        </td><td>30        </td><td>p         </td><td>compact   </td><td>51        </td></tr>\n",
       "\t<tr><td>audi      </td><td>a4        </td><td>3         </td><td>1999      </td><td>6         </td><td>auto(l5)  </td><td>f         </td><td>16        </td><td>26        </td><td>p         </td><td>compact   </td><td>42        </td></tr>\n",
       "\t<tr><td>audi      </td><td>a4        </td><td>3         </td><td>1999      </td><td>6         </td><td>manual(m5)</td><td>f         </td><td>18        </td><td>26        </td><td>p         </td><td>compact   </td><td>44        </td></tr>\n",
       "</tbody>\n",
       "</table>\n"
      ],
      "text/latex": [
       "\\begin{tabular}{r|llllllllllll}\n",
       " manufacturer & model & displ & year & cyl & trans & drv & cty & hwy & fl & class & total\\\\\n",
       "\\hline\n",
       "\t audi       & a4         & 2          & 1999       & 4          & auto(l5)   & f          & 18         & 29         & p          & compact    & 47        \\\\\n",
       "\t audi       & a4         & 2          & 1999       & 4          & manual(m5) & f          & 21         & 29         & p          & compact    & 50        \\\\\n",
       "\t audi       & a4         & 2          & 2008       & 4          & manual(m6) & f          & 20         & 31         & p          & compact    & 51        \\\\\n",
       "\t audi       & a4         & 2          & 2008       & 4          & auto(av)   & f          & 21         & 30         & p          & compact    & 51        \\\\\n",
       "\t audi       & a4         & 3          & 1999       & 6          & auto(l5)   & f          & 16         & 26         & p          & compact    & 42        \\\\\n",
       "\t audi       & a4         & 3          & 1999       & 6          & manual(m5) & f          & 18         & 26         & p          & compact    & 44        \\\\\n",
       "\\end{tabular}\n"
      ],
      "text/markdown": [
       "\n",
       "| manufacturer | model | displ | year | cyl | trans | drv | cty | hwy | fl | class | total |\n",
       "|---|---|---|---|---|---|---|---|---|---|---|---|\n",
       "| audi       | a4         | 2          | 1999       | 4          | auto(l5)   | f          | 18         | 29         | p          | compact    | 47         |\n",
       "| audi       | a4         | 2          | 1999       | 4          | manual(m5) | f          | 21         | 29         | p          | compact    | 50         |\n",
       "| audi       | a4         | 2          | 2008       | 4          | manual(m6) | f          | 20         | 31         | p          | compact    | 51         |\n",
       "| audi       | a4         | 2          | 2008       | 4          | auto(av)   | f          | 21         | 30         | p          | compact    | 51         |\n",
       "| audi       | a4         | 3          | 1999       | 6          | auto(l5)   | f          | 16         | 26         | p          | compact    | 42         |\n",
       "| audi       | a4         | 3          | 1999       | 6          | manual(m5) | f          | 18         | 26         | p          | compact    | 44         |\n",
       "\n"
      ],
      "text/plain": [
       "  manufacturer model displ year cyl trans      drv cty hwy fl class   total\n",
       "1 audi         a4    2     1999 4   auto(l5)   f   18  29  p  compact 47   \n",
       "2 audi         a4    2     1999 4   manual(m5) f   21  29  p  compact 50   \n",
       "3 audi         a4    2     2008 4   manual(m6) f   20  31  p  compact 51   \n",
       "4 audi         a4    2     2008 4   auto(av)   f   21  30  p  compact 51   \n",
       "5 audi         a4    3     1999 6   auto(l5)   f   16  26  p  compact 42   \n",
       "6 audi         a4    3     1999 6   manual(m5) f   18  26  p  compact 44   "
      ]
     },
     "metadata": {},
     "output_type": "display_data"
    }
   ],
   "source": [
    "head(mpg)"
   ]
  },
  {
   "cell_type": "markdown",
   "metadata": {},
   "source": [
    "## 어떤 class의 hwy가 높은지 비교하기. \n",
    "class별 hwy 평균 구하기 (단, 결측치 있는 경우는 데이터를 제외)"
   ]
  },
  {
   "cell_type": "code",
   "execution_count": 36,
   "metadata": {
    "collapsed": true
   },
   "outputs": [
    {
     "name": "stderr",
     "output_type": "stream",
     "text": [
      "\n",
      "Attaching package: 'dplyr'\n",
      "\n",
      "The following objects are masked from 'package:stats':\n",
      "\n",
      "    filter, lag\n",
      "\n",
      "The following objects are masked from 'package:base':\n",
      "\n",
      "    intersect, setdiff, setequal, union\n",
      "\n"
     ]
    }
   ],
   "source": [
    "library(dplyr)"
   ]
  },
  {
   "cell_type": "code",
   "execution_count": 37,
   "metadata": {},
   "outputs": [
    {
     "data": {
      "text/html": [
       "<table>\n",
       "<thead><tr><th scope=col>class</th><th scope=col>mean_hwy</th></tr></thead>\n",
       "<tbody>\n",
       "\t<tr><td>2seater   </td><td>25        </td></tr>\n",
       "\t<tr><td>compact   </td><td>28        </td></tr>\n",
       "\t<tr><td>midsize   </td><td>27        </td></tr>\n",
       "\t<tr><td>minivan   </td><td>23        </td></tr>\n",
       "\t<tr><td>pickup    </td><td>17        </td></tr>\n",
       "\t<tr><td>subcompact</td><td>27        </td></tr>\n",
       "\t<tr><td>suv       </td><td>18        </td></tr>\n",
       "</tbody>\n",
       "</table>\n"
      ],
      "text/latex": [
       "\\begin{tabular}{r|ll}\n",
       " class & mean\\_hwy\\\\\n",
       "\\hline\n",
       "\t 2seater    & 25        \\\\\n",
       "\t compact    & 28        \\\\\n",
       "\t midsize    & 27        \\\\\n",
       "\t minivan    & 23        \\\\\n",
       "\t pickup     & 17        \\\\\n",
       "\t subcompact & 27        \\\\\n",
       "\t suv        & 18        \\\\\n",
       "\\end{tabular}\n"
      ],
      "text/markdown": [
       "\n",
       "| class | mean_hwy |\n",
       "|---|---|\n",
       "| 2seater    | 25         |\n",
       "| compact    | 28         |\n",
       "| midsize    | 27         |\n",
       "| minivan    | 23         |\n",
       "| pickup     | 17         |\n",
       "| subcompact | 27         |\n",
       "| suv        | 18         |\n",
       "\n"
      ],
      "text/plain": [
       "  class      mean_hwy\n",
       "1 2seater    25      \n",
       "2 compact    28      \n",
       "3 midsize    27      \n",
       "4 minivan    23      \n",
       "5 pickup     17      \n",
       "6 subcompact 27      \n",
       "7 suv        18      "
      ]
     },
     "metadata": {},
     "output_type": "display_data"
    }
   ],
   "source": [
    "mpg %>%\n",
    "    filter(!is.na(hwy)) %>%\n",
    "    group_by(class) %>%\n",
    "    summarise(mean_hwy = mean(hwy))"
   ]
  },
  {
   "cell_type": "markdown",
   "metadata": {},
   "source": [
    "-> 차종(class)별 고속도로 연비 평균은 'compact'가 가장 높음을 알 수 있다."
   ]
  },
  {
   "cell_type": "markdown",
   "metadata": {},
   "source": [
    "## 어떤 회사(manufacturer)에서 'suv'를 가장 많이 생산하는 지 알아보기\n",
    "각 회사별 suv 차종 수를 정렬하여 상위 5개만 출력"
   ]
  },
  {
   "cell_type": "code",
   "execution_count": 38,
   "metadata": {},
   "outputs": [
    {
     "data": {
      "text/html": [
       "<table>\n",
       "<thead><tr><th scope=col>manufacturer</th><th scope=col>model</th><th scope=col>displ</th><th scope=col>year</th><th scope=col>cyl</th><th scope=col>trans</th><th scope=col>drv</th><th scope=col>cty</th><th scope=col>hwy</th><th scope=col>fl</th><th scope=col>class</th><th scope=col>total</th></tr></thead>\n",
       "<tbody>\n",
       "\t<tr><td>audi      </td><td>a4        </td><td>2         </td><td>1999      </td><td>4         </td><td>auto(l5)  </td><td>f         </td><td>18        </td><td>29        </td><td>p         </td><td>compact   </td><td>47        </td></tr>\n",
       "\t<tr><td>audi      </td><td>a4        </td><td>2         </td><td>1999      </td><td>4         </td><td>manual(m5)</td><td>f         </td><td>21        </td><td>29        </td><td>p         </td><td>compact   </td><td>50        </td></tr>\n",
       "\t<tr><td>audi      </td><td>a4        </td><td>2         </td><td>2008      </td><td>4         </td><td>manual(m6)</td><td>f         </td><td>20        </td><td>31        </td><td>p         </td><td>compact   </td><td>51        </td></tr>\n",
       "\t<tr><td>audi      </td><td>a4        </td><td>2         </td><td>2008      </td><td>4         </td><td>auto(av)  </td><td>f         </td><td>21        </td><td>30        </td><td>p         </td><td>compact   </td><td>51        </td></tr>\n",
       "\t<tr><td>audi      </td><td>a4        </td><td>3         </td><td>1999      </td><td>6         </td><td>auto(l5)  </td><td>f         </td><td>16        </td><td>26        </td><td>p         </td><td>compact   </td><td>42        </td></tr>\n",
       "\t<tr><td>audi      </td><td>a4        </td><td>3         </td><td>1999      </td><td>6         </td><td>manual(m5)</td><td>f         </td><td>18        </td><td>26        </td><td>p         </td><td>compact   </td><td>44        </td></tr>\n",
       "</tbody>\n",
       "</table>\n"
      ],
      "text/latex": [
       "\\begin{tabular}{r|llllllllllll}\n",
       " manufacturer & model & displ & year & cyl & trans & drv & cty & hwy & fl & class & total\\\\\n",
       "\\hline\n",
       "\t audi       & a4         & 2          & 1999       & 4          & auto(l5)   & f          & 18         & 29         & p          & compact    & 47        \\\\\n",
       "\t audi       & a4         & 2          & 1999       & 4          & manual(m5) & f          & 21         & 29         & p          & compact    & 50        \\\\\n",
       "\t audi       & a4         & 2          & 2008       & 4          & manual(m6) & f          & 20         & 31         & p          & compact    & 51        \\\\\n",
       "\t audi       & a4         & 2          & 2008       & 4          & auto(av)   & f          & 21         & 30         & p          & compact    & 51        \\\\\n",
       "\t audi       & a4         & 3          & 1999       & 6          & auto(l5)   & f          & 16         & 26         & p          & compact    & 42        \\\\\n",
       "\t audi       & a4         & 3          & 1999       & 6          & manual(m5) & f          & 18         & 26         & p          & compact    & 44        \\\\\n",
       "\\end{tabular}\n"
      ],
      "text/markdown": [
       "\n",
       "| manufacturer | model | displ | year | cyl | trans | drv | cty | hwy | fl | class | total |\n",
       "|---|---|---|---|---|---|---|---|---|---|---|---|\n",
       "| audi       | a4         | 2          | 1999       | 4          | auto(l5)   | f          | 18         | 29         | p          | compact    | 47         |\n",
       "| audi       | a4         | 2          | 1999       | 4          | manual(m5) | f          | 21         | 29         | p          | compact    | 50         |\n",
       "| audi       | a4         | 2          | 2008       | 4          | manual(m6) | f          | 20         | 31         | p          | compact    | 51         |\n",
       "| audi       | a4         | 2          | 2008       | 4          | auto(av)   | f          | 21         | 30         | p          | compact    | 51         |\n",
       "| audi       | a4         | 3          | 1999       | 6          | auto(l5)   | f          | 16         | 26         | p          | compact    | 42         |\n",
       "| audi       | a4         | 3          | 1999       | 6          | manual(m5) | f          | 18         | 26         | p          | compact    | 44         |\n",
       "\n"
      ],
      "text/plain": [
       "  manufacturer model displ year cyl trans      drv cty hwy fl class   total\n",
       "1 audi         a4    2     1999 4   auto(l5)   f   18  29  p  compact 47   \n",
       "2 audi         a4    2     1999 4   manual(m5) f   21  29  p  compact 50   \n",
       "3 audi         a4    2     2008 4   manual(m6) f   20  31  p  compact 51   \n",
       "4 audi         a4    2     2008 4   auto(av)   f   21  30  p  compact 51   \n",
       "5 audi         a4    3     1999 6   auto(l5)   f   16  26  p  compact 42   \n",
       "6 audi         a4    3     1999 6   manual(m5) f   18  26  p  compact 44   "
      ]
     },
     "metadata": {},
     "output_type": "display_data"
    }
   ],
   "source": [
    "head(mpg)"
   ]
  },
  {
   "cell_type": "code",
   "execution_count": 51,
   "metadata": {},
   "outputs": [
    {
     "data": {
      "text/html": [
       "<table>\n",
       "<thead><tr><th scope=col>manufacturer</th><th scope=col>n</th></tr></thead>\n",
       "<tbody>\n",
       "\t<tr><td>chevrolet</td><td>9        </td></tr>\n",
       "\t<tr><td>ford     </td><td>9        </td></tr>\n",
       "\t<tr><td>jeep     </td><td>8        </td></tr>\n",
       "\t<tr><td>toyota   </td><td>8        </td></tr>\n",
       "\t<tr><td>dodge    </td><td>7        </td></tr>\n",
       "</tbody>\n",
       "</table>\n"
      ],
      "text/latex": [
       "\\begin{tabular}{r|ll}\n",
       " manufacturer & n\\\\\n",
       "\\hline\n",
       "\t chevrolet & 9        \\\\\n",
       "\t ford      & 9        \\\\\n",
       "\t jeep      & 8        \\\\\n",
       "\t toyota    & 8        \\\\\n",
       "\t dodge     & 7        \\\\\n",
       "\\end{tabular}\n"
      ],
      "text/markdown": [
       "\n",
       "| manufacturer | n |\n",
       "|---|---|\n",
       "| chevrolet | 9         |\n",
       "| ford      | 9         |\n",
       "| jeep      | 8         |\n",
       "| toyota    | 8         |\n",
       "| dodge     | 7         |\n",
       "\n"
      ],
      "text/plain": [
       "  manufacturer n\n",
       "1 chevrolet    9\n",
       "2 ford         9\n",
       "3 jeep         8\n",
       "4 toyota       8\n",
       "5 dodge        7"
      ]
     },
     "metadata": {},
     "output_type": "display_data"
    }
   ],
   "source": [
    "no_suv <-mpg %>%\n",
    "        filter(mpg$class=='suv') %>%\n",
    "        group_by(manufacturer) %>%\n",
    "        summarise(n = n()) %>%\n",
    "        arrange(desc(n)) %>%\n",
    "        head(5)\n",
    "no_suv"
   ]
  },
  {
   "cell_type": "code",
   "execution_count": 49,
   "metadata": {
    "collapsed": true
   },
   "outputs": [
    {
     "name": "stderr",
     "output_type": "stream",
     "text": [
      "Warning message:\n",
      "\"package 'ggplot2' was built under R version 3.6.3\"\n",
      "Attaching package: 'ggplot2'\n",
      "\n",
      "The following object is masked _by_ '.GlobalEnv':\n",
      "\n",
      "    mpg\n",
      "\n"
     ]
    }
   ],
   "source": [
    "library(ggplot2)"
   ]
  },
  {
   "cell_type": "code",
   "execution_count": 53,
   "metadata": {},
   "outputs": [
    {
     "data": {
      "image/png": "[encoded data removed]",
      "text/plain": [
       "plot without title"
      ]
     },
     "metadata": {},
     "output_type": "display_data"
    }
   ],
   "source": [
    "ggplot(no_suv, aes(x = reorder(manufacturer, n), y=n)) +\n",
    "    geom_col() +\n",
    "    coord_flip()"
   ]
  },
  {
   "cell_type": "code",
   "execution_count": null,
   "metadata": {},
   "outputs": [],
   "source": []
  }
 ],
 "metadata": {
  "kernelspec": {
   "display_name": "R",
   "language": "R",
   "name": "ir"
  },
  "language_info": {
   "codemirror_mode": "r",
   "file_extension": ".r",
   "mimetype": "text/x-r-source",
   "name": "R",
   "pygments_lexer": "r",
   "version": "3.6.1"
  },
  "toc": {
   "base_numbering": 1,
   "nav_menu": {},
   "number_sections": true,
   "sideBar": true,
   "skip_h1_title": false,
   "title_cell": "Table of Contents",
   "title_sidebar": "Contents",
   "toc_cell": false,
   "toc_position": {},
   "toc_section_display": true,
   "toc_window_display": false
  }
 },
 "nbformat": 4,
 "nbformat_minor": 4
}
